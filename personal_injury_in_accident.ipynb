{
 "cells": [
  {
   "cell_type": "code",
   "execution_count": 29,
   "id": "a5064d98",
   "metadata": {},
   "outputs": [],
   "source": [
    "import pandas as pd\n",
    "import datetime as dt\n",
    "import numpy as np\n",
    "import matplotlib.pyplot as plt\n",
    "import seaborn as sns\n",
    "import scipy.stats as stats\n",
    "from sklearn.model_selection import train_test_split\n",
    "import math\n",
    "\n",
    "import warnings\n",
    "warnings.filterwarnings('ignore')"
   ]
  },
  {
   "cell_type": "code",
   "execution_count": 129,
   "id": "137e9d1c",
   "metadata": {},
   "outputs": [
    {
     "data": {
      "text/html": [
       "<div>\n",
       "<style scoped>\n",
       "    .dataframe tbody tr th:only-of-type {\n",
       "        vertical-align: middle;\n",
       "    }\n",
       "\n",
       "    .dataframe tbody tr th {\n",
       "        vertical-align: top;\n",
       "    }\n",
       "\n",
       "    .dataframe thead th {\n",
       "        text-align: right;\n",
       "    }\n",
       "</style>\n",
       "<table border=\"1\" class=\"dataframe\">\n",
       "  <thead>\n",
       "    <tr style=\"text-align: right;\">\n",
       "      <th></th>\n",
       "      <th>SeqID</th>\n",
       "      <th>Date Of Stop</th>\n",
       "      <th>Time Of Stop</th>\n",
       "      <th>Agency</th>\n",
       "      <th>SubAgency</th>\n",
       "      <th>Description</th>\n",
       "      <th>Location</th>\n",
       "      <th>Latitude</th>\n",
       "      <th>Longitude</th>\n",
       "      <th>Accident</th>\n",
       "      <th>...</th>\n",
       "      <th>Charge</th>\n",
       "      <th>Article</th>\n",
       "      <th>Contributed To Accident</th>\n",
       "      <th>Race</th>\n",
       "      <th>Gender</th>\n",
       "      <th>Driver City</th>\n",
       "      <th>Driver State</th>\n",
       "      <th>DL State</th>\n",
       "      <th>Arrest Type</th>\n",
       "      <th>Geolocation</th>\n",
       "    </tr>\n",
       "  </thead>\n",
       "  <tbody>\n",
       "    <tr>\n",
       "      <th>0</th>\n",
       "      <td>fbc324ab-bc8d-4743-ba23-7f9f370005e1</td>\n",
       "      <td>08/11/2019</td>\n",
       "      <td>20:02:00</td>\n",
       "      <td>MCP</td>\n",
       "      <td>2nd District, Bethesda</td>\n",
       "      <td>LEAVING UNATTENDED VEH. W/O STOPPING ENGINE, L...</td>\n",
       "      <td>CORDELL ST @ NORFOLK AVE.</td>\n",
       "      <td>38.989743</td>\n",
       "      <td>-77.097770</td>\n",
       "      <td>No</td>\n",
       "      <td>...</td>\n",
       "      <td>21-1101(a)</td>\n",
       "      <td>Transportation Article</td>\n",
       "      <td>False</td>\n",
       "      <td>BLACK</td>\n",
       "      <td>M</td>\n",
       "      <td>SILVER SPRING</td>\n",
       "      <td>MD</td>\n",
       "      <td>MD</td>\n",
       "      <td>A - Marked Patrol</td>\n",
       "      <td>(38.9897433333333, -77.09777)</td>\n",
       "    </tr>\n",
       "    <tr>\n",
       "      <th>1</th>\n",
       "      <td>a6d904ec-d666-4bc3-8984-f37a4b31854d</td>\n",
       "      <td>08/12/2019</td>\n",
       "      <td>13:41:00</td>\n",
       "      <td>MCP</td>\n",
       "      <td>2nd District, Bethesda</td>\n",
       "      <td>EXCEEDING POSTED MAXIMUM SPEED LIMIT: 85 MPH I...</td>\n",
       "      <td>NBI270 AT MIDDLEBROOK RD</td>\n",
       "      <td>39.174110</td>\n",
       "      <td>-77.246170</td>\n",
       "      <td>No</td>\n",
       "      <td>...</td>\n",
       "      <td>21-801.1</td>\n",
       "      <td>Transportation Article</td>\n",
       "      <td>False</td>\n",
       "      <td>WHITE</td>\n",
       "      <td>M</td>\n",
       "      <td>SILVER SPRING</td>\n",
       "      <td>MD</td>\n",
       "      <td>MD</td>\n",
       "      <td>A - Marked Patrol</td>\n",
       "      <td>(39.17411, -77.24617)</td>\n",
       "    </tr>\n",
       "    <tr>\n",
       "      <th>2</th>\n",
       "      <td>54a64f6a-df28-4b65-a335-08883866aa46</td>\n",
       "      <td>08/12/2019</td>\n",
       "      <td>21:00:00</td>\n",
       "      <td>MCP</td>\n",
       "      <td>5th District, Germantown</td>\n",
       "      <td>DRIVING VEH W/ TV-TYPE RECEIVING VIDEO EQUIP T...</td>\n",
       "      <td>MIDDLEBROOK AN 355</td>\n",
       "      <td>39.182015</td>\n",
       "      <td>-77.238221</td>\n",
       "      <td>No</td>\n",
       "      <td>...</td>\n",
       "      <td>21-1129</td>\n",
       "      <td>Transportation Article</td>\n",
       "      <td>False</td>\n",
       "      <td>BLACK</td>\n",
       "      <td>M</td>\n",
       "      <td>GAITHERSBURG</td>\n",
       "      <td>MD</td>\n",
       "      <td>MD</td>\n",
       "      <td>A - Marked Patrol</td>\n",
       "      <td>(39.1820155, -77.2382213333333)</td>\n",
       "    </tr>\n",
       "    <tr>\n",
       "      <th>3</th>\n",
       "      <td>cf5479b6-9bc7-4216-a7b2-99e57ae932af</td>\n",
       "      <td>08/12/2019</td>\n",
       "      <td>21:43:00</td>\n",
       "      <td>MCP</td>\n",
       "      <td>5th District, Germantown</td>\n",
       "      <td>DRIVING VEHICLE ON HIGHWAY WITH SUSPENDED REGI...</td>\n",
       "      <td>GERMANTOWN RD AND ALE HOUSE</td>\n",
       "      <td>39.160508</td>\n",
       "      <td>-77.284023</td>\n",
       "      <td>No</td>\n",
       "      <td>...</td>\n",
       "      <td>13-401(h)</td>\n",
       "      <td>Transportation Article</td>\n",
       "      <td>False</td>\n",
       "      <td>BLACK</td>\n",
       "      <td>M</td>\n",
       "      <td>GERMANTOWN</td>\n",
       "      <td>MD</td>\n",
       "      <td>MD</td>\n",
       "      <td>A - Marked Patrol</td>\n",
       "      <td>(39.1605076666667, -77.284023)</td>\n",
       "    </tr>\n",
       "    <tr>\n",
       "      <th>4</th>\n",
       "      <td>5601ca35-8ee7-4f8e-9208-d89cde96d469</td>\n",
       "      <td>08/12/2019</td>\n",
       "      <td>21:30:00</td>\n",
       "      <td>MCP</td>\n",
       "      <td>2nd District, Bethesda</td>\n",
       "      <td>FAILURE OF LICENSEE TO NOTIFY ADMINISTRATION O...</td>\n",
       "      <td>EASTWEST/ 355</td>\n",
       "      <td>38.984247</td>\n",
       "      <td>-77.090548</td>\n",
       "      <td>No</td>\n",
       "      <td>...</td>\n",
       "      <td>16-116(a)</td>\n",
       "      <td>Transportation Article</td>\n",
       "      <td>False</td>\n",
       "      <td>BLACK</td>\n",
       "      <td>M</td>\n",
       "      <td>SILVER SPRING</td>\n",
       "      <td>MD</td>\n",
       "      <td>MD</td>\n",
       "      <td>A - Marked Patrol</td>\n",
       "      <td>(38.9842466666667, -77.0905483333333)</td>\n",
       "    </tr>\n",
       "  </tbody>\n",
       "</table>\n",
       "<p>5 rows × 43 columns</p>\n",
       "</div>"
      ],
      "text/plain": [
       "                                  SeqID Date Of Stop Time Of Stop Agency  \\\n",
       "0  fbc324ab-bc8d-4743-ba23-7f9f370005e1   08/11/2019     20:02:00    MCP   \n",
       "1  a6d904ec-d666-4bc3-8984-f37a4b31854d   08/12/2019     13:41:00    MCP   \n",
       "2  54a64f6a-df28-4b65-a335-08883866aa46   08/12/2019     21:00:00    MCP   \n",
       "3  cf5479b6-9bc7-4216-a7b2-99e57ae932af   08/12/2019     21:43:00    MCP   \n",
       "4  5601ca35-8ee7-4f8e-9208-d89cde96d469   08/12/2019     21:30:00    MCP   \n",
       "\n",
       "                  SubAgency  \\\n",
       "0    2nd District, Bethesda   \n",
       "1    2nd District, Bethesda   \n",
       "2  5th District, Germantown   \n",
       "3  5th District, Germantown   \n",
       "4    2nd District, Bethesda   \n",
       "\n",
       "                                         Description  \\\n",
       "0  LEAVING UNATTENDED VEH. W/O STOPPING ENGINE, L...   \n",
       "1  EXCEEDING POSTED MAXIMUM SPEED LIMIT: 85 MPH I...   \n",
       "2  DRIVING VEH W/ TV-TYPE RECEIVING VIDEO EQUIP T...   \n",
       "3  DRIVING VEHICLE ON HIGHWAY WITH SUSPENDED REGI...   \n",
       "4  FAILURE OF LICENSEE TO NOTIFY ADMINISTRATION O...   \n",
       "\n",
       "                      Location   Latitude  Longitude Accident  ...  \\\n",
       "0    CORDELL ST @ NORFOLK AVE.  38.989743 -77.097770       No  ...   \n",
       "1     NBI270 AT MIDDLEBROOK RD  39.174110 -77.246170       No  ...   \n",
       "2           MIDDLEBROOK AN 355  39.182015 -77.238221       No  ...   \n",
       "3  GERMANTOWN RD AND ALE HOUSE  39.160508 -77.284023       No  ...   \n",
       "4                EASTWEST/ 355  38.984247 -77.090548       No  ...   \n",
       "\n",
       "       Charge                 Article Contributed To Accident   Race Gender  \\\n",
       "0  21-1101(a)  Transportation Article                   False  BLACK      M   \n",
       "1    21-801.1  Transportation Article                   False  WHITE      M   \n",
       "2     21-1129  Transportation Article                   False  BLACK      M   \n",
       "3   13-401(h)  Transportation Article                   False  BLACK      M   \n",
       "4   16-116(a)  Transportation Article                   False  BLACK      M   \n",
       "\n",
       "     Driver City Driver State DL State        Arrest Type  \\\n",
       "0  SILVER SPRING           MD       MD  A - Marked Patrol   \n",
       "1  SILVER SPRING           MD       MD  A - Marked Patrol   \n",
       "2   GAITHERSBURG           MD       MD  A - Marked Patrol   \n",
       "3     GERMANTOWN           MD       MD  A - Marked Patrol   \n",
       "4  SILVER SPRING           MD       MD  A - Marked Patrol   \n",
       "\n",
       "                             Geolocation  \n",
       "0          (38.9897433333333, -77.09777)  \n",
       "1                  (39.17411, -77.24617)  \n",
       "2        (39.1820155, -77.2382213333333)  \n",
       "3         (39.1605076666667, -77.284023)  \n",
       "4  (38.9842466666667, -77.0905483333333)  \n",
       "\n",
       "[5 rows x 43 columns]"
      ]
     },
     "execution_count": 129,
     "metadata": {},
     "output_type": "execute_result"
    }
   ],
   "source": [
    "def acquire_data():\n",
    "    df = pd.read_csv('Traffic_Violations_montgomery_county.csv')\n",
    "    return df\n",
    "df = acquire_data()\n",
    "df.head()"
   ]
  },
  {
   "cell_type": "code",
   "execution_count": 130,
   "id": "7f76b396",
   "metadata": {},
   "outputs": [],
   "source": [
    "def clean_data(df):\n",
    "    # drop columns\n",
    "    drop_col = ['SeqID', 'Agency', 'Accident', 'Fatal', 'Commercial License','HAZMAT', 'Commercial Vehicle', \n",
    "                'Work Zone', 'State', 'VehicleType', 'Year', 'Make', 'Model', 'Color', 'Charge', 'Article', \n",
    "                'Driver State', 'DL State', 'Search Reason For Stop', 'Search Arrest Reason', 'Location',\n",
    "                'Search Conducted', 'Search Disposition', 'Search Outcome', 'Search Reason', 'Search Type',\n",
    "                'Geolocation','Latitude', 'Longitude','Description', 'Driver City', 'Arrest Type']\n",
    "    df = df.drop(columns = drop_col)\n",
    "    \n",
    "    # # convert time format\n",
    "    df['date_time'] = df['Date Of Stop'] + ' ' + df['Time Of Stop']\n",
    "    col = ['Date Of Stop', 'Time Of Stop']\n",
    "    df = df.drop(columns = col)\n",
    "    df['date_time'] = pd.to_datetime(df['date_time'])\n",
    "    \n",
    "    # set the time to index and create new columns for year, month, day of the week and hour\n",
    "    df.set_index('date_time', inplace=True)\n",
    "    df.sort_index(inplace=True)\n",
    "    df['month'] = df.index.strftime('%m-%b')\n",
    "    df['day_of_week'] = df.index.strftime('%A')\n",
    "    df['year'] = df.index.strftime('%Y')\n",
    "    df['hour'] = df.index.strftime('%H')\n",
    "    \n",
    "    # convert the boolean value into int\n",
    "    df['Contributed To Accident'] = np.where(df['Contributed To Accident'] == True, 1, df['Contributed To Accident'])\n",
    "    df['Contributed To Accident'] = np.where(df['Contributed To Accident'] == False, 0, df['Contributed To Accident'])\n",
    "\n",
    "    # SubAgency S15 and W15 only have less than 10 rows.\n",
    "    df = df[df.SubAgency != 'S15']\n",
    "    df = df[df.SubAgency != 'W15']\n",
    "    return df"
   ]
  },
  {
   "cell_type": "code",
   "execution_count": 131,
   "id": "0661de90",
   "metadata": {},
   "outputs": [
    {
     "data": {
      "text/html": [
       "<div>\n",
       "<style scoped>\n",
       "    .dataframe tbody tr th:only-of-type {\n",
       "        vertical-align: middle;\n",
       "    }\n",
       "\n",
       "    .dataframe tbody tr th {\n",
       "        vertical-align: top;\n",
       "    }\n",
       "\n",
       "    .dataframe thead th {\n",
       "        text-align: right;\n",
       "    }\n",
       "</style>\n",
       "<table border=\"1\" class=\"dataframe\">\n",
       "  <thead>\n",
       "    <tr style=\"text-align: right;\">\n",
       "      <th></th>\n",
       "      <th>SubAgency</th>\n",
       "      <th>Belts</th>\n",
       "      <th>Personal Injury</th>\n",
       "      <th>Property Damage</th>\n",
       "      <th>Alcohol</th>\n",
       "      <th>Violation Type</th>\n",
       "      <th>Contributed To Accident</th>\n",
       "      <th>Race</th>\n",
       "      <th>Gender</th>\n",
       "      <th>month</th>\n",
       "      <th>day_of_week</th>\n",
       "      <th>year</th>\n",
       "      <th>hour</th>\n",
       "    </tr>\n",
       "    <tr>\n",
       "      <th>date_time</th>\n",
       "      <th></th>\n",
       "      <th></th>\n",
       "      <th></th>\n",
       "      <th></th>\n",
       "      <th></th>\n",
       "      <th></th>\n",
       "      <th></th>\n",
       "      <th></th>\n",
       "      <th></th>\n",
       "      <th></th>\n",
       "      <th></th>\n",
       "      <th></th>\n",
       "      <th></th>\n",
       "    </tr>\n",
       "  </thead>\n",
       "  <tbody>\n",
       "    <tr>\n",
       "      <th>2012-01-01 00:43:00</th>\n",
       "      <td>Headquarters and Special Operations</td>\n",
       "      <td>No</td>\n",
       "      <td>No</td>\n",
       "      <td>No</td>\n",
       "      <td>No</td>\n",
       "      <td>Warning</td>\n",
       "      <td>0</td>\n",
       "      <td>WHITE</td>\n",
       "      <td>M</td>\n",
       "      <td>01-Jan</td>\n",
       "      <td>Sunday</td>\n",
       "      <td>2012</td>\n",
       "      <td>00</td>\n",
       "    </tr>\n",
       "    <tr>\n",
       "      <th>2012-01-01 00:52:00</th>\n",
       "      <td>3rd District, Silver Spring</td>\n",
       "      <td>No</td>\n",
       "      <td>No</td>\n",
       "      <td>No</td>\n",
       "      <td>No</td>\n",
       "      <td>Citation</td>\n",
       "      <td>0</td>\n",
       "      <td>HISPANIC</td>\n",
       "      <td>F</td>\n",
       "      <td>01-Jan</td>\n",
       "      <td>Sunday</td>\n",
       "      <td>2012</td>\n",
       "      <td>00</td>\n",
       "    </tr>\n",
       "    <tr>\n",
       "      <th>2012-01-01 00:52:00</th>\n",
       "      <td>3rd District, Silver Spring</td>\n",
       "      <td>No</td>\n",
       "      <td>No</td>\n",
       "      <td>No</td>\n",
       "      <td>No</td>\n",
       "      <td>Citation</td>\n",
       "      <td>0</td>\n",
       "      <td>HISPANIC</td>\n",
       "      <td>F</td>\n",
       "      <td>01-Jan</td>\n",
       "      <td>Sunday</td>\n",
       "      <td>2012</td>\n",
       "      <td>00</td>\n",
       "    </tr>\n",
       "    <tr>\n",
       "      <th>2012-01-01 00:52:00</th>\n",
       "      <td>3rd District, Silver Spring</td>\n",
       "      <td>No</td>\n",
       "      <td>No</td>\n",
       "      <td>No</td>\n",
       "      <td>No</td>\n",
       "      <td>Citation</td>\n",
       "      <td>0</td>\n",
       "      <td>HISPANIC</td>\n",
       "      <td>F</td>\n",
       "      <td>01-Jan</td>\n",
       "      <td>Sunday</td>\n",
       "      <td>2012</td>\n",
       "      <td>00</td>\n",
       "    </tr>\n",
       "    <tr>\n",
       "      <th>2012-01-01 00:52:00</th>\n",
       "      <td>3rd District, Silver Spring</td>\n",
       "      <td>No</td>\n",
       "      <td>No</td>\n",
       "      <td>No</td>\n",
       "      <td>No</td>\n",
       "      <td>Citation</td>\n",
       "      <td>0</td>\n",
       "      <td>HISPANIC</td>\n",
       "      <td>F</td>\n",
       "      <td>01-Jan</td>\n",
       "      <td>Sunday</td>\n",
       "      <td>2012</td>\n",
       "      <td>00</td>\n",
       "    </tr>\n",
       "  </tbody>\n",
       "</table>\n",
       "</div>"
      ],
      "text/plain": [
       "                                               SubAgency Belts  \\\n",
       "date_time                                                        \n",
       "2012-01-01 00:43:00  Headquarters and Special Operations    No   \n",
       "2012-01-01 00:52:00          3rd District, Silver Spring    No   \n",
       "2012-01-01 00:52:00          3rd District, Silver Spring    No   \n",
       "2012-01-01 00:52:00          3rd District, Silver Spring    No   \n",
       "2012-01-01 00:52:00          3rd District, Silver Spring    No   \n",
       "\n",
       "                    Personal Injury Property Damage Alcohol Violation Type  \\\n",
       "date_time                                                                    \n",
       "2012-01-01 00:43:00              No              No      No        Warning   \n",
       "2012-01-01 00:52:00              No              No      No       Citation   \n",
       "2012-01-01 00:52:00              No              No      No       Citation   \n",
       "2012-01-01 00:52:00              No              No      No       Citation   \n",
       "2012-01-01 00:52:00              No              No      No       Citation   \n",
       "\n",
       "                     Contributed To Accident      Race Gender   month  \\\n",
       "date_time                                                               \n",
       "2012-01-01 00:43:00                        0     WHITE      M  01-Jan   \n",
       "2012-01-01 00:52:00                        0  HISPANIC      F  01-Jan   \n",
       "2012-01-01 00:52:00                        0  HISPANIC      F  01-Jan   \n",
       "2012-01-01 00:52:00                        0  HISPANIC      F  01-Jan   \n",
       "2012-01-01 00:52:00                        0  HISPANIC      F  01-Jan   \n",
       "\n",
       "                    day_of_week  year hour  \n",
       "date_time                                   \n",
       "2012-01-01 00:43:00      Sunday  2012   00  \n",
       "2012-01-01 00:52:00      Sunday  2012   00  \n",
       "2012-01-01 00:52:00      Sunday  2012   00  \n",
       "2012-01-01 00:52:00      Sunday  2012   00  \n",
       "2012-01-01 00:52:00      Sunday  2012   00  "
      ]
     },
     "execution_count": 131,
     "metadata": {},
     "output_type": "execute_result"
    }
   ],
   "source": [
    "df = clean_data(df)\n",
    "df.head()"
   ]
  },
  {
   "cell_type": "code",
   "execution_count": 132,
   "id": "8752753c",
   "metadata": {},
   "outputs": [
    {
     "name": "stdout",
     "output_type": "stream",
     "text": [
      "<class 'pandas.core.frame.DataFrame'>\n",
      "DatetimeIndex: 48076 entries, 2012-01-01 01:30:00 to 2022-08-13 09:04:00\n",
      "Data columns (total 13 columns):\n",
      " #   Column                   Non-Null Count  Dtype \n",
      "---  ------                   --------------  ----- \n",
      " 0   SubAgency                48076 non-null  object\n",
      " 1   Belts                    48076 non-null  object\n",
      " 2   Personal Injury          48076 non-null  object\n",
      " 3   Property Damage          48076 non-null  object\n",
      " 4   Alcohol                  48076 non-null  object\n",
      " 5   Violation Type           48076 non-null  object\n",
      " 6   Contributed To Accident  48076 non-null  int64 \n",
      " 7   Race                     48076 non-null  object\n",
      " 8   Gender                   48076 non-null  object\n",
      " 9   month                    48076 non-null  object\n",
      " 10  day_of_week              48076 non-null  object\n",
      " 11  year                     48076 non-null  object\n",
      " 12  hour                     48076 non-null  object\n",
      "dtypes: int64(1), object(12)\n",
      "memory usage: 5.1+ MB\n"
     ]
    }
   ],
   "source": [
    "df = df[df['Contributed To Accident'] == 1]\n",
    "df.info()"
   ]
  },
  {
   "cell_type": "code",
   "execution_count": 133,
   "id": "4220382f",
   "metadata": {},
   "outputs": [],
   "source": [
    "def split_data(df):\n",
    "    train_validate, test = train_test_split(df, test_size=.2, \n",
    "                                        random_state=123)\n",
    "\n",
    "    train, validate = train_test_split(train_validate, test_size=.3, \n",
    "                                       random_state=123)\n",
    "    \n",
    "    return train, validate, test\n",
    "\n",
    "# , stratify=df['Personal Injury']"
   ]
  },
  {
   "cell_type": "code",
   "execution_count": 134,
   "id": "bba63444",
   "metadata": {},
   "outputs": [
    {
     "data": {
      "text/plain": [
       "((26922, 13), (11538, 13), (9616, 13))"
      ]
     },
     "execution_count": 134,
     "metadata": {},
     "output_type": "execute_result"
    }
   ],
   "source": [
    "train, validate, test = split_data(df)\n",
    "train.shape, validate.shape, test.shape"
   ]
  },
  {
   "cell_type": "markdown",
   "id": "9a5fa089",
   "metadata": {},
   "source": [
    "## Explore"
   ]
  },
  {
   "cell_type": "markdown",
   "id": "b993a183",
   "metadata": {},
   "source": [
    "1. does personal injury in accident related to time?"
   ]
  },
  {
   "cell_type": "code",
   "execution_count": 146,
   "id": "a1665211",
   "metadata": {},
   "outputs": [
    {
     "data": {
      "text/plain": [
       "<AxesSubplot:xlabel='year', ylabel='Count'>"
      ]
     },
     "execution_count": 146,
     "metadata": {},
     "output_type": "execute_result"
    },
    {
     "data": {
      "image/png": "[encoded data removed]",
      "text/plain": [
       "<Figure size 1080x216 with 1 Axes>"
      ]
     },
     "metadata": {
      "needs_background": "light"
     },
     "output_type": "display_data"
    }
   ],
   "source": [
    "# plt.rcParams[\"figure.figsize\"] = (10,4)\n",
    "sns.histplot(train.year.sort_index(ascending=True))"
   ]
  },
  {
   "cell_type": "code",
   "execution_count": 145,
   "id": "5abd7ae0",
   "metadata": {},
   "outputs": [
    {
     "data": {
      "text/plain": [
       "<AxesSubplot:xlabel='hour', ylabel='Count'>"
      ]
     },
     "execution_count": 145,
     "metadata": {},
     "output_type": "execute_result"
    },
    {
     "data": {
      "image/png": "[encoded data removed]",
      "text/plain": [
       "<Figure size 1080x216 with 1 Axes>"
      ]
     },
     "metadata": {
      "needs_background": "light"
     },
     "output_type": "display_data"
    }
   ],
   "source": [
    "sns.histplot(train.hour.sort_index(ascending=True))"
   ]
  },
  {
   "cell_type": "code",
   "execution_count": 140,
   "id": "9c7babf7",
   "metadata": {},
   "outputs": [
    {
     "data": {
      "text/plain": [
       "<AxesSubplot:xlabel='month', ylabel='Count'>"
      ]
     },
     "execution_count": 140,
     "metadata": {},
     "output_type": "execute_result"
    },
    {
     "data": {
      "image/png": "[encoded data removed]",
      "text/plain": [
       "<Figure size 1080x216 with 1 Axes>"
      ]
     },
     "metadata": {
      "needs_background": "light"
     },
     "output_type": "display_data"
    }
   ],
   "source": [
    "sns.histplot(train.month.sort_index(ascending=True))"
   ]
  },
  {
   "cell_type": "code",
   "execution_count": 147,
   "id": "39a389d8",
   "metadata": {},
   "outputs": [],
   "source": [
    "hour = pd.crosstab(train.hour, train['Personal Injury'], normalize = 'index').sort_index(ascending=False)\n",
    "day_of_week = pd.crosstab(train.day_of_week, train['Personal Injury'], normalize = 'index').sort_index(ascending=False)\n",
    "month = pd.crosstab(train.month, train['Personal Injury'], normalize = 'index').sort_index(ascending=False)\n",
    "year = pd.crosstab(train.year, train['Personal Injury'], normalize = 'index').sort_index(ascending=False)"
   ]
  },
  {
   "cell_type": "code",
   "execution_count": 148,
   "id": "580d0dae",
   "metadata": {},
   "outputs": [
    {
     "data": {
      "text/plain": [
       "<AxesSubplot:ylabel='year'>"
      ]
     },
     "execution_count": 148,
     "metadata": {},
     "output_type": "execute_result"
    },
    {
     "data": {
      "image/png": "[encoded data removed]",
      "text/plain": [
       "<Figure size 720x576 with 1 Axes>"
      ]
     },
     "metadata": {
      "needs_background": "light"
     },
     "output_type": "display_data"
    },
    {
     "data": {
      "image/png": "[encoded data removed]",
      "text/plain": [
       "<Figure size 720x288 with 1 Axes>"
      ]
     },
     "metadata": {
      "needs_background": "light"
     },
     "output_type": "display_data"
    },
    {
     "data": {
      "image/png": "[encoded data removed]",
      "text/plain": [
       "<Figure size 720x360 with 1 Axes>"
      ]
     },
     "metadata": {
      "needs_background": "light"
     },
     "output_type": "display_data"
    },
    {
     "data": {
      "image/png": "[encoded data removed]",
      "text/plain": [
       "<Figure size 720x360 with 1 Axes>"
      ]
     },
     "metadata": {
      "needs_background": "light"
     },
     "output_type": "display_data"
    }
   ],
   "source": [
    "hour.plot.barh(stacked = True, figsize = (10, 8), fontsize = 10)\n",
    "day_of_week.plot.barh(stacked = True, figsize = (10, 4), fontsize = 10)\n",
    "month.plot.barh(stacked = True, figsize = (10, 5), fontsize = 10)\n",
    "year.plot.barh(stacked = True, figsize = (10, 5), fontsize = 10)"
   ]
  },
  {
   "cell_type": "markdown",
   "id": "3f3a53be",
   "metadata": {},
   "source": [
    "2. Does Personal Injury relate to race and gender?"
   ]
  },
  {
   "cell_type": "code",
   "execution_count": 151,
   "id": "aec28f46",
   "metadata": {},
   "outputs": [
    {
     "data": {
      "text/plain": [
       "<AxesSubplot:xlabel='Gender', ylabel='Count'>"
      ]
     },
     "execution_count": 151,
     "metadata": {},
     "output_type": "execute_result"
    },
    {
     "data": {
      "image/png": "[encoded data removed]",
      "text/plain": [
       "<Figure size 1080x360 with 1 Axes>"
      ]
     },
     "metadata": {
      "needs_background": "light"
     },
     "output_type": "display_data"
    }
   ],
   "source": [
    "# plt.rcParams[\"figure.figsize\"] = (15,5)\n",
    "sns.histplot(train.Gender)\n",
    "sns.histplot(train.Race)"
   ]
  },
  {
   "cell_type": "code",
   "execution_count": 152,
   "id": "33a24602",
   "metadata": {},
   "outputs": [
    {
     "data": {
      "text/plain": [
       "<AxesSubplot:ylabel='Race'>"
      ]
     },
     "execution_count": 152,
     "metadata": {},
     "output_type": "execute_result"
    },
    {
     "data": {
      "image/png": "[encoded data removed]",
      "text/plain": [
       "<Figure size 720x216 with 1 Axes>"
      ]
     },
     "metadata": {
      "needs_background": "light"
     },
     "output_type": "display_data"
    },
    {
     "data": {
      "image/png": "[encoded data removed]",
      "text/plain": [
       "<Figure size 720x360 with 1 Axes>"
      ]
     },
     "metadata": {
      "needs_background": "light"
     },
     "output_type": "display_data"
    }
   ],
   "source": [
    "race = pd.crosstab(train.Race, train['Personal Injury'], normalize = 'index')\n",
    "gender = pd.crosstab(train.Gender, train['Personal Injury'], normalize = 'index')\n",
    "\n",
    "gender.plot.barh(stacked = True, figsize = (10, 3), fontsize = 12)\n",
    "race.plot.barh(stacked = True, figsize = (10, 5), fontsize = 12)"
   ]
  },
  {
   "cell_type": "markdown",
   "id": "3d2d8f61",
   "metadata": {},
   "source": [
    "3. What about the relationship between contributed to accident and Violation Type? achohol? belts?"
   ]
  },
  {
   "cell_type": "code",
   "execution_count": 153,
   "id": "cf4acb90",
   "metadata": {},
   "outputs": [
    {
     "data": {
      "text/plain": [
       "<AxesSubplot:ylabel='Belts'>"
      ]
     },
     "execution_count": 153,
     "metadata": {},
     "output_type": "execute_result"
    },
    {
     "data": {
      "image/png": "[encoded data removed]",
      "text/plain": [
       "<Figure size 720x288 with 1 Axes>"
      ]
     },
     "metadata": {
      "needs_background": "light"
     },
     "output_type": "display_data"
    },
    {
     "data": {
      "image/png": "[encoded data removed]",
      "text/plain": [
       "<Figure size 720x216 with 1 Axes>"
      ]
     },
     "metadata": {
      "needs_background": "light"
     },
     "output_type": "display_data"
    },
    {
     "data": {
      "image/png": "[encoded data removed]",
      "text/plain": [
       "<Figure size 720x216 with 1 Axes>"
      ]
     },
     "metadata": {
      "needs_background": "light"
     },
     "output_type": "display_data"
    }
   ],
   "source": [
    "violation = pd.crosstab(train['Violation Type'], train['Personal Injury'], normalize = 'index')\n",
    "alcohol = pd.crosstab(train.Alcohol, train['Personal Injury'], normalize = 'index')\n",
    "belts = pd.crosstab(train.Belts, train['Personal Injury'], normalize = 'index')\n",
    "\n",
    "violation.plot.barh(stacked = True, figsize = (10, 4), fontsize = 10)\n",
    "alcohol.plot.barh(stacked = True, figsize = (10, 3), fontsize = 10)\n",
    "belts.plot.barh(stacked = True, figsize = (10, 3), fontsize = 10)"
   ]
  },
  {
   "cell_type": "markdown",
   "id": "2b07d71d",
   "metadata": {},
   "source": [
    "4. Is contributed to accident has relationship with agency location?"
   ]
  },
  {
   "cell_type": "code",
   "execution_count": 154,
   "id": "8ab91179",
   "metadata": {},
   "outputs": [
    {
     "data": {
      "text/plain": [
       "<AxesSubplot:ylabel='SubAgency'>"
      ]
     },
     "execution_count": 154,
     "metadata": {},
     "output_type": "execute_result"
    },
    {
     "data": {
      "image/png": "[encoded data removed]",
      "text/plain": [
       "<Figure size 720x288 with 1 Axes>"
      ]
     },
     "metadata": {
      "needs_background": "light"
     },
     "output_type": "display_data"
    }
   ],
   "source": [
    "agency = pd.crosstab(train['SubAgency'], train['Personal Injury'], normalize = 'index')\n",
    "agency.plot.barh(stacked = True, figsize = (10, 4), fontsize = 10)"
   ]
  },
  {
   "cell_type": "markdown",
   "id": "694121f3",
   "metadata": {},
   "source": [
    "5. Is property damage has relationship with personal injury?"
   ]
  },
  {
   "cell_type": "code",
   "execution_count": 155,
   "id": "ad738203",
   "metadata": {},
   "outputs": [
    {
     "data": {
      "text/plain": [
       "<AxesSubplot:ylabel='Property Damage'>"
      ]
     },
     "execution_count": 155,
     "metadata": {},
     "output_type": "execute_result"
    },
    {
     "data": {
      "image/png": "[encoded data removed]",
      "text/plain": [
       "<Figure size 720x288 with 1 Axes>"
      ]
     },
     "metadata": {
      "needs_background": "light"
     },
     "output_type": "display_data"
    }
   ],
   "source": [
    "damage = pd.crosstab(train['Property Damage'], train['Personal Injury'], normalize = 'index')\n",
    "damage.plot.barh(stacked = True, figsize = (10, 4), fontsize = 10)"
   ]
  },
  {
   "cell_type": "markdown",
   "id": "acda11bb",
   "metadata": {},
   "source": [
    "## Features"
   ]
  },
  {
   "cell_type": "code",
   "execution_count": 156,
   "id": "0af18098",
   "metadata": {},
   "outputs": [],
   "source": [
    "from sklearn.feature_selection import SelectKBest, RFE, f_regression, SequentialFeatureSelector\n",
    "\n",
    "x_train = train[['Alcohol', 'Race','day_of_week', 'hour','Gender','SubAgency','month']]\n",
    "y_train = train[['Personal Injury']]\n",
    "\n",
    "x_train_dummy_feature = pd.get_dummies(x_train)\n",
    "y_train_dummy_feature = pd.get_dummies(y_train, drop_first=True)"
   ]
  },
  {
   "cell_type": "code",
   "execution_count": 157,
   "id": "0930674c",
   "metadata": {},
   "outputs": [
    {
     "data": {
      "text/plain": [
       "Index(['Race_HISPANIC', 'day_of_week_Sunday', 'hour_01', 'hour_03', 'hour_14',\n",
       "       'hour_23', 'SubAgency_2nd District, Bethesda',\n",
       "       'SubAgency_4th District, Wheaton', 'SubAgency_5th District, Germantown',\n",
       "       'SubAgency_6th District, Gaithersburg / Montgomery Village'],\n",
       "      dtype='object')"
      ]
     },
     "execution_count": 157,
     "metadata": {},
     "output_type": "execute_result"
    }
   ],
   "source": [
    "kbest = SelectKBest(f_regression, k=10)\n",
    "kbest.fit(x_train_dummy_feature, y_train_dummy_feature)\n",
    "x_train_dummy_feature.columns[kbest.get_support()]"
   ]
  },
  {
   "cell_type": "markdown",
   "id": "858bcfb6",
   "metadata": {},
   "source": [
    "* race, weekday, hour, location"
   ]
  },
  {
   "cell_type": "code",
   "execution_count": 158,
   "id": "484dbed9",
   "metadata": {},
   "outputs": [
    {
     "data": {
      "text/plain": [
       "Index(['month_01-Jan', 'month_02-Feb', 'month_03-Mar', 'month_04-Apr',\n",
       "       'month_05-May', 'month_07-Jul', 'month_08-Aug', 'month_09-Sep',\n",
       "       'month_11-Nov', 'month_12-Dec'],\n",
       "      dtype='object')"
      ]
     },
     "execution_count": 158,
     "metadata": {},
     "output_type": "execute_result"
    }
   ],
   "source": [
    "from sklearn.linear_model import LinearRegression\n",
    "model = LinearRegression()\n",
    "rfe = RFE(model, n_features_to_select=10)\n",
    "rfe.fit(x_train_dummy_feature, y_train_dummy_feature)\n",
    "x_train_dummy_feature.columns[rfe.get_support()]"
   ]
  },
  {
   "cell_type": "markdown",
   "id": "54732c68",
   "metadata": {},
   "source": [
    "* month"
   ]
  },
  {
   "cell_type": "markdown",
   "id": "32b75583",
   "metadata": {},
   "source": [
    "## Modeling\n",
    "\n",
    "* race, weekday, hour, month, location"
   ]
  },
  {
   "cell_type": "code",
   "execution_count": 159,
   "id": "08a64ff5",
   "metadata": {},
   "outputs": [],
   "source": [
    "from sklearn.tree import DecisionTreeClassifier, plot_tree, export_text\n",
    "from sklearn.model_selection import train_test_split\n",
    "from sklearn.metrics import classification_report, confusion_matrix, plot_confusion_matrix\n",
    "from sklearn.ensemble import RandomForestClassifier\n",
    "from sklearn.linear_model import LogisticRegression\n",
    "from sklearn.neighbors import KNeighborsClassifier"
   ]
  },
  {
   "cell_type": "code",
   "execution_count": 182,
   "id": "25db0909",
   "metadata": {},
   "outputs": [
    {
     "data": {
      "text/plain": [
       "No     20757\n",
       "Yes     6165\n",
       "Name: Personal Injury, dtype: int64"
      ]
     },
     "execution_count": 182,
     "metadata": {},
     "output_type": "execute_result"
    }
   ],
   "source": [
    "train['Personal Injury'].value_counts()"
   ]
  },
  {
   "cell_type": "code",
   "execution_count": 188,
   "id": "59f58e11",
   "metadata": {},
   "outputs": [
    {
     "name": "stdout",
     "output_type": "stream",
     "text": [
      "baseline accuracy on train set: 77.10%\n"
     ]
    }
   ],
   "source": [
    "train['baseline'] = 'No'\n",
    "baseline_accuracy_train = (train['Personal Injury'] == train.baseline).mean()\n",
    "print(f'baseline accuracy on train set: {baseline_accuracy_train:.2%}')"
   ]
  },
  {
   "cell_type": "code",
   "execution_count": 183,
   "id": "cf73d525",
   "metadata": {},
   "outputs": [
    {
     "data": {
      "text/plain": [
       "No     8945\n",
       "Yes    2593\n",
       "Name: Personal Injury, dtype: int64"
      ]
     },
     "execution_count": 183,
     "metadata": {},
     "output_type": "execute_result"
    }
   ],
   "source": [
    "validate['Personal Injury'].value_counts()"
   ]
  },
  {
   "cell_type": "code",
   "execution_count": 189,
   "id": "31b9131c",
   "metadata": {},
   "outputs": [
    {
     "name": "stdout",
     "output_type": "stream",
     "text": [
      "baseline accuracy on validate set: 77.53%\n"
     ]
    }
   ],
   "source": [
    "validate['baseline'] = 'No'\n",
    "baseline_accuracy_validate = (validate['Personal Injury'] == validate.baseline).mean()\n",
    "print(f'baseline accuracy on validate set: {baseline_accuracy_validate:.2%}')"
   ]
  },
  {
   "cell_type": "markdown",
   "id": "29f7861e",
   "metadata": {},
   "source": [
    "### 1. Decision Tree"
   ]
  },
  {
   "cell_type": "code",
   "execution_count": 164,
   "id": "4fde5ab4",
   "metadata": {},
   "outputs": [],
   "source": [
    "x_train = train[['Race','day_of_week', 'hour','month','SubAgency']]\n",
    "y_train = train[['Personal Injury']]\n",
    "x_validate = validate[['Race','day_of_week', 'hour','month','SubAgency']]\n",
    "y_validate = validate[['Personal Injury']]\n",
    "x_test = test[['Race','day_of_week', 'hour','month','SubAgency']]\n",
    "y_test = test[['Personal Injury']]\n",
    "\n",
    "x_train = pd.get_dummies(x_train, drop_first=True)\n",
    "y_train = pd.get_dummies(y_train, drop_first=True)\n",
    "x_validate = pd.get_dummies(x_validate, drop_first=True)\n",
    "y_validate = pd.get_dummies(y_validate, drop_first=True)\n",
    "x_test = pd.get_dummies(x_test, drop_first=True)\n",
    "y_test = pd.get_dummies(y_test, drop_first=True)"
   ]
  },
  {
   "cell_type": "code",
   "execution_count": 165,
   "id": "751c2122",
   "metadata": {},
   "outputs": [
    {
     "data": {
      "text/html": [
       "<div>\n",
       "<style scoped>\n",
       "    .dataframe tbody tr th:only-of-type {\n",
       "        vertical-align: middle;\n",
       "    }\n",
       "\n",
       "    .dataframe tbody tr th {\n",
       "        vertical-align: top;\n",
       "    }\n",
       "\n",
       "    .dataframe thead th {\n",
       "        text-align: right;\n",
       "    }\n",
       "</style>\n",
       "<table border=\"1\" class=\"dataframe\">\n",
       "  <thead>\n",
       "    <tr style=\"text-align: right;\">\n",
       "      <th></th>\n",
       "      <th>max_depth</th>\n",
       "      <th>train_accuracy</th>\n",
       "      <th>validate_accuracy</th>\n",
       "      <th>difference</th>\n",
       "    </tr>\n",
       "  </thead>\n",
       "  <tbody>\n",
       "    <tr>\n",
       "      <th>0</th>\n",
       "      <td>1</td>\n",
       "      <td>0.771005</td>\n",
       "      <td>0.775264</td>\n",
       "      <td>-0.004259</td>\n",
       "    </tr>\n",
       "    <tr>\n",
       "      <th>1</th>\n",
       "      <td>2</td>\n",
       "      <td>0.771005</td>\n",
       "      <td>0.775264</td>\n",
       "      <td>-0.004259</td>\n",
       "    </tr>\n",
       "    <tr>\n",
       "      <th>2</th>\n",
       "      <td>3</td>\n",
       "      <td>0.771339</td>\n",
       "      <td>0.775351</td>\n",
       "      <td>-0.004012</td>\n",
       "    </tr>\n",
       "    <tr>\n",
       "      <th>3</th>\n",
       "      <td>4</td>\n",
       "      <td>0.772157</td>\n",
       "      <td>0.776304</td>\n",
       "      <td>-0.004148</td>\n",
       "    </tr>\n",
       "    <tr>\n",
       "      <th>4</th>\n",
       "      <td>5</td>\n",
       "      <td>0.772825</td>\n",
       "      <td>0.775958</td>\n",
       "      <td>-0.003133</td>\n",
       "    </tr>\n",
       "    <tr>\n",
       "      <th>5</th>\n",
       "      <td>6</td>\n",
       "      <td>0.774311</td>\n",
       "      <td>0.776131</td>\n",
       "      <td>-0.001820</td>\n",
       "    </tr>\n",
       "    <tr>\n",
       "      <th>6</th>\n",
       "      <td>7</td>\n",
       "      <td>0.777060</td>\n",
       "      <td>0.775178</td>\n",
       "      <td>0.001882</td>\n",
       "    </tr>\n",
       "    <tr>\n",
       "      <th>7</th>\n",
       "      <td>8</td>\n",
       "      <td>0.779251</td>\n",
       "      <td>0.777431</td>\n",
       "      <td>0.001820</td>\n",
       "    </tr>\n",
       "    <tr>\n",
       "      <th>8</th>\n",
       "      <td>9</td>\n",
       "      <td>0.782148</td>\n",
       "      <td>0.778471</td>\n",
       "      <td>0.003677</td>\n",
       "    </tr>\n",
       "    <tr>\n",
       "      <th>9</th>\n",
       "      <td>10</td>\n",
       "      <td>0.786606</td>\n",
       "      <td>0.777778</td>\n",
       "      <td>0.008828</td>\n",
       "    </tr>\n",
       "    <tr>\n",
       "      <th>10</th>\n",
       "      <td>11</td>\n",
       "      <td>0.791026</td>\n",
       "      <td>0.780638</td>\n",
       "      <td>0.010388</td>\n",
       "    </tr>\n",
       "    <tr>\n",
       "      <th>11</th>\n",
       "      <td>12</td>\n",
       "      <td>0.795966</td>\n",
       "      <td>0.784365</td>\n",
       "      <td>0.011601</td>\n",
       "    </tr>\n",
       "    <tr>\n",
       "      <th>12</th>\n",
       "      <td>13</td>\n",
       "      <td>0.801278</td>\n",
       "      <td>0.788785</td>\n",
       "      <td>0.012493</td>\n",
       "    </tr>\n",
       "    <tr>\n",
       "      <th>13</th>\n",
       "      <td>14</td>\n",
       "      <td>0.808187</td>\n",
       "      <td>0.791558</td>\n",
       "      <td>0.016628</td>\n",
       "    </tr>\n",
       "    <tr>\n",
       "      <th>14</th>\n",
       "      <td>15</td>\n",
       "      <td>0.815318</td>\n",
       "      <td>0.793985</td>\n",
       "      <td>0.021333</td>\n",
       "    </tr>\n",
       "    <tr>\n",
       "      <th>15</th>\n",
       "      <td>16</td>\n",
       "      <td>0.822524</td>\n",
       "      <td>0.797972</td>\n",
       "      <td>0.024552</td>\n",
       "    </tr>\n",
       "    <tr>\n",
       "      <th>16</th>\n",
       "      <td>17</td>\n",
       "      <td>0.829805</td>\n",
       "      <td>0.798752</td>\n",
       "      <td>0.031053</td>\n",
       "    </tr>\n",
       "    <tr>\n",
       "      <th>17</th>\n",
       "      <td>18</td>\n",
       "      <td>0.836825</td>\n",
       "      <td>0.802305</td>\n",
       "      <td>0.034519</td>\n",
       "    </tr>\n",
       "    <tr>\n",
       "      <th>18</th>\n",
       "      <td>19</td>\n",
       "      <td>0.845331</td>\n",
       "      <td>0.806032</td>\n",
       "      <td>0.039299</td>\n",
       "    </tr>\n",
       "    <tr>\n",
       "      <th>19</th>\n",
       "      <td>20</td>\n",
       "      <td>0.854060</td>\n",
       "      <td>0.808372</td>\n",
       "      <td>0.045688</td>\n",
       "    </tr>\n",
       "    <tr>\n",
       "      <th>20</th>\n",
       "      <td>21</td>\n",
       "      <td>0.861563</td>\n",
       "      <td>0.811232</td>\n",
       "      <td>0.050331</td>\n",
       "    </tr>\n",
       "    <tr>\n",
       "      <th>21</th>\n",
       "      <td>22</td>\n",
       "      <td>0.870218</td>\n",
       "      <td>0.816086</td>\n",
       "      <td>0.054132</td>\n",
       "    </tr>\n",
       "    <tr>\n",
       "      <th>22</th>\n",
       "      <td>23</td>\n",
       "      <td>0.877387</td>\n",
       "      <td>0.819813</td>\n",
       "      <td>0.057574</td>\n",
       "    </tr>\n",
       "    <tr>\n",
       "      <th>23</th>\n",
       "      <td>24</td>\n",
       "      <td>0.883701</td>\n",
       "      <td>0.819379</td>\n",
       "      <td>0.064322</td>\n",
       "    </tr>\n",
       "    <tr>\n",
       "      <th>24</th>\n",
       "      <td>25</td>\n",
       "      <td>0.890276</td>\n",
       "      <td>0.823886</td>\n",
       "      <td>0.066389</td>\n",
       "    </tr>\n",
       "    <tr>\n",
       "      <th>25</th>\n",
       "      <td>26</td>\n",
       "      <td>0.896070</td>\n",
       "      <td>0.823800</td>\n",
       "      <td>0.072271</td>\n",
       "    </tr>\n",
       "    <tr>\n",
       "      <th>26</th>\n",
       "      <td>27</td>\n",
       "      <td>0.902199</td>\n",
       "      <td>0.824406</td>\n",
       "      <td>0.077793</td>\n",
       "    </tr>\n",
       "    <tr>\n",
       "      <th>27</th>\n",
       "      <td>28</td>\n",
       "      <td>0.907548</td>\n",
       "      <td>0.827613</td>\n",
       "      <td>0.079935</td>\n",
       "    </tr>\n",
       "    <tr>\n",
       "      <th>28</th>\n",
       "      <td>29</td>\n",
       "      <td>0.913899</td>\n",
       "      <td>0.828653</td>\n",
       "      <td>0.085246</td>\n",
       "    </tr>\n",
       "  </tbody>\n",
       "</table>\n",
       "</div>"
      ],
      "text/plain": [
       "    max_depth  train_accuracy  validate_accuracy  difference\n",
       "0           1        0.771005           0.775264   -0.004259\n",
       "1           2        0.771005           0.775264   -0.004259\n",
       "2           3        0.771339           0.775351   -0.004012\n",
       "3           4        0.772157           0.776304   -0.004148\n",
       "4           5        0.772825           0.775958   -0.003133\n",
       "5           6        0.774311           0.776131   -0.001820\n",
       "6           7        0.777060           0.775178    0.001882\n",
       "7           8        0.779251           0.777431    0.001820\n",
       "8           9        0.782148           0.778471    0.003677\n",
       "9          10        0.786606           0.777778    0.008828\n",
       "10         11        0.791026           0.780638    0.010388\n",
       "11         12        0.795966           0.784365    0.011601\n",
       "12         13        0.801278           0.788785    0.012493\n",
       "13         14        0.808187           0.791558    0.016628\n",
       "14         15        0.815318           0.793985    0.021333\n",
       "15         16        0.822524           0.797972    0.024552\n",
       "16         17        0.829805           0.798752    0.031053\n",
       "17         18        0.836825           0.802305    0.034519\n",
       "18         19        0.845331           0.806032    0.039299\n",
       "19         20        0.854060           0.808372    0.045688\n",
       "20         21        0.861563           0.811232    0.050331\n",
       "21         22        0.870218           0.816086    0.054132\n",
       "22         23        0.877387           0.819813    0.057574\n",
       "23         24        0.883701           0.819379    0.064322\n",
       "24         25        0.890276           0.823886    0.066389\n",
       "25         26        0.896070           0.823800    0.072271\n",
       "26         27        0.902199           0.824406    0.077793\n",
       "27         28        0.907548           0.827613    0.079935\n",
       "28         29        0.913899           0.828653    0.085246"
      ]
     },
     "execution_count": 165,
     "metadata": {},
     "output_type": "execute_result"
    }
   ],
   "source": [
    "metrics = []\n",
    "for i in range(1, 30):\n",
    "    # Make the model\n",
    "    tree = DecisionTreeClassifier(max_depth=i, random_state=123)\n",
    "\n",
    "    # Fit the model (on train and only train)\n",
    "    tree = tree.fit(x_train, y_train)\n",
    "\n",
    "    # Use the model\n",
    "    # We'll evaluate the model's performance on train, first\n",
    "    in_sample_accuracy = tree.score(x_train, y_train)\n",
    "    \n",
    "    out_of_sample_accuracy = tree.score(x_validate, y_validate)\n",
    "\n",
    "    output = {\n",
    "        \"max_depth\": i,\n",
    "        \"train_accuracy\": in_sample_accuracy,\n",
    "        \"validate_accuracy\": out_of_sample_accuracy\n",
    "    }\n",
    "    \n",
    "    metrics.append(output)\n",
    "    \n",
    "tree_mc = pd.DataFrame(metrics)\n",
    "tree_mc[\"difference\"] = tree_mc.train_accuracy - tree_mc.validate_accuracy\n",
    "tree_mc"
   ]
  },
  {
   "cell_type": "code",
   "execution_count": 166,
   "id": "05daab03",
   "metadata": {},
   "outputs": [
    {
     "data": {
      "image/png": "[encoded data removed]",
      "text/plain": [
       "<Figure size 864x432 with 1 Axes>"
      ]
     },
     "metadata": {
      "needs_background": "light"
     },
     "output_type": "display_data"
    }
   ],
   "source": [
    "plt.figure(figsize=(12, 6))\n",
    "plt.plot(tree_mc.max_depth, tree_mc.train_accuracy, marker = 'o')\n",
    "plt.plot(tree_mc.max_depth, tree_mc.validate_accuracy, marker = 'o')\n",
    "plt.title('Overfitting Occurs at Higher Values for Max Depth')\n",
    "plt.xlabel('Max Depth')\n",
    "plt.ylabel('Accuracy')\n",
    "plt.show()"
   ]
  },
  {
   "cell_type": "markdown",
   "id": "89646075",
   "metadata": {},
   "source": [
    "* max_depth = 14"
   ]
  },
  {
   "cell_type": "code",
   "execution_count": 167,
   "id": "d604393b",
   "metadata": {},
   "outputs": [
    {
     "name": "stdout",
     "output_type": "stream",
     "text": [
      "              precision    recall  f1-score   support\n",
      "\n",
      "           0       0.81      0.99      0.89     20757\n",
      "           1       0.87      0.19      0.31      6165\n",
      "\n",
      "    accuracy                           0.81     26922\n",
      "   macro avg       0.84      0.59      0.60     26922\n",
      "weighted avg       0.82      0.81      0.76     26922\n",
      "\n"
     ]
    }
   ],
   "source": [
    "# step 1: Creat your recipe\n",
    "tree = DecisionTreeClassifier(max_depth = 14)\n",
    "\n",
    "# Step 2: Fit your model to your in-sample data (train)\n",
    "tree.fit(x_train, y_train)\n",
    "\n",
    "predictions1 = tree.predict(x_train)\n",
    "\n",
    "print(classification_report(y_train, predictions1))"
   ]
  },
  {
   "cell_type": "code",
   "execution_count": 168,
   "id": "dd001834",
   "metadata": {},
   "outputs": [
    {
     "name": "stdout",
     "output_type": "stream",
     "text": [
      "Accuracy of decision tree1 (max_depth=14) classifier on train set: 80.83%\n"
     ]
    }
   ],
   "source": [
    "print('Accuracy of decision tree1 (max_depth=14) classifier on train set: {:.2%}'\n",
    "     .format(tree.score(x_train, y_train)))"
   ]
  },
  {
   "cell_type": "code",
   "execution_count": 169,
   "id": "3b9028d4",
   "metadata": {},
   "outputs": [
    {
     "name": "stdout",
     "output_type": "stream",
     "text": [
      "Accuracy: 0.808260901864646 \n",
      "\n",
      "True Positive Rate/Sensitivity/Recall/Power: 0.1922141119221411 \n",
      "\n",
      "False Positive Rate/False Alarm Ratio/Fall-out: 0.008768126415185238 \n",
      "\n",
      "True Negative Rate/Specificity/Selectivity: 0.9912318735848148 \n",
      "\n",
      "False Negative Rate/Miss Rate: 0.8077858880778589 \n",
      "\n",
      "Precision/PPV: 0.866861741038771 \n",
      "\n",
      "F1 Score: 0.3146574614976102 \n",
      "\n",
      "Support (0): 20757 \n",
      "\n",
      "Support (1): 6165\n"
     ]
    }
   ],
   "source": [
    "TN1, FP1, FN1, TP1 = confusion_matrix(y_train, predictions1).ravel()\n",
    "\n",
    "ALL1 = TP1 + FP1 + FN1 + TN1\n",
    "\n",
    "accuracy = (TP1 + TN1)/ALL1\n",
    "true_positive_rate = sensitivity = recall = power = TP1/(TP1+FN1)\n",
    "false_positive_rate = false_alarm_ratio = fallout = FP1/(FP1+TN1)\n",
    "true_negative_rate = specificity = selectivity = TN1/(TN1+FP1)\n",
    "false_negative_rate = miss_rate = FN1/(FN1+TP1)\n",
    "precision = PPV = TP1/(TP1+FP1)\n",
    "f1_score = 2*(precision*recall)/(precision+recall)\n",
    "support_pos = TP1 + FN1\n",
    "support_neg = FP1 + TN1\n",
    "\n",
    "print(f\"Accuracy: {accuracy}\", '\\n')\n",
    "print(f\"True Positive Rate/Sensitivity/Recall/Power: {true_positive_rate}\", '\\n')\n",
    "print(f\"False Positive Rate/False Alarm Ratio/Fall-out: {false_positive_rate}\", '\\n')\n",
    "print(f\"True Negative Rate/Specificity/Selectivity: {true_negative_rate}\", '\\n')\n",
    "print(f\"False Negative Rate/Miss Rate: {false_negative_rate}\", '\\n')\n",
    "print(f\"Precision/PPV: {precision}\", '\\n')\n",
    "print(f\"F1 Score: {f1_score}\", '\\n')\n",
    "print(f\"Support (0): {support_neg}\", '\\n')\n",
    "print(f\"Support (1): {support_pos}\")"
   ]
  },
  {
   "cell_type": "markdown",
   "id": "25cdbc4d",
   "metadata": {},
   "source": [
    "### 2. Random forest"
   ]
  },
  {
   "cell_type": "code",
   "execution_count": 170,
   "id": "e9a0531a",
   "metadata": {},
   "outputs": [
    {
     "data": {
      "text/html": [
       "<div>\n",
       "<style scoped>\n",
       "    .dataframe tbody tr th:only-of-type {\n",
       "        vertical-align: middle;\n",
       "    }\n",
       "\n",
       "    .dataframe tbody tr th {\n",
       "        vertical-align: top;\n",
       "    }\n",
       "\n",
       "    .dataframe thead th {\n",
       "        text-align: right;\n",
       "    }\n",
       "</style>\n",
       "<table border=\"1\" class=\"dataframe\">\n",
       "  <thead>\n",
       "    <tr style=\"text-align: right;\">\n",
       "      <th></th>\n",
       "      <th>max_depth</th>\n",
       "      <th>min_sample_lead</th>\n",
       "      <th>train_accuracy</th>\n",
       "      <th>validate_accuracy</th>\n",
       "      <th>difference</th>\n",
       "    </tr>\n",
       "  </thead>\n",
       "  <tbody>\n",
       "    <tr>\n",
       "      <th>0</th>\n",
       "      <td>10</td>\n",
       "      <td>1</td>\n",
       "      <td>0.772565</td>\n",
       "      <td>0.776304</td>\n",
       "      <td>-0.003739</td>\n",
       "    </tr>\n",
       "    <tr>\n",
       "      <th>1</th>\n",
       "      <td>11</td>\n",
       "      <td>1</td>\n",
       "      <td>0.773457</td>\n",
       "      <td>0.777084</td>\n",
       "      <td>-0.003628</td>\n",
       "    </tr>\n",
       "    <tr>\n",
       "      <th>2</th>\n",
       "      <td>12</td>\n",
       "      <td>1</td>\n",
       "      <td>0.776242</td>\n",
       "      <td>0.778298</td>\n",
       "      <td>-0.002055</td>\n",
       "    </tr>\n",
       "    <tr>\n",
       "      <th>3</th>\n",
       "      <td>13</td>\n",
       "      <td>1</td>\n",
       "      <td>0.779437</td>\n",
       "      <td>0.780118</td>\n",
       "      <td>-0.000681</td>\n",
       "    </tr>\n",
       "    <tr>\n",
       "      <th>4</th>\n",
       "      <td>14</td>\n",
       "      <td>1</td>\n",
       "      <td>0.783931</td>\n",
       "      <td>0.782371</td>\n",
       "      <td>0.001560</td>\n",
       "    </tr>\n",
       "    <tr>\n",
       "      <th>5</th>\n",
       "      <td>15</td>\n",
       "      <td>1</td>\n",
       "      <td>0.790766</td>\n",
       "      <td>0.786791</td>\n",
       "      <td>0.003974</td>\n",
       "    </tr>\n",
       "    <tr>\n",
       "      <th>6</th>\n",
       "      <td>16</td>\n",
       "      <td>1</td>\n",
       "      <td>0.797749</td>\n",
       "      <td>0.789912</td>\n",
       "      <td>0.007837</td>\n",
       "    </tr>\n",
       "    <tr>\n",
       "      <th>7</th>\n",
       "      <td>17</td>\n",
       "      <td>1</td>\n",
       "      <td>0.810564</td>\n",
       "      <td>0.799445</td>\n",
       "      <td>0.011119</td>\n",
       "    </tr>\n",
       "    <tr>\n",
       "      <th>8</th>\n",
       "      <td>18</td>\n",
       "      <td>1</td>\n",
       "      <td>0.822079</td>\n",
       "      <td>0.805426</td>\n",
       "      <td>0.016653</td>\n",
       "    </tr>\n",
       "    <tr>\n",
       "      <th>9</th>\n",
       "      <td>19</td>\n",
       "      <td>1</td>\n",
       "      <td>0.833370</td>\n",
       "      <td>0.811319</td>\n",
       "      <td>0.022051</td>\n",
       "    </tr>\n",
       "    <tr>\n",
       "      <th>10</th>\n",
       "      <td>20</td>\n",
       "      <td>1</td>\n",
       "      <td>0.846631</td>\n",
       "      <td>0.818686</td>\n",
       "      <td>0.027945</td>\n",
       "    </tr>\n",
       "    <tr>\n",
       "      <th>11</th>\n",
       "      <td>21</td>\n",
       "      <td>1</td>\n",
       "      <td>0.859260</td>\n",
       "      <td>0.826140</td>\n",
       "      <td>0.033120</td>\n",
       "    </tr>\n",
       "    <tr>\n",
       "      <th>12</th>\n",
       "      <td>22</td>\n",
       "      <td>1</td>\n",
       "      <td>0.875604</td>\n",
       "      <td>0.832813</td>\n",
       "      <td>0.042790</td>\n",
       "    </tr>\n",
       "    <tr>\n",
       "      <th>13</th>\n",
       "      <td>23</td>\n",
       "      <td>1</td>\n",
       "      <td>0.889421</td>\n",
       "      <td>0.840527</td>\n",
       "      <td>0.048894</td>\n",
       "    </tr>\n",
       "    <tr>\n",
       "      <th>14</th>\n",
       "      <td>24</td>\n",
       "      <td>1</td>\n",
       "      <td>0.900862</td>\n",
       "      <td>0.845987</td>\n",
       "      <td>0.054875</td>\n",
       "    </tr>\n",
       "    <tr>\n",
       "      <th>15</th>\n",
       "      <td>25</td>\n",
       "      <td>1</td>\n",
       "      <td>0.911485</td>\n",
       "      <td>0.848241</td>\n",
       "      <td>0.063244</td>\n",
       "    </tr>\n",
       "    <tr>\n",
       "      <th>16</th>\n",
       "      <td>26</td>\n",
       "      <td>1</td>\n",
       "      <td>0.920771</td>\n",
       "      <td>0.850927</td>\n",
       "      <td>0.069844</td>\n",
       "    </tr>\n",
       "    <tr>\n",
       "      <th>17</th>\n",
       "      <td>27</td>\n",
       "      <td>1</td>\n",
       "      <td>0.929426</td>\n",
       "      <td>0.854221</td>\n",
       "      <td>0.075205</td>\n",
       "    </tr>\n",
       "    <tr>\n",
       "      <th>18</th>\n",
       "      <td>28</td>\n",
       "      <td>1</td>\n",
       "      <td>0.935146</td>\n",
       "      <td>0.857168</td>\n",
       "      <td>0.077978</td>\n",
       "    </tr>\n",
       "    <tr>\n",
       "      <th>19</th>\n",
       "      <td>29</td>\n",
       "      <td>1</td>\n",
       "      <td>0.940569</td>\n",
       "      <td>0.859421</td>\n",
       "      <td>0.081148</td>\n",
       "    </tr>\n",
       "    <tr>\n",
       "      <th>20</th>\n",
       "      <td>30</td>\n",
       "      <td>1</td>\n",
       "      <td>0.944581</td>\n",
       "      <td>0.860721</td>\n",
       "      <td>0.083860</td>\n",
       "    </tr>\n",
       "    <tr>\n",
       "      <th>21</th>\n",
       "      <td>31</td>\n",
       "      <td>1</td>\n",
       "      <td>0.947738</td>\n",
       "      <td>0.859508</td>\n",
       "      <td>0.088230</td>\n",
       "    </tr>\n",
       "    <tr>\n",
       "      <th>22</th>\n",
       "      <td>32</td>\n",
       "      <td>1</td>\n",
       "      <td>0.949632</td>\n",
       "      <td>0.861414</td>\n",
       "      <td>0.088218</td>\n",
       "    </tr>\n",
       "    <tr>\n",
       "      <th>23</th>\n",
       "      <td>33</td>\n",
       "      <td>1</td>\n",
       "      <td>0.951118</td>\n",
       "      <td>0.860808</td>\n",
       "      <td>0.090310</td>\n",
       "    </tr>\n",
       "    <tr>\n",
       "      <th>24</th>\n",
       "      <td>34</td>\n",
       "      <td>1</td>\n",
       "      <td>0.952195</td>\n",
       "      <td>0.860721</td>\n",
       "      <td>0.091474</td>\n",
       "    </tr>\n",
       "    <tr>\n",
       "      <th>25</th>\n",
       "      <td>35</td>\n",
       "      <td>1</td>\n",
       "      <td>0.952752</td>\n",
       "      <td>0.861848</td>\n",
       "      <td>0.090905</td>\n",
       "    </tr>\n",
       "    <tr>\n",
       "      <th>26</th>\n",
       "      <td>36</td>\n",
       "      <td>1</td>\n",
       "      <td>0.953607</td>\n",
       "      <td>0.860981</td>\n",
       "      <td>0.092626</td>\n",
       "    </tr>\n",
       "    <tr>\n",
       "      <th>27</th>\n",
       "      <td>37</td>\n",
       "      <td>1</td>\n",
       "      <td>0.953867</td>\n",
       "      <td>0.860894</td>\n",
       "      <td>0.092972</td>\n",
       "    </tr>\n",
       "    <tr>\n",
       "      <th>28</th>\n",
       "      <td>38</td>\n",
       "      <td>1</td>\n",
       "      <td>0.953941</td>\n",
       "      <td>0.862194</td>\n",
       "      <td>0.091747</td>\n",
       "    </tr>\n",
       "    <tr>\n",
       "      <th>29</th>\n",
       "      <td>39</td>\n",
       "      <td>1</td>\n",
       "      <td>0.954090</td>\n",
       "      <td>0.860374</td>\n",
       "      <td>0.093715</td>\n",
       "    </tr>\n",
       "  </tbody>\n",
       "</table>\n",
       "</div>"
      ],
      "text/plain": [
       "    max_depth  min_sample_lead  train_accuracy  validate_accuracy  difference\n",
       "0          10                1        0.772565           0.776304   -0.003739\n",
       "1          11                1        0.773457           0.777084   -0.003628\n",
       "2          12                1        0.776242           0.778298   -0.002055\n",
       "3          13                1        0.779437           0.780118   -0.000681\n",
       "4          14                1        0.783931           0.782371    0.001560\n",
       "5          15                1        0.790766           0.786791    0.003974\n",
       "6          16                1        0.797749           0.789912    0.007837\n",
       "7          17                1        0.810564           0.799445    0.011119\n",
       "8          18                1        0.822079           0.805426    0.016653\n",
       "9          19                1        0.833370           0.811319    0.022051\n",
       "10         20                1        0.846631           0.818686    0.027945\n",
       "11         21                1        0.859260           0.826140    0.033120\n",
       "12         22                1        0.875604           0.832813    0.042790\n",
       "13         23                1        0.889421           0.840527    0.048894\n",
       "14         24                1        0.900862           0.845987    0.054875\n",
       "15         25                1        0.911485           0.848241    0.063244\n",
       "16         26                1        0.920771           0.850927    0.069844\n",
       "17         27                1        0.929426           0.854221    0.075205\n",
       "18         28                1        0.935146           0.857168    0.077978\n",
       "19         29                1        0.940569           0.859421    0.081148\n",
       "20         30                1        0.944581           0.860721    0.083860\n",
       "21         31                1        0.947738           0.859508    0.088230\n",
       "22         32                1        0.949632           0.861414    0.088218\n",
       "23         33                1        0.951118           0.860808    0.090310\n",
       "24         34                1        0.952195           0.860721    0.091474\n",
       "25         35                1        0.952752           0.861848    0.090905\n",
       "26         36                1        0.953607           0.860981    0.092626\n",
       "27         37                1        0.953867           0.860894    0.092972\n",
       "28         38                1        0.953941           0.862194    0.091747\n",
       "29         39                1        0.954090           0.860374    0.093715"
      ]
     },
     "execution_count": 170,
     "metadata": {},
     "output_type": "execute_result"
    }
   ],
   "source": [
    "metrics = []\n",
    "# .sample(10000, random_state=123)\n",
    "for i in range(10,40):\n",
    "    rf = RandomForestClassifier(max_depth=(i), \n",
    "                            min_samples_leaf=1,\n",
    "                            random_state=123)\n",
    "    \n",
    "    rf = rf.fit(x_train, y_train)\n",
    "    \n",
    "    in_sample_accuracy = rf.score(x_train, y_train)\n",
    "    \n",
    "    out_of_sample_accuracy = rf.score(x_validate, y_validate)\n",
    "    \n",
    "    output = {\"max_depth\": (i),\"min_sample_lead\" :1,\n",
    "        \"train_accuracy\": in_sample_accuracy,\n",
    "        \"validate_accuracy\": out_of_sample_accuracy}\n",
    "        \n",
    "    metrics.append(output)\n",
    "    \n",
    "rf_mc = pd.DataFrame(metrics)\n",
    "rf_mc[\"difference\"] = rf_mc.train_accuracy - rf_mc.validate_accuracy\n",
    "rf_mc"
   ]
  },
  {
   "cell_type": "code",
   "execution_count": 171,
   "id": "05f0e39f",
   "metadata": {},
   "outputs": [
    {
     "data": {
      "image/png": "[encoded data removed]",
      "text/plain": [
       "<Figure size 864x432 with 1 Axes>"
      ]
     },
     "metadata": {
      "needs_background": "light"
     },
     "output_type": "display_data"
    }
   ],
   "source": [
    "plt.figure(figsize=(12, 6))\n",
    "plt.plot(rf_mc.max_depth, rf_mc.train_accuracy, color = 'r', marker = 'o')\n",
    "plt.plot(rf_mc.max_depth, rf_mc.validate_accuracy, color = 'b', marker = 'o')\n",
    "plt.title('Overfitting Occurs at Higher Values for Max Depth')\n",
    "plt.xlabel('Max Depth')\n",
    "plt.ylabel('Accuracy')\n",
    "plt.show()"
   ]
  },
  {
   "cell_type": "code",
   "execution_count": 172,
   "id": "6df8a2a1",
   "metadata": {},
   "outputs": [
    {
     "name": "stdout",
     "output_type": "stream",
     "text": [
      "              precision    recall  f1-score   support\n",
      "\n",
      "           0       0.82      1.00      0.90     20757\n",
      "           1       0.97      0.28      0.43      6165\n",
      "\n",
      "    accuracy                           0.83     26922\n",
      "   macro avg       0.90      0.64      0.67     26922\n",
      "weighted avg       0.86      0.83      0.80     26922\n",
      "\n"
     ]
    }
   ],
   "source": [
    "rf = RandomForestClassifier(max_depth=19, \n",
    "                            min_samples_leaf=1,\n",
    "                            random_state=123)\n",
    "rf.fit(x_train, y_train)\n",
    "predictions2 = rf.predict(x_train)\n",
    "\n",
    "print(classification_report(y_train, predictions2))"
   ]
  },
  {
   "cell_type": "code",
   "execution_count": 173,
   "id": "d3df3737",
   "metadata": {},
   "outputs": [
    {
     "name": "stdout",
     "output_type": "stream",
     "text": [
      "Accuracy of random forest (max_depth=19) classifier on train set: 83.34%\n"
     ]
    }
   ],
   "source": [
    "print('Accuracy of random forest (max_depth=19) classifier on train set: {:.2%}'\n",
    "     .format(rf.score(x_train, y_train)))"
   ]
  },
  {
   "cell_type": "code",
   "execution_count": 174,
   "id": "97b74da3",
   "metadata": {},
   "outputs": [
    {
     "name": "stdout",
     "output_type": "stream",
     "text": [
      "Accuracy: 0.8333704776762499 \n",
      "\n",
      "True Positive Rate/Sensitivity/Recall/Power: 0.2796431467964315 \n",
      "\n",
      "False Positive Rate/False Alarm Ratio/Fall-out: 0.0021679433444139326 \n",
      "\n",
      "True Negative Rate/Specificity/Selectivity: 0.997832056655586 \n",
      "\n",
      "False Negative Rate/Miss Rate: 0.7203568532035686 \n",
      "\n",
      "Precision/PPV: 0.9745618993781797 \n",
      "\n",
      "F1 Score: 0.43458532896395263 \n",
      "\n",
      "Support (0): 20757 \n",
      "\n",
      "Support (1): 6165\n"
     ]
    }
   ],
   "source": [
    "TN2, FP2, FN2, TP2 = confusion_matrix(y_train, predictions2).ravel()\n",
    "ALL2 = TP2 + FP2 + FN2 + TN2\n",
    "\n",
    "accuracy = (TP2 + TN2)/ALL2\n",
    "true_positive_rate = sensitivity = recal2 = power = TP2/(TP2+FN2)\n",
    "false_positive_rate = false_alarm_ratio = fallout = FP2/(FP2+TN2)\n",
    "true_negative_rate = specificity = selectivity = TN2/(TN2+FP2)\n",
    "false_negative_rate = miss_rate = FN2/(FN2+TP2)\n",
    "precision = PPV = TP2/(TP2+FP2)\n",
    "f1_score = 2*(precision*recal2)/(precision+recal2)\n",
    "support_pos = TP2 + FN2\n",
    "support_neg = FP2 + TN2\n",
    "\n",
    "print(f\"Accuracy: {accuracy}\", '\\n')\n",
    "print(f\"True Positive Rate/Sensitivity/Recall/Power: {true_positive_rate}\", '\\n')\n",
    "print(f\"False Positive Rate/False Alarm Ratio/Fall-out: {false_positive_rate}\", '\\n')\n",
    "print(f\"True Negative Rate/Specificity/Selectivity: {true_negative_rate}\", '\\n')\n",
    "print(f\"False Negative Rate/Miss Rate: {false_negative_rate}\", '\\n')\n",
    "print(f\"Precision/PPV: {precision}\", '\\n')\n",
    "print(f\"F1 Score: {f1_score}\", '\\n')\n",
    "print(f\"Support (0): {support_neg}\", '\\n')\n",
    "print(f\"Support (1): {support_pos}\")"
   ]
  },
  {
   "cell_type": "markdown",
   "id": "42685bd2",
   "metadata": {},
   "source": [
    "### 3. Logistic Regression"
   ]
  },
  {
   "cell_type": "code",
   "execution_count": 175,
   "id": "c9390612",
   "metadata": {},
   "outputs": [
    {
     "data": {
      "text/plain": [
       "0    20757\n",
       "1     6165\n",
       "Name: Personal Injury_Yes, dtype: int64"
      ]
     },
     "execution_count": 175,
     "metadata": {},
     "output_type": "execute_result"
    }
   ],
   "source": [
    "y_train['Personal Injury_Yes'].value_counts()"
   ]
  },
  {
   "cell_type": "code",
   "execution_count": 176,
   "id": "0f3061e1",
   "metadata": {},
   "outputs": [
    {
     "name": "stdout",
     "output_type": "stream",
     "text": [
      "              precision    recall  f1-score   support\n",
      "\n",
      "           0       0.77      1.00      0.87     20757\n",
      "           1       0.00      0.00      0.00      6165\n",
      "\n",
      "    accuracy                           0.77     26922\n",
      "   macro avg       0.39      0.50      0.44     26922\n",
      "weighted avg       0.59      0.77      0.67     26922\n",
      "\n"
     ]
    }
   ],
   "source": [
    "# Define the logistic regression model\n",
    "\n",
    "logit = LogisticRegression(C=1, random_state=123)\n",
    "\n",
    "#  fit the model on train data\n",
    "logit.fit(x_train, y_train)\n",
    "\n",
    "# now use the model to make predictions\n",
    "predictions3 = logit.predict(x_train)\n",
    "\n",
    "print(classification_report(y_train, predictions3))"
   ]
  },
  {
   "cell_type": "code",
   "execution_count": 177,
   "id": "0ef1aac0",
   "metadata": {},
   "outputs": [
    {
     "name": "stdout",
     "output_type": "stream",
     "text": [
      "Accuracy of Logistic Regression (c=1) on train set: 77.09%\n"
     ]
    }
   ],
   "source": [
    "print('Accuracy of Logistic Regression (c=1) on train set: {:.2%}'\n",
    "     .format(logit.score(x_train, y_train)))"
   ]
  },
  {
   "cell_type": "code",
   "execution_count": 178,
   "id": "09b713a2",
   "metadata": {},
   "outputs": [
    {
     "name": "stdout",
     "output_type": "stream",
     "text": [
      "Accuracy: 0.7709308372334893 \n",
      "\n",
      "True Positive Rate/Sensitivity/Recall/Power: 0.0 \n",
      "\n",
      "False Positive Rate/False Alarm Ratio/Fall-out: 9.635303752950812e-05 \n",
      "\n",
      "True Negative Rate/Specificity/Selectivity: 0.9999036469624705 \n",
      "\n",
      "False Negative Rate/Miss Rate: 1.0 \n",
      "\n",
      "Precision/PPV: 0.0 \n",
      "\n",
      "F1 Score: nan \n",
      "\n",
      "Support (0): 20757 \n",
      "\n",
      "Support (1): 6165\n"
     ]
    }
   ],
   "source": [
    "TN3, FP3, FN3, TP3 = confusion_matrix(y_train, predictions3).ravel()\n",
    "ALL3 = TP3 + FP3 + FN3 + TN3\n",
    "\n",
    "accuracy = (TP3 + TN3)/ALL3\n",
    "true_positive_rate = sensitivity = recal3 = power = TP3/(TP3+FN3)\n",
    "false_positive_rate = false_alarm_ratio = fallout = FP3/(FP3+TN3)\n",
    "true_negative_rate = specificity = selectivity = TN3/(TN3+FP3)\n",
    "false_negative_rate = miss_rate = FN3/(FN3+TP3)\n",
    "precision = PPV = TP3/(TP3+FP3)\n",
    "f1_score = 2*(precision*recal3)/(precision+recal3)\n",
    "support_pos = TP3 + FN3\n",
    "support_neg = FP3 + TN3\n",
    "\n",
    "print(f\"Accuracy: {accuracy}\", '\\n')\n",
    "print(f\"True Positive Rate/Sensitivity/Recall/Power: {true_positive_rate}\", '\\n')\n",
    "print(f\"False Positive Rate/False Alarm Ratio/Fall-out: {false_positive_rate}\", '\\n')\n",
    "print(f\"True Negative Rate/Specificity/Selectivity: {true_negative_rate}\", '\\n')\n",
    "print(f\"False Negative Rate/Miss Rate: {false_negative_rate}\", '\\n')\n",
    "print(f\"Precision/PPV: {precision}\", '\\n')\n",
    "print(f\"F1 Score: {f1_score}\", '\\n')\n",
    "print(f\"Support (0): {support_neg}\", '\\n')\n",
    "print(f\"Support (1): {support_pos}\")"
   ]
  },
  {
   "cell_type": "code",
   "execution_count": 190,
   "id": "28d6a530",
   "metadata": {},
   "outputs": [
    {
     "name": "stdout",
     "output_type": "stream",
     "text": [
      "baseline accuracy on train set: 77.10%\n",
      "Accuracy of decision tree (max_depth=14) classifier on train set: 80.83%\n",
      "Accuracy of random forest (max_depth=19) classifier on train set: 83.34%\n",
      "Accuracy of Logistic Regression (c=1) on train set: 77.09%\n"
     ]
    }
   ],
   "source": [
    "print(f'baseline accuracy on train set: {baseline_accuracy_train:.2%}')\n",
    "print('Accuracy of decision tree (max_depth=14) classifier on train set: {:.2%}'\n",
    "     .format(tree.score(x_train, y_train)))\n",
    "print('Accuracy of random forest (max_depth=19) classifier on train set: {:.2%}'\n",
    "     .format(rf.score(x_train, y_train)))\n",
    "print('Accuracy of Logistic Regression (c=1) on train set: {:.2%}'\n",
    "     .format(logit.score(x_train, y_train)))"
   ]
  },
  {
   "cell_type": "markdown",
   "id": "60626c7a",
   "metadata": {},
   "source": [
    "### Validate"
   ]
  },
  {
   "cell_type": "code",
   "execution_count": 191,
   "id": "04e9ce65",
   "metadata": {},
   "outputs": [
    {
     "name": "stdout",
     "output_type": "stream",
     "text": [
      "baseline accuracy on validate set: 77.53%\n",
      "Accuracy of decision tree (max_depth = 17) classifier on validate set: 79.22%\n",
      "Accuracy of random forest (max_depth=16) classifier on validate set: 81.13%\n",
      "Accuracy of Logistic Regression (c=1) on validate set: 77.52%\n"
     ]
    }
   ],
   "source": [
    "# predict on validate\n",
    "y_pred_tree_validate = tree.predict(x_validate)\n",
    "y_pred_rf_validate = rf.predict(x_validate)\n",
    "y_pred_logistic_validate = logit.predict(x_validate)\n",
    "\n",
    "# evaluate on validate\n",
    "print(f'baseline accuracy on validate set: {baseline_accuracy_validate:.2%}')\n",
    "print('Accuracy of decision tree (max_depth = 17) classifier on validate set: {:.2%}'\n",
    "     .format(tree.score(x_validate, y_validate)))\n",
    "print('Accuracy of random forest (max_depth=16) classifier on validate set: {:.2%}'\n",
    "     .format(rf.score(x_validate, y_validate)))\n",
    "print('Accuracy of Logistic Regression (c=1) on validate set: {:.2%}'\n",
    "     .format(logit.score(x_validate, y_validate)))"
   ]
  },
  {
   "cell_type": "markdown",
   "id": "5e1dc001",
   "metadata": {},
   "source": [
    "### Test - Random Forest"
   ]
  },
  {
   "cell_type": "code",
   "execution_count": 192,
   "id": "576657b2",
   "metadata": {},
   "outputs": [
    {
     "name": "stdout",
     "output_type": "stream",
     "text": [
      "Accuracy of decision tree (max_depth = 17) on test set: 81.07%\n"
     ]
    }
   ],
   "source": [
    "# predict on test\n",
    "y_pred_test = rf.predict(x_test)\n",
    "\n",
    "# evaluate on test\n",
    "print('Accuracy of decision tree (max_depth = 17) on test set: {:.2%}'\n",
    "     .format(rf.score(x_test, y_test)))"
   ]
  },
  {
   "cell_type": "code",
   "execution_count": null,
   "id": "e6e002ad",
   "metadata": {},
   "outputs": [],
   "source": []
  },
  {
   "cell_type": "code",
   "execution_count": 218,
   "id": "4809c1ac",
   "metadata": {},
   "outputs": [],
   "source": [
    "x_train_rf1 = train[['Race','day_of_week', 'hour','SubAgency']]\n",
    "y_train_rf1 = train[['Personal Injury']]\n",
    "x_validate_rf1 = validate[['Race','day_of_week', 'hour','SubAgency']]\n",
    "y_validate_rf1 = validate[['Personal Injury']]\n",
    "x_test_rf1 = test[['Race','day_of_week', 'hour','SubAgency']]\n",
    "y_test_rf1 = test[['Personal Injury']]\n",
    "# 'month','hour','day_of_week','SubAgency'\n",
    "\n",
    "x_train_rf1 = pd.get_dummies(x_train_rf1, drop_first=True)\n",
    "y_train_rf1 = pd.get_dummies(y_train_rf1, drop_first=True)\n",
    "x_validate_rf1 = pd.get_dummies(x_validate_rf1, drop_first=True)\n",
    "y_validate_rf1 = pd.get_dummies(y_validate_rf1, drop_first=True)\n",
    "x_test_rf1 = pd.get_dummies(x_test_rf1, drop_first=True)\n",
    "y_test_rf1 = pd.get_dummies(y_test_rf1, drop_first=True)"
   ]
  },
  {
   "cell_type": "code",
   "execution_count": 219,
   "id": "59eeef01",
   "metadata": {},
   "outputs": [
    {
     "data": {
      "text/html": [
       "<div>\n",
       "<style scoped>\n",
       "    .dataframe tbody tr th:only-of-type {\n",
       "        vertical-align: middle;\n",
       "    }\n",
       "\n",
       "    .dataframe tbody tr th {\n",
       "        vertical-align: top;\n",
       "    }\n",
       "\n",
       "    .dataframe thead th {\n",
       "        text-align: right;\n",
       "    }\n",
       "</style>\n",
       "<table border=\"1\" class=\"dataframe\">\n",
       "  <thead>\n",
       "    <tr style=\"text-align: right;\">\n",
       "      <th></th>\n",
       "      <th>max_depth</th>\n",
       "      <th>min_sample_lead</th>\n",
       "      <th>train_accuracy</th>\n",
       "      <th>validate_accuracy</th>\n",
       "      <th>difference</th>\n",
       "    </tr>\n",
       "  </thead>\n",
       "  <tbody>\n",
       "    <tr>\n",
       "      <th>0</th>\n",
       "      <td>1</td>\n",
       "      <td>1</td>\n",
       "      <td>0.771005</td>\n",
       "      <td>0.775264</td>\n",
       "      <td>-0.004259</td>\n",
       "    </tr>\n",
       "    <tr>\n",
       "      <th>1</th>\n",
       "      <td>2</td>\n",
       "      <td>1</td>\n",
       "      <td>0.771005</td>\n",
       "      <td>0.775264</td>\n",
       "      <td>-0.004259</td>\n",
       "    </tr>\n",
       "    <tr>\n",
       "      <th>2</th>\n",
       "      <td>3</td>\n",
       "      <td>1</td>\n",
       "      <td>0.771005</td>\n",
       "      <td>0.775264</td>\n",
       "      <td>-0.004259</td>\n",
       "    </tr>\n",
       "    <tr>\n",
       "      <th>3</th>\n",
       "      <td>4</td>\n",
       "      <td>1</td>\n",
       "      <td>0.771005</td>\n",
       "      <td>0.775264</td>\n",
       "      <td>-0.004259</td>\n",
       "    </tr>\n",
       "    <tr>\n",
       "      <th>4</th>\n",
       "      <td>5</td>\n",
       "      <td>1</td>\n",
       "      <td>0.771005</td>\n",
       "      <td>0.775264</td>\n",
       "      <td>-0.004259</td>\n",
       "    </tr>\n",
       "    <tr>\n",
       "      <th>5</th>\n",
       "      <td>6</td>\n",
       "      <td>1</td>\n",
       "      <td>0.771005</td>\n",
       "      <td>0.775264</td>\n",
       "      <td>-0.004259</td>\n",
       "    </tr>\n",
       "    <tr>\n",
       "      <th>6</th>\n",
       "      <td>7</td>\n",
       "      <td>1</td>\n",
       "      <td>0.771005</td>\n",
       "      <td>0.775264</td>\n",
       "      <td>-0.004259</td>\n",
       "    </tr>\n",
       "    <tr>\n",
       "      <th>7</th>\n",
       "      <td>8</td>\n",
       "      <td>1</td>\n",
       "      <td>0.771228</td>\n",
       "      <td>0.775524</td>\n",
       "      <td>-0.004296</td>\n",
       "    </tr>\n",
       "    <tr>\n",
       "      <th>8</th>\n",
       "      <td>9</td>\n",
       "      <td>1</td>\n",
       "      <td>0.771228</td>\n",
       "      <td>0.775524</td>\n",
       "      <td>-0.004296</td>\n",
       "    </tr>\n",
       "    <tr>\n",
       "      <th>9</th>\n",
       "      <td>10</td>\n",
       "      <td>1</td>\n",
       "      <td>0.772268</td>\n",
       "      <td>0.775611</td>\n",
       "      <td>-0.003343</td>\n",
       "    </tr>\n",
       "    <tr>\n",
       "      <th>10</th>\n",
       "      <td>11</td>\n",
       "      <td>1</td>\n",
       "      <td>0.774385</td>\n",
       "      <td>0.776998</td>\n",
       "      <td>-0.002612</td>\n",
       "    </tr>\n",
       "    <tr>\n",
       "      <th>11</th>\n",
       "      <td>12</td>\n",
       "      <td>1</td>\n",
       "      <td>0.775834</td>\n",
       "      <td>0.777864</td>\n",
       "      <td>-0.002031</td>\n",
       "    </tr>\n",
       "    <tr>\n",
       "      <th>12</th>\n",
       "      <td>13</td>\n",
       "      <td>1</td>\n",
       "      <td>0.778248</td>\n",
       "      <td>0.779251</td>\n",
       "      <td>-0.001003</td>\n",
       "    </tr>\n",
       "    <tr>\n",
       "      <th>13</th>\n",
       "      <td>14</td>\n",
       "      <td>1</td>\n",
       "      <td>0.781740</td>\n",
       "      <td>0.780898</td>\n",
       "      <td>0.000842</td>\n",
       "    </tr>\n",
       "    <tr>\n",
       "      <th>14</th>\n",
       "      <td>15</td>\n",
       "      <td>1</td>\n",
       "      <td>0.784749</td>\n",
       "      <td>0.781938</td>\n",
       "      <td>0.002811</td>\n",
       "    </tr>\n",
       "    <tr>\n",
       "      <th>15</th>\n",
       "      <td>16</td>\n",
       "      <td>1</td>\n",
       "      <td>0.788352</td>\n",
       "      <td>0.783411</td>\n",
       "      <td>0.004940</td>\n",
       "    </tr>\n",
       "    <tr>\n",
       "      <th>16</th>\n",
       "      <td>17</td>\n",
       "      <td>1</td>\n",
       "      <td>0.791026</td>\n",
       "      <td>0.784798</td>\n",
       "      <td>0.006228</td>\n",
       "    </tr>\n",
       "    <tr>\n",
       "      <th>17</th>\n",
       "      <td>18</td>\n",
       "      <td>1</td>\n",
       "      <td>0.795112</td>\n",
       "      <td>0.785318</td>\n",
       "      <td>0.009794</td>\n",
       "    </tr>\n",
       "    <tr>\n",
       "      <th>18</th>\n",
       "      <td>19</td>\n",
       "      <td>1</td>\n",
       "      <td>0.798566</td>\n",
       "      <td>0.786791</td>\n",
       "      <td>0.011775</td>\n",
       "    </tr>\n",
       "    <tr>\n",
       "      <th>19</th>\n",
       "      <td>20</td>\n",
       "      <td>1</td>\n",
       "      <td>0.805141</td>\n",
       "      <td>0.792512</td>\n",
       "      <td>0.012629</td>\n",
       "    </tr>\n",
       "    <tr>\n",
       "      <th>20</th>\n",
       "      <td>21</td>\n",
       "      <td>1</td>\n",
       "      <td>0.808187</td>\n",
       "      <td>0.792858</td>\n",
       "      <td>0.015328</td>\n",
       "    </tr>\n",
       "    <tr>\n",
       "      <th>21</th>\n",
       "      <td>22</td>\n",
       "      <td>1</td>\n",
       "      <td>0.813015</td>\n",
       "      <td>0.792598</td>\n",
       "      <td>0.020417</td>\n",
       "    </tr>\n",
       "    <tr>\n",
       "      <th>22</th>\n",
       "      <td>23</td>\n",
       "      <td>1</td>\n",
       "      <td>0.816433</td>\n",
       "      <td>0.793552</td>\n",
       "      <td>0.022881</td>\n",
       "    </tr>\n",
       "    <tr>\n",
       "      <th>23</th>\n",
       "      <td>24</td>\n",
       "      <td>1</td>\n",
       "      <td>0.818253</td>\n",
       "      <td>0.793812</td>\n",
       "      <td>0.024441</td>\n",
       "    </tr>\n",
       "    <tr>\n",
       "      <th>24</th>\n",
       "      <td>25</td>\n",
       "      <td>1</td>\n",
       "      <td>0.821559</td>\n",
       "      <td>0.793378</td>\n",
       "      <td>0.028180</td>\n",
       "    </tr>\n",
       "    <tr>\n",
       "      <th>25</th>\n",
       "      <td>26</td>\n",
       "      <td>1</td>\n",
       "      <td>0.823119</td>\n",
       "      <td>0.792425</td>\n",
       "      <td>0.030694</td>\n",
       "    </tr>\n",
       "    <tr>\n",
       "      <th>26</th>\n",
       "      <td>27</td>\n",
       "      <td>1</td>\n",
       "      <td>0.824233</td>\n",
       "      <td>0.792772</td>\n",
       "      <td>0.031461</td>\n",
       "    </tr>\n",
       "    <tr>\n",
       "      <th>27</th>\n",
       "      <td>28</td>\n",
       "      <td>1</td>\n",
       "      <td>0.825013</td>\n",
       "      <td>0.793118</td>\n",
       "      <td>0.031895</td>\n",
       "    </tr>\n",
       "    <tr>\n",
       "      <th>28</th>\n",
       "      <td>29</td>\n",
       "      <td>1</td>\n",
       "      <td>0.826090</td>\n",
       "      <td>0.793378</td>\n",
       "      <td>0.032712</td>\n",
       "    </tr>\n",
       "    <tr>\n",
       "      <th>29</th>\n",
       "      <td>30</td>\n",
       "      <td>1</td>\n",
       "      <td>0.826350</td>\n",
       "      <td>0.793378</td>\n",
       "      <td>0.032972</td>\n",
       "    </tr>\n",
       "    <tr>\n",
       "      <th>30</th>\n",
       "      <td>31</td>\n",
       "      <td>1</td>\n",
       "      <td>0.826647</td>\n",
       "      <td>0.792685</td>\n",
       "      <td>0.033962</td>\n",
       "    </tr>\n",
       "    <tr>\n",
       "      <th>31</th>\n",
       "      <td>32</td>\n",
       "      <td>1</td>\n",
       "      <td>0.827390</td>\n",
       "      <td>0.793898</td>\n",
       "      <td>0.033492</td>\n",
       "    </tr>\n",
       "    <tr>\n",
       "      <th>32</th>\n",
       "      <td>33</td>\n",
       "      <td>1</td>\n",
       "      <td>0.827947</td>\n",
       "      <td>0.793898</td>\n",
       "      <td>0.034049</td>\n",
       "    </tr>\n",
       "    <tr>\n",
       "      <th>33</th>\n",
       "      <td>34</td>\n",
       "      <td>1</td>\n",
       "      <td>0.828096</td>\n",
       "      <td>0.793465</td>\n",
       "      <td>0.034631</td>\n",
       "    </tr>\n",
       "    <tr>\n",
       "      <th>34</th>\n",
       "      <td>35</td>\n",
       "      <td>1</td>\n",
       "      <td>0.828096</td>\n",
       "      <td>0.792945</td>\n",
       "      <td>0.035151</td>\n",
       "    </tr>\n",
       "    <tr>\n",
       "      <th>35</th>\n",
       "      <td>36</td>\n",
       "      <td>1</td>\n",
       "      <td>0.828133</td>\n",
       "      <td>0.792598</td>\n",
       "      <td>0.035535</td>\n",
       "    </tr>\n",
       "    <tr>\n",
       "      <th>36</th>\n",
       "      <td>37</td>\n",
       "      <td>1</td>\n",
       "      <td>0.828133</td>\n",
       "      <td>0.792512</td>\n",
       "      <td>0.035621</td>\n",
       "    </tr>\n",
       "    <tr>\n",
       "      <th>37</th>\n",
       "      <td>38</td>\n",
       "      <td>1</td>\n",
       "      <td>0.828133</td>\n",
       "      <td>0.793552</td>\n",
       "      <td>0.034581</td>\n",
       "    </tr>\n",
       "    <tr>\n",
       "      <th>38</th>\n",
       "      <td>39</td>\n",
       "      <td>1</td>\n",
       "      <td>0.828133</td>\n",
       "      <td>0.792425</td>\n",
       "      <td>0.035708</td>\n",
       "    </tr>\n",
       "  </tbody>\n",
       "</table>\n",
       "</div>"
      ],
      "text/plain": [
       "    max_depth  min_sample_lead  train_accuracy  validate_accuracy  difference\n",
       "0           1                1        0.771005           0.775264   -0.004259\n",
       "1           2                1        0.771005           0.775264   -0.004259\n",
       "2           3                1        0.771005           0.775264   -0.004259\n",
       "3           4                1        0.771005           0.775264   -0.004259\n",
       "4           5                1        0.771005           0.775264   -0.004259\n",
       "5           6                1        0.771005           0.775264   -0.004259\n",
       "6           7                1        0.771005           0.775264   -0.004259\n",
       "7           8                1        0.771228           0.775524   -0.004296\n",
       "8           9                1        0.771228           0.775524   -0.004296\n",
       "9          10                1        0.772268           0.775611   -0.003343\n",
       "10         11                1        0.774385           0.776998   -0.002612\n",
       "11         12                1        0.775834           0.777864   -0.002031\n",
       "12         13                1        0.778248           0.779251   -0.001003\n",
       "13         14                1        0.781740           0.780898    0.000842\n",
       "14         15                1        0.784749           0.781938    0.002811\n",
       "15         16                1        0.788352           0.783411    0.004940\n",
       "16         17                1        0.791026           0.784798    0.006228\n",
       "17         18                1        0.795112           0.785318    0.009794\n",
       "18         19                1        0.798566           0.786791    0.011775\n",
       "19         20                1        0.805141           0.792512    0.012629\n",
       "20         21                1        0.808187           0.792858    0.015328\n",
       "21         22                1        0.813015           0.792598    0.020417\n",
       "22         23                1        0.816433           0.793552    0.022881\n",
       "23         24                1        0.818253           0.793812    0.024441\n",
       "24         25                1        0.821559           0.793378    0.028180\n",
       "25         26                1        0.823119           0.792425    0.030694\n",
       "26         27                1        0.824233           0.792772    0.031461\n",
       "27         28                1        0.825013           0.793118    0.031895\n",
       "28         29                1        0.826090           0.793378    0.032712\n",
       "29         30                1        0.826350           0.793378    0.032972\n",
       "30         31                1        0.826647           0.792685    0.033962\n",
       "31         32                1        0.827390           0.793898    0.033492\n",
       "32         33                1        0.827947           0.793898    0.034049\n",
       "33         34                1        0.828096           0.793465    0.034631\n",
       "34         35                1        0.828096           0.792945    0.035151\n",
       "35         36                1        0.828133           0.792598    0.035535\n",
       "36         37                1        0.828133           0.792512    0.035621\n",
       "37         38                1        0.828133           0.793552    0.034581\n",
       "38         39                1        0.828133           0.792425    0.035708"
      ]
     },
     "execution_count": 219,
     "metadata": {},
     "output_type": "execute_result"
    }
   ],
   "source": [
    "metrics = []\n",
    "# .sample(10000, random_state=123)\n",
    "for i in range(1,40):\n",
    "    rf = RandomForestClassifier(max_depth=(i), \n",
    "                            min_samples_leaf=1,\n",
    "                            random_state=123)\n",
    "    \n",
    "    rf = rf.fit(x_train_rf1, y_train_rf1)\n",
    "    \n",
    "    in_sample_accuracy = rf.score(x_train_rf1, y_train_rf1)\n",
    "    \n",
    "    out_of_sample_accuracy = rf.score(x_validate_rf1, y_validate_rf1)\n",
    "    \n",
    "    output = {\"max_depth\": (i),\"min_sample_lead\" :1,\n",
    "        \"train_accuracy\": in_sample_accuracy,\n",
    "        \"validate_accuracy\": out_of_sample_accuracy}\n",
    "        \n",
    "    metrics.append(output)\n",
    "    \n",
    "rf1_mc = pd.DataFrame(metrics)\n",
    "rf1_mc[\"difference\"] = rf1_mc.train_accuracy - rf1_mc.validate_accuracy\n",
    "rf1_mc"
   ]
  },
  {
   "cell_type": "code",
   "execution_count": 220,
   "id": "203ce43e",
   "metadata": {},
   "outputs": [
    {
     "data": {
      "image/png": "[encoded data removed]",
      "text/plain": [
       "<Figure size 864x432 with 1 Axes>"
      ]
     },
     "metadata": {
      "needs_background": "light"
     },
     "output_type": "display_data"
    }
   ],
   "source": [
    "plt.figure(figsize=(12, 6))\n",
    "plt.plot(rf1_mc.max_depth, rf1_mc.train_accuracy, color = 'r', marker = 'o')\n",
    "plt.plot(rf1_mc.max_depth, rf1_mc.validate_accuracy, color = 'b', marker = 'o')\n",
    "plt.title('Overfitting Occurs at Higher Values for Max Depth')\n",
    "plt.xlabel('Max Depth')\n",
    "plt.ylabel('Accuracy')\n",
    "plt.show()"
   ]
  },
  {
   "cell_type": "markdown",
   "id": "41aa3bf6",
   "metadata": {},
   "source": [
    "* max = 20"
   ]
  },
  {
   "cell_type": "code",
   "execution_count": 221,
   "id": "21a4a084",
   "metadata": {},
   "outputs": [
    {
     "name": "stdout",
     "output_type": "stream",
     "text": [
      "              precision    recall  f1-score   support\n",
      "\n",
      "           0       0.80      0.99      0.89     20757\n",
      "           1       0.82      0.19      0.31      6165\n",
      "\n",
      "    accuracy                           0.81     26922\n",
      "   macro avg       0.81      0.59      0.60     26922\n",
      "weighted avg       0.81      0.81      0.75     26922\n",
      "\n"
     ]
    }
   ],
   "source": [
    "rf1 = RandomForestClassifier(max_depth=20, \n",
    "                            min_samples_leaf=1,\n",
    "                            random_state=123)\n",
    "rf1.fit(x_train_rf1, y_train_rf1)\n",
    "predictions_rf1 = rf1.predict(x_train_rf1)\n",
    "\n",
    "print(classification_report(y_train_rf1, predictions_rf1))"
   ]
  },
  {
   "cell_type": "code",
   "execution_count": 222,
   "id": "92fd15cd",
   "metadata": {},
   "outputs": [
    {
     "name": "stdout",
     "output_type": "stream",
     "text": [
      "Accuracy of random forest (max_depth=18) classifier on train set: 80.51%\n"
     ]
    }
   ],
   "source": [
    "print('Accuracy of random forest (max_depth=18) classifier on train set: {:.2%}'\n",
    "     .format(rf1.score(x_train_rf1, y_train_rf1)))"
   ]
  },
  {
   "cell_type": "code",
   "execution_count": 223,
   "id": "b8ce22c9",
   "metadata": {},
   "outputs": [
    {
     "name": "stdout",
     "output_type": "stream",
     "text": [
      "Accuracy of random forest (max_depth=18) classifier on validate set: 79.25%\n"
     ]
    }
   ],
   "source": [
    "print('Accuracy of random forest (max_depth=18) classifier on validate set: {:.2%}'\n",
    "     .format(rf1.score(x_validate_rf1, y_validate_rf1)))"
   ]
  },
  {
   "cell_type": "code",
   "execution_count": 224,
   "id": "74b096da",
   "metadata": {},
   "outputs": [
    {
     "name": "stdout",
     "output_type": "stream",
     "text": [
      "Accuracy: 0.8051407770596538 \n",
      "\n",
      "True Positive Rate/Sensitivity/Recall/Power: 0.19140308191403083 \n",
      "\n",
      "False Positive Rate/False Alarm Ratio/Fall-out: 0.012574071397600809 \n",
      "\n",
      "True Negative Rate/Specificity/Selectivity: 0.9874259286023992 \n",
      "\n",
      "False Negative Rate/Miss Rate: 0.8085969180859692 \n",
      "\n",
      "Precision/PPV: 0.8188757807078417 \n",
      "\n",
      "F1 Score: 0.31028135682356034 \n",
      "\n",
      "Support (0): 20757 \n",
      "\n",
      "Support (1): 6165\n"
     ]
    }
   ],
   "source": [
    "TN4, FP4, FN4, TP4 = confusion_matrix(y_train_rf1, predictions_rf1).ravel()\n",
    "ALL4 = TP4 + FP4 + FN4 + TN4\n",
    "\n",
    "accuracy = (TP4 + TN4)/ALL4\n",
    "true_positive_rate = sensitivity = recal4 = power = TP4/(TP4+FN4)\n",
    "false_positive_rate = false_alarm_ratio = fallout = FP4/(FP4+TN4)\n",
    "true_negative_rate = specificity = selectivity = TN4/(TN4+FP4)\n",
    "false_negative_rate = miss_rate = FN4/(FN4+TP4)\n",
    "precision = PPV = TP4/(TP4+FP4)\n",
    "f1_score = 2*(precision*recal4)/(precision+recal4)\n",
    "support_pos = TP4 + FN4\n",
    "support_neg = FP4 + TN4\n",
    "\n",
    "print(f\"Accuracy: {accuracy}\", '\\n')\n",
    "print(f\"True Positive Rate/Sensitivity/Recall/Power: {true_positive_rate}\", '\\n')\n",
    "print(f\"False Positive Rate/False Alarm Ratio/Fall-out: {false_positive_rate}\", '\\n')\n",
    "print(f\"True Negative Rate/Specificity/Selectivity: {true_negative_rate}\", '\\n')\n",
    "print(f\"False Negative Rate/Miss Rate: {false_negative_rate}\", '\\n')\n",
    "print(f\"Precision/PPV: {precision}\", '\\n')\n",
    "print(f\"F1 Score: {f1_score}\", '\\n')\n",
    "print(f\"Support (0): {support_neg}\", '\\n')\n",
    "print(f\"Support (1): {support_pos}\")"
   ]
  },
  {
   "cell_type": "code",
   "execution_count": null,
   "id": "63e3d377",
   "metadata": {},
   "outputs": [],
   "source": []
  },
  {
   "cell_type": "code",
   "execution_count": null,
   "id": "d3662eb3",
   "metadata": {},
   "outputs": [],
   "source": []
  },
  {
   "cell_type": "code",
   "execution_count": null,
   "id": "36e2ff28",
   "metadata": {},
   "outputs": [],
   "source": []
  }
 ],
 "metadata": {
  "kernelspec": {
   "display_name": "Python 3 (ipykernel)",
   "language": "python",
   "name": "python3"
  },
  "language_info": {
   "codemirror_mode": {
    "name": "ipython",
    "version": 3
   },
   "file_extension": ".py",
   "mimetype": "text/x-python",
   "name": "python",
   "nbconvert_exporter": "python",
   "pygments_lexer": "ipython3",
   "version": "3.9.12"
  }
 },
 "nbformat": 4,
 "nbformat_minor": 5
}
