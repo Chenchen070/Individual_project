{
 "cells": [
  {
   "cell_type": "code",
   "execution_count": 1,
   "id": "89a8d93b",
   "metadata": {},
   "outputs": [],
   "source": [
    "import pandas as pd\n",
    "import datetime as dt\n",
    "import numpy as np\n",
    "import matplotlib.pyplot as plt\n",
    "import seaborn as sns\n",
    "import warnings\n",
    "warnings.filterwarnings('ignore')"
   ]
  },
  {
   "cell_type": "markdown",
   "id": "4b88409f",
   "metadata": {},
   "source": [
    "Data source:\n",
    "https://data.montgomerycountymd.gov/Public-Safety/Traffic-Violations/4mse-ku6q\n",
    "* cut off data: 2022-08-15"
   ]
  },
  {
   "cell_type": "code",
   "execution_count": 49,
   "id": "60b8bcc5",
   "metadata": {},
   "outputs": [],
   "source": [
    "df = pd.read_csv('Traffic_Violations_montgomery_county.csv')"
   ]
  },
  {
   "cell_type": "code",
   "execution_count": 50,
   "id": "c5d0cfa6",
   "metadata": {},
   "outputs": [
    {
     "name": "stdout",
     "output_type": "stream",
     "text": [
      "<class 'pandas.core.frame.DataFrame'>\n",
      "RangeIndex: 1803695 entries, 0 to 1803694\n",
      "Data columns (total 10 columns):\n",
      " #   Column                   Dtype \n",
      "---  ------                   ----- \n",
      " 0   Date Of Stop             object\n",
      " 1   Time Of Stop             object\n",
      " 2   Belts                    object\n",
      " 3   Personal Injury          object\n",
      " 4   Property Damage          object\n",
      " 5   Alcohol                  object\n",
      " 6   Violation Type           object\n",
      " 7   Contributed To Accident  bool  \n",
      " 8   Race                     object\n",
      " 9   Gender                   object\n",
      "dtypes: bool(1), object(9)\n",
      "memory usage: 125.6+ MB\n"
     ]
    }
   ],
   "source": [
    "# drop columns\n",
    "drop_col = ['SeqID', 'Agency', 'SubAgency', 'Accident', 'Fatal', 'Commercial License','HAZMAT', 'Commercial Vehicle', \n",
    "           'Work Zone', 'State', 'VehicleType', 'Year', 'Make', 'Model', 'Color', 'Charge', 'Article', 'Driver State', 'DL State', 'Search Reason For Stop', 'Search Arrest Reason', 'Location',\n",
    "           'Search Conducted', 'Search Disposition', 'Search Outcome', 'Search Reason', 'Search Type','Geolocation',\n",
    "           'Latitude', 'Longitude','Description', 'Driver City', 'Arrest Type']\n",
    "df = df.drop(columns = drop_col)\n",
    "df.info()"
   ]
  },
  {
   "cell_type": "code",
   "execution_count": 4,
   "id": "121c071c",
   "metadata": {},
   "outputs": [
    {
     "data": {
      "text/plain": [
       "Date Of Stop               0\n",
       "Time Of Stop               0\n",
       "Belts                      0\n",
       "Personal Injury            0\n",
       "Property Damage            0\n",
       "Alcohol                    0\n",
       "Violation Type             0\n",
       "Contributed To Accident    0\n",
       "Race                       0\n",
       "Gender                     0\n",
       "dtype: int64"
      ]
     },
     "execution_count": 4,
     "metadata": {},
     "output_type": "execute_result"
    }
   ],
   "source": [
    "# check null value\n",
    "df.isnull().sum()"
   ]
  },
  {
   "cell_type": "code",
   "execution_count": 51,
   "id": "5de3e06d",
   "metadata": {},
   "outputs": [
    {
     "name": "stdout",
     "output_type": "stream",
     "text": [
      "<class 'pandas.core.frame.DataFrame'>\n",
      "RangeIndex: 1803695 entries, 0 to 1803694\n",
      "Data columns (total 9 columns):\n",
      " #   Column                   Dtype         \n",
      "---  ------                   -----         \n",
      " 0   Belts                    object        \n",
      " 1   Personal Injury          object        \n",
      " 2   Property Damage          object        \n",
      " 3   Alcohol                  object        \n",
      " 4   Violation Type           object        \n",
      " 5   Contributed To Accident  bool          \n",
      " 6   Race                     object        \n",
      " 7   Gender                   object        \n",
      " 8   date_time                datetime64[ns]\n",
      "dtypes: bool(1), datetime64[ns](1), object(7)\n",
      "memory usage: 111.8+ MB\n"
     ]
    }
   ],
   "source": [
    "# convert time format\n",
    "df['date_time'] = df['Date Of Stop'] + ' ' + df['Time Of Stop']\n",
    "col = ['Date Of Stop', 'Time Of Stop']\n",
    "df = df.drop(columns = col)\n",
    "df['date_time'] = pd.to_datetime(df['date_time'])\n",
    "df.info()"
   ]
  },
  {
   "cell_type": "code",
   "execution_count": 52,
   "id": "8fb44e6e",
   "metadata": {},
   "outputs": [
    {
     "data": {
      "text/html": [
       "<div>\n",
       "<style scoped>\n",
       "    .dataframe tbody tr th:only-of-type {\n",
       "        vertical-align: middle;\n",
       "    }\n",
       "\n",
       "    .dataframe tbody tr th {\n",
       "        vertical-align: top;\n",
       "    }\n",
       "\n",
       "    .dataframe thead th {\n",
       "        text-align: right;\n",
       "    }\n",
       "</style>\n",
       "<table border=\"1\" class=\"dataframe\">\n",
       "  <thead>\n",
       "    <tr style=\"text-align: right;\">\n",
       "      <th></th>\n",
       "      <th>Belts</th>\n",
       "      <th>Personal Injury</th>\n",
       "      <th>Property Damage</th>\n",
       "      <th>Alcohol</th>\n",
       "      <th>Violation Type</th>\n",
       "      <th>Contributed To Accident</th>\n",
       "      <th>Race</th>\n",
       "      <th>Gender</th>\n",
       "      <th>month</th>\n",
       "      <th>day_of_week</th>\n",
       "      <th>year</th>\n",
       "      <th>hour</th>\n",
       "    </tr>\n",
       "    <tr>\n",
       "      <th>date_time</th>\n",
       "      <th></th>\n",
       "      <th></th>\n",
       "      <th></th>\n",
       "      <th></th>\n",
       "      <th></th>\n",
       "      <th></th>\n",
       "      <th></th>\n",
       "      <th></th>\n",
       "      <th></th>\n",
       "      <th></th>\n",
       "      <th></th>\n",
       "      <th></th>\n",
       "    </tr>\n",
       "  </thead>\n",
       "  <tbody>\n",
       "    <tr>\n",
       "      <th>2012-01-01 00:43:00</th>\n",
       "      <td>No</td>\n",
       "      <td>No</td>\n",
       "      <td>No</td>\n",
       "      <td>No</td>\n",
       "      <td>Warning</td>\n",
       "      <td>False</td>\n",
       "      <td>WHITE</td>\n",
       "      <td>M</td>\n",
       "      <td>01-Jan</td>\n",
       "      <td>Sunday</td>\n",
       "      <td>2012</td>\n",
       "      <td>00</td>\n",
       "    </tr>\n",
       "    <tr>\n",
       "      <th>2012-01-01 00:52:00</th>\n",
       "      <td>No</td>\n",
       "      <td>No</td>\n",
       "      <td>No</td>\n",
       "      <td>No</td>\n",
       "      <td>Citation</td>\n",
       "      <td>False</td>\n",
       "      <td>HISPANIC</td>\n",
       "      <td>F</td>\n",
       "      <td>01-Jan</td>\n",
       "      <td>Sunday</td>\n",
       "      <td>2012</td>\n",
       "      <td>00</td>\n",
       "    </tr>\n",
       "    <tr>\n",
       "      <th>2012-01-01 00:52:00</th>\n",
       "      <td>No</td>\n",
       "      <td>No</td>\n",
       "      <td>No</td>\n",
       "      <td>No</td>\n",
       "      <td>Citation</td>\n",
       "      <td>False</td>\n",
       "      <td>HISPANIC</td>\n",
       "      <td>F</td>\n",
       "      <td>01-Jan</td>\n",
       "      <td>Sunday</td>\n",
       "      <td>2012</td>\n",
       "      <td>00</td>\n",
       "    </tr>\n",
       "    <tr>\n",
       "      <th>2012-01-01 00:52:00</th>\n",
       "      <td>No</td>\n",
       "      <td>No</td>\n",
       "      <td>No</td>\n",
       "      <td>No</td>\n",
       "      <td>Citation</td>\n",
       "      <td>False</td>\n",
       "      <td>HISPANIC</td>\n",
       "      <td>F</td>\n",
       "      <td>01-Jan</td>\n",
       "      <td>Sunday</td>\n",
       "      <td>2012</td>\n",
       "      <td>00</td>\n",
       "    </tr>\n",
       "    <tr>\n",
       "      <th>2012-01-01 00:52:00</th>\n",
       "      <td>No</td>\n",
       "      <td>No</td>\n",
       "      <td>No</td>\n",
       "      <td>No</td>\n",
       "      <td>Citation</td>\n",
       "      <td>False</td>\n",
       "      <td>HISPANIC</td>\n",
       "      <td>F</td>\n",
       "      <td>01-Jan</td>\n",
       "      <td>Sunday</td>\n",
       "      <td>2012</td>\n",
       "      <td>00</td>\n",
       "    </tr>\n",
       "  </tbody>\n",
       "</table>\n",
       "</div>"
      ],
      "text/plain": [
       "                    Belts Personal Injury Property Damage Alcohol  \\\n",
       "date_time                                                           \n",
       "2012-01-01 00:43:00    No              No              No      No   \n",
       "2012-01-01 00:52:00    No              No              No      No   \n",
       "2012-01-01 00:52:00    No              No              No      No   \n",
       "2012-01-01 00:52:00    No              No              No      No   \n",
       "2012-01-01 00:52:00    No              No              No      No   \n",
       "\n",
       "                    Violation Type  Contributed To Accident      Race Gender  \\\n",
       "date_time                                                                      \n",
       "2012-01-01 00:43:00        Warning                    False     WHITE      M   \n",
       "2012-01-01 00:52:00       Citation                    False  HISPANIC      F   \n",
       "2012-01-01 00:52:00       Citation                    False  HISPANIC      F   \n",
       "2012-01-01 00:52:00       Citation                    False  HISPANIC      F   \n",
       "2012-01-01 00:52:00       Citation                    False  HISPANIC      F   \n",
       "\n",
       "                      month day_of_week  year hour  \n",
       "date_time                                           \n",
       "2012-01-01 00:43:00  01-Jan      Sunday  2012   00  \n",
       "2012-01-01 00:52:00  01-Jan      Sunday  2012   00  \n",
       "2012-01-01 00:52:00  01-Jan      Sunday  2012   00  \n",
       "2012-01-01 00:52:00  01-Jan      Sunday  2012   00  \n",
       "2012-01-01 00:52:00  01-Jan      Sunday  2012   00  "
      ]
     },
     "execution_count": 52,
     "metadata": {},
     "output_type": "execute_result"
    }
   ],
   "source": [
    "# set the time to index and create new columns for year, month, day of the week and hour\n",
    "df.set_index('date_time', inplace=True)\n",
    "df.sort_index(inplace=True)\n",
    "df['month'] = df.index.strftime('%m-%b')\n",
    "df['day_of_week'] = df.index.strftime('%A')\n",
    "df['year'] = df.index.strftime('%Y')\n",
    "df['hour'] = df.index.strftime('%H')\n",
    "df.head()"
   ]
  },
  {
   "cell_type": "code",
   "execution_count": 53,
   "id": "ef728fc9",
   "metadata": {},
   "outputs": [],
   "source": [
    "df['Contributed To Accident'] = np.where(df['Contributed To Accident'] == True, 1, df['Contributed To Accident'])\n",
    "df['Contributed To Accident'] = np.where(df['Contributed To Accident'] == False, 0, df['Contributed To Accident'])"
   ]
  },
  {
   "cell_type": "code",
   "execution_count": 54,
   "id": "62a7b047",
   "metadata": {},
   "outputs": [],
   "source": [
    "# split data\n",
    "from sklearn.model_selection import train_test_split\n",
    "import math\n",
    "train_validate, test = train_test_split(df, test_size=.2, \n",
    "                                        random_state=123, \n",
    "                                        stratify=df['Contributed To Accident'])\n",
    "\n",
    "train, validate = train_test_split(train_validate, test_size=.3, \n",
    "                                   random_state=123, \n",
    "                                   stratify=train_validate['Contributed To Accident'])"
   ]
  },
  {
   "cell_type": "markdown",
   "id": "d3d7319b",
   "metadata": {},
   "source": [
    "## Data Explore"
   ]
  },
  {
   "cell_type": "markdown",
   "id": "8426b4bb",
   "metadata": {},
   "source": [
    "### 1. Does contributed to accident happened related to the hour? day of week? month? year?"
   ]
  },
  {
   "cell_type": "code",
   "execution_count": 28,
   "id": "53113f09",
   "metadata": {},
   "outputs": [],
   "source": [
    "hour = pd.crosstab(train.hour, train['Contributed To Accident'], normalize = 'index').sort_index(ascending=False)\n",
    "day_of_week = pd.crosstab(train.day_of_week, train['Contributed To Accident'], normalize = 'index').sort_index(ascending=False)\n",
    "month = pd.crosstab(train.month, train['Contributed To Accident'], normalize = 'index').sort_index(ascending=False)\n",
    "year = pd.crosstab(train.year, train['Contributed To Accident'], normalize = 'index').sort_index(ascending=False)"
   ]
  },
  {
   "cell_type": "code",
   "execution_count": 29,
   "id": "b1c47063",
   "metadata": {},
   "outputs": [
    {
     "data": {
      "text/plain": [
       "<AxesSubplot:ylabel='year'>"
      ]
     },
     "execution_count": 29,
     "metadata": {},
     "output_type": "execute_result"
    },
    {
     "data": {
      "image/png": "[encoded data removed]",
      "text/plain": [
       "<Figure size 720x576 with 1 Axes>"
      ]
     },
     "metadata": {
      "needs_background": "light"
     },
     "output_type": "display_data"
    },
    {
     "data": {
      "image/png": "[encoded data removed]",
      "text/plain": [
       "<Figure size 720x288 with 1 Axes>"
      ]
     },
     "metadata": {
      "needs_background": "light"
     },
     "output_type": "display_data"
    },
    {
     "data": {
      "image/png": "[encoded data removed]",
      "text/plain": [
       "<Figure size 720x360 with 1 Axes>"
      ]
     },
     "metadata": {
      "needs_background": "light"
     },
     "output_type": "display_data"
    },
    {
     "data": {
      "image/png": "[encoded data removed]",
      "text/plain": [
       "<Figure size 720x360 with 1 Axes>"
      ]
     },
     "metadata": {
      "needs_background": "light"
     },
     "output_type": "display_data"
    }
   ],
   "source": [
    "hour.plot.barh(stacked = True, figsize = (10, 8), fontsize = 10)\n",
    "day_of_week.plot.barh(stacked = True, figsize = (10, 4), fontsize = 10)\n",
    "month.plot.barh(stacked = True, figsize = (10, 5), fontsize = 10)\n",
    "year.plot.barh(stacked = True, figsize = (10, 5), fontsize = 10)"
   ]
  },
  {
   "cell_type": "markdown",
   "id": "796c7924",
   "metadata": {},
   "source": [
    "### 2. Does contributed to accident relate to race and gender?"
   ]
  },
  {
   "cell_type": "code",
   "execution_count": 30,
   "id": "e725f431",
   "metadata": {},
   "outputs": [
    {
     "data": {
      "text/plain": [
       "<AxesSubplot:ylabel='Race'>"
      ]
     },
     "execution_count": 30,
     "metadata": {},
     "output_type": "execute_result"
    },
    {
     "data": {
      "image/png": "[encoded data removed]",
      "text/plain": [
       "<Figure size 720x216 with 1 Axes>"
      ]
     },
     "metadata": {
      "needs_background": "light"
     },
     "output_type": "display_data"
    },
    {
     "data": {
      "image/png": "[encoded data removed]",
      "text/plain": [
       "<Figure size 720x360 with 1 Axes>"
      ]
     },
     "metadata": {
      "needs_background": "light"
     },
     "output_type": "display_data"
    }
   ],
   "source": [
    "race = pd.crosstab(train.Race, train['Contributed To Accident'], normalize = 'index')\n",
    "gender = pd.crosstab(train.Gender, train['Contributed To Accident'], normalize = 'index')\n",
    "\n",
    "gender.plot.barh(stacked = True, figsize = (10, 3), fontsize = 12)\n",
    "race.plot.barh(stacked = True, figsize = (10, 5), fontsize = 12)"
   ]
  },
  {
   "cell_type": "markdown",
   "id": "50156876",
   "metadata": {},
   "source": [
    "### 3. What about the relationship between contributed to accident and Violation Type? achohol? belts?"
   ]
  },
  {
   "cell_type": "code",
   "execution_count": 31,
   "id": "f2f0d288",
   "metadata": {},
   "outputs": [
    {
     "data": {
      "text/plain": [
       "<AxesSubplot:ylabel='Belts'>"
      ]
     },
     "execution_count": 31,
     "metadata": {},
     "output_type": "execute_result"
    },
    {
     "data": {
      "image/png": "[encoded data removed]",
      "text/plain": [
       "<Figure size 720x288 with 1 Axes>"
      ]
     },
     "metadata": {
      "needs_background": "light"
     },
     "output_type": "display_data"
    },
    {
     "data": {
      "image/png": "[encoded data removed]",
      "text/plain": [
       "<Figure size 720x216 with 1 Axes>"
      ]
     },
     "metadata": {
      "needs_background": "light"
     },
     "output_type": "display_data"
    },
    {
     "data": {
      "image/png": "[encoded data removed]",
      "text/plain": [
       "<Figure size 720x216 with 1 Axes>"
      ]
     },
     "metadata": {
      "needs_background": "light"
     },
     "output_type": "display_data"
    }
   ],
   "source": [
    "violation = pd.crosstab(train['Violation Type'], train['Contributed To Accident'], normalize = 'index')\n",
    "alcohol = pd.crosstab(train.Alcohol, train['Contributed To Accident'], normalize = 'index')\n",
    "belts = pd.crosstab(train.Belts, train['Contributed To Accident'], normalize = 'index')\n",
    "\n",
    "violation.plot.barh(stacked = True, figsize = (10, 4), fontsize = 10)\n",
    "alcohol.plot.barh(stacked = True, figsize = (10, 3), fontsize = 10)\n",
    "belts.plot.barh(stacked = True, figsize = (10, 3), fontsize = 10)"
   ]
  },
  {
   "cell_type": "markdown",
   "id": "9f7abaf7",
   "metadata": {},
   "source": [
    "### 4. Is personal injury has relationship with contributed to accident?"
   ]
  },
  {
   "cell_type": "code",
   "execution_count": 32,
   "id": "194c732f",
   "metadata": {},
   "outputs": [
    {
     "data": {
      "text/plain": [
       "<AxesSubplot:ylabel='Personal Injury'>"
      ]
     },
     "execution_count": 32,
     "metadata": {},
     "output_type": "execute_result"
    },
    {
     "data": {
      "image/png": "[encoded data removed]",
      "text/plain": [
       "<Figure size 1080x288 with 1 Axes>"
      ]
     },
     "metadata": {
      "needs_background": "light"
     },
     "output_type": "display_data"
    }
   ],
   "source": [
    "injury = pd.crosstab(train['Personal Injury'], train['Contributed To Accident'], normalize = 'index')\n",
    "injury.plot.barh(stacked = True, figsize = (15, 4), fontsize = 10)"
   ]
  },
  {
   "cell_type": "markdown",
   "id": "feaa8b9b",
   "metadata": {},
   "source": [
    "### 5. Is contributed to accident has relationship with property damage?"
   ]
  },
  {
   "cell_type": "code",
   "execution_count": 33,
   "id": "d79c4c3c",
   "metadata": {},
   "outputs": [
    {
     "data": {
      "text/plain": [
       "<AxesSubplot:ylabel='Property Damage'>"
      ]
     },
     "execution_count": 33,
     "metadata": {},
     "output_type": "execute_result"
    },
    {
     "data": {
      "image/png": "[encoded data removed]",
      "text/plain": [
       "<Figure size 1080x288 with 1 Axes>"
      ]
     },
     "metadata": {
      "needs_background": "light"
     },
     "output_type": "display_data"
    }
   ],
   "source": [
    "accident = pd.crosstab(train['Property Damage'], train['Contributed To Accident'], normalize = 'index')\n",
    "accident.plot.barh(stacked = True, figsize = (15, 4), fontsize = 10)"
   ]
  },
  {
   "cell_type": "markdown",
   "id": "22408d04",
   "metadata": {},
   "source": [
    "## Summary"
   ]
  },
  {
   "cell_type": "markdown",
   "id": "578cb76f",
   "metadata": {},
   "source": [
    "hour, weekday, violation type, alcohol, personal injury, property damage."
   ]
  },
  {
   "cell_type": "markdown",
   "id": "dc30e653",
   "metadata": {},
   "source": [
    "## Feature selection"
   ]
  },
  {
   "cell_type": "code",
   "execution_count": 34,
   "id": "ca14c606",
   "metadata": {},
   "outputs": [],
   "source": [
    "from sklearn.feature_selection import SelectKBest, RFE, f_regression, SequentialFeatureSelector\n",
    "\n",
    "x_train = train[['Alcohol','Violation Type', 'Personal Injury','day_of_week', 'hour','Property Damage']]\n",
    "y_train = train[['Contributed To Accident']]\n",
    "\n",
    "x_train_dummy_feature = pd.get_dummies(x_train)\n",
    "y_train_dummy_feature = pd.get_dummies(y_train, drop_first=True)"
   ]
  },
  {
   "cell_type": "code",
   "execution_count": 35,
   "id": "b29254c0",
   "metadata": {},
   "outputs": [
    {
     "data": {
      "text/plain": [
       "Index(['Violation Type_Citation', 'Violation Type_ESERO',\n",
       "       'Violation Type_Warning', 'Personal Injury_No', 'Personal Injury_Yes',\n",
       "       'day_of_week_Saturday', 'day_of_week_Sunday', 'hour_05',\n",
       "       'Property Damage_No', 'Property Damage_Yes'],\n",
       "      dtype='object')"
      ]
     },
     "execution_count": 35,
     "metadata": {},
     "output_type": "execute_result"
    }
   ],
   "source": [
    "kbest = SelectKBest(f_regression, k=10)\n",
    "kbest.fit(x_train_dummy_feature, y_train_dummy_feature)\n",
    "x_train_dummy_feature.columns[kbest.get_support()]"
   ]
  },
  {
   "cell_type": "code",
   "execution_count": 42,
   "id": "14f5d6f0",
   "metadata": {},
   "outputs": [
    {
     "data": {
      "text/plain": [
       "Index(['hour_00', 'hour_01', 'hour_02', 'hour_07', 'hour_08', 'hour_09',\n",
       "       'hour_10', 'hour_11', 'hour_13', 'hour_16', 'hour_21', 'hour_22',\n",
       "       'hour_23', 'Property Damage_No', 'Property Damage_Yes'],\n",
       "      dtype='object')"
      ]
     },
     "execution_count": 42,
     "metadata": {},
     "output_type": "execute_result"
    }
   ],
   "source": [
    "from sklearn.linear_model import LinearRegression\n",
    "model = LinearRegression()\n",
    "rfe = RFE(model, n_features_to_select=15)\n",
    "rfe.fit(x_train_dummy_feature, y_train_dummy_feature)\n",
    "x_train_dummy_feature.columns[rfe.get_support()]"
   ]
  },
  {
   "cell_type": "markdown",
   "id": "aeecd405",
   "metadata": {},
   "source": [
    "## Modeling\n",
    "\n",
    "metric : Recall (minimizing FN) : TP / (TP+FN)"
   ]
  },
  {
   "cell_type": "code",
   "execution_count": 166,
   "id": "80a2a0fa",
   "metadata": {},
   "outputs": [],
   "source": [
    "from sklearn.tree import DecisionTreeClassifier, plot_tree, export_text\n",
    "from sklearn.model_selection import train_test_split\n",
    "from sklearn.metrics import classification_report, confusion_matrix, plot_confusion_matrix\n",
    "from sklearn.ensemble import RandomForestClassifier\n",
    "from sklearn.linear_model import LogisticRegression\n",
    "from sklearn.neighbors import KNeighborsClassifier"
   ]
  },
  {
   "cell_type": "code",
   "execution_count": 37,
   "id": "2d968cf3",
   "metadata": {},
   "outputs": [
    {
     "data": {
      "text/html": [
       "<div>\n",
       "<style scoped>\n",
       "    .dataframe tbody tr th:only-of-type {\n",
       "        vertical-align: middle;\n",
       "    }\n",
       "\n",
       "    .dataframe tbody tr th {\n",
       "        vertical-align: top;\n",
       "    }\n",
       "\n",
       "    .dataframe thead th {\n",
       "        text-align: right;\n",
       "    }\n",
       "</style>\n",
       "<table border=\"1\" class=\"dataframe\">\n",
       "  <thead>\n",
       "    <tr style=\"text-align: right;\">\n",
       "      <th></th>\n",
       "      <th>Belts</th>\n",
       "      <th>Personal Injury</th>\n",
       "      <th>Property Damage</th>\n",
       "      <th>Alcohol</th>\n",
       "      <th>Violation Type</th>\n",
       "      <th>Contributed To Accident</th>\n",
       "      <th>Race</th>\n",
       "      <th>Gender</th>\n",
       "      <th>month</th>\n",
       "      <th>day_of_week</th>\n",
       "      <th>year</th>\n",
       "      <th>hour</th>\n",
       "    </tr>\n",
       "    <tr>\n",
       "      <th>date_time</th>\n",
       "      <th></th>\n",
       "      <th></th>\n",
       "      <th></th>\n",
       "      <th></th>\n",
       "      <th></th>\n",
       "      <th></th>\n",
       "      <th></th>\n",
       "      <th></th>\n",
       "      <th></th>\n",
       "      <th></th>\n",
       "      <th></th>\n",
       "      <th></th>\n",
       "    </tr>\n",
       "  </thead>\n",
       "  <tbody>\n",
       "    <tr>\n",
       "      <th>2014-01-05 21:42:00</th>\n",
       "      <td>No</td>\n",
       "      <td>No</td>\n",
       "      <td>No</td>\n",
       "      <td>No</td>\n",
       "      <td>Warning</td>\n",
       "      <td>0</td>\n",
       "      <td>BLACK</td>\n",
       "      <td>M</td>\n",
       "      <td>01-Jan</td>\n",
       "      <td>Sunday</td>\n",
       "      <td>2014</td>\n",
       "      <td>21</td>\n",
       "    </tr>\n",
       "    <tr>\n",
       "      <th>2019-02-08 22:41:00</th>\n",
       "      <td>No</td>\n",
       "      <td>No</td>\n",
       "      <td>No</td>\n",
       "      <td>No</td>\n",
       "      <td>Citation</td>\n",
       "      <td>0</td>\n",
       "      <td>HISPANIC</td>\n",
       "      <td>F</td>\n",
       "      <td>02-Feb</td>\n",
       "      <td>Friday</td>\n",
       "      <td>2019</td>\n",
       "      <td>22</td>\n",
       "    </tr>\n",
       "    <tr>\n",
       "      <th>2013-04-21 00:42:00</th>\n",
       "      <td>No</td>\n",
       "      <td>No</td>\n",
       "      <td>No</td>\n",
       "      <td>No</td>\n",
       "      <td>Citation</td>\n",
       "      <td>0</td>\n",
       "      <td>WHITE</td>\n",
       "      <td>M</td>\n",
       "      <td>04-Apr</td>\n",
       "      <td>Sunday</td>\n",
       "      <td>2013</td>\n",
       "      <td>00</td>\n",
       "    </tr>\n",
       "    <tr>\n",
       "      <th>2016-04-25 21:42:00</th>\n",
       "      <td>No</td>\n",
       "      <td>No</td>\n",
       "      <td>No</td>\n",
       "      <td>No</td>\n",
       "      <td>Warning</td>\n",
       "      <td>0</td>\n",
       "      <td>BLACK</td>\n",
       "      <td>M</td>\n",
       "      <td>04-Apr</td>\n",
       "      <td>Monday</td>\n",
       "      <td>2016</td>\n",
       "      <td>21</td>\n",
       "    </tr>\n",
       "    <tr>\n",
       "      <th>2021-12-06 07:13:00</th>\n",
       "      <td>No</td>\n",
       "      <td>No</td>\n",
       "      <td>No</td>\n",
       "      <td>No</td>\n",
       "      <td>Warning</td>\n",
       "      <td>0</td>\n",
       "      <td>HISPANIC</td>\n",
       "      <td>F</td>\n",
       "      <td>12-Dec</td>\n",
       "      <td>Monday</td>\n",
       "      <td>2021</td>\n",
       "      <td>07</td>\n",
       "    </tr>\n",
       "  </tbody>\n",
       "</table>\n",
       "</div>"
      ],
      "text/plain": [
       "                    Belts Personal Injury Property Damage Alcohol  \\\n",
       "date_time                                                           \n",
       "2014-01-05 21:42:00    No              No              No      No   \n",
       "2019-02-08 22:41:00    No              No              No      No   \n",
       "2013-04-21 00:42:00    No              No              No      No   \n",
       "2016-04-25 21:42:00    No              No              No      No   \n",
       "2021-12-06 07:13:00    No              No              No      No   \n",
       "\n",
       "                    Violation Type  Contributed To Accident      Race Gender  \\\n",
       "date_time                                                                      \n",
       "2014-01-05 21:42:00        Warning                        0     BLACK      M   \n",
       "2019-02-08 22:41:00       Citation                        0  HISPANIC      F   \n",
       "2013-04-21 00:42:00       Citation                        0     WHITE      M   \n",
       "2016-04-25 21:42:00        Warning                        0     BLACK      M   \n",
       "2021-12-06 07:13:00        Warning                        0  HISPANIC      F   \n",
       "\n",
       "                      month day_of_week  year hour  \n",
       "date_time                                           \n",
       "2014-01-05 21:42:00  01-Jan      Sunday  2014   21  \n",
       "2019-02-08 22:41:00  02-Feb      Friday  2019   22  \n",
       "2013-04-21 00:42:00  04-Apr      Sunday  2013   00  \n",
       "2016-04-25 21:42:00  04-Apr      Monday  2016   21  \n",
       "2021-12-06 07:13:00  12-Dec      Monday  2021   07  "
      ]
     },
     "execution_count": 37,
     "metadata": {},
     "output_type": "execute_result"
    }
   ],
   "source": [
    "train.head()"
   ]
  },
  {
   "cell_type": "code",
   "execution_count": 38,
   "id": "fa3bec8e",
   "metadata": {},
   "outputs": [
    {
     "data": {
      "text/plain": [
       "0    983146\n",
       "1     26923\n",
       "Name: Contributed To Accident, dtype: int64"
      ]
     },
     "execution_count": 38,
     "metadata": {},
     "output_type": "execute_result"
    }
   ],
   "source": [
    "train['Contributed To Accident'].value_counts()"
   ]
  },
  {
   "cell_type": "code",
   "execution_count": 55,
   "id": "ccc1a077",
   "metadata": {},
   "outputs": [
    {
     "data": {
      "text/html": [
       "<div>\n",
       "<style scoped>\n",
       "    .dataframe tbody tr th:only-of-type {\n",
       "        vertical-align: middle;\n",
       "    }\n",
       "\n",
       "    .dataframe tbody tr th {\n",
       "        vertical-align: top;\n",
       "    }\n",
       "\n",
       "    .dataframe thead th {\n",
       "        text-align: right;\n",
       "    }\n",
       "</style>\n",
       "<table border=\"1\" class=\"dataframe\">\n",
       "  <thead>\n",
       "    <tr style=\"text-align: right;\">\n",
       "      <th></th>\n",
       "      <th>Belts</th>\n",
       "      <th>Personal Injury</th>\n",
       "      <th>Property Damage</th>\n",
       "      <th>Alcohol</th>\n",
       "      <th>Violation Type</th>\n",
       "      <th>Contributed To Accident</th>\n",
       "      <th>Race</th>\n",
       "      <th>Gender</th>\n",
       "      <th>month</th>\n",
       "      <th>day_of_week</th>\n",
       "      <th>year</th>\n",
       "      <th>hour</th>\n",
       "      <th>baseline</th>\n",
       "    </tr>\n",
       "    <tr>\n",
       "      <th>date_time</th>\n",
       "      <th></th>\n",
       "      <th></th>\n",
       "      <th></th>\n",
       "      <th></th>\n",
       "      <th></th>\n",
       "      <th></th>\n",
       "      <th></th>\n",
       "      <th></th>\n",
       "      <th></th>\n",
       "      <th></th>\n",
       "      <th></th>\n",
       "      <th></th>\n",
       "      <th></th>\n",
       "    </tr>\n",
       "  </thead>\n",
       "  <tbody>\n",
       "    <tr>\n",
       "      <th>2014-01-05 21:42:00</th>\n",
       "      <td>No</td>\n",
       "      <td>No</td>\n",
       "      <td>No</td>\n",
       "      <td>No</td>\n",
       "      <td>Warning</td>\n",
       "      <td>0</td>\n",
       "      <td>BLACK</td>\n",
       "      <td>M</td>\n",
       "      <td>01-Jan</td>\n",
       "      <td>Sunday</td>\n",
       "      <td>2014</td>\n",
       "      <td>21</td>\n",
       "      <td>0</td>\n",
       "    </tr>\n",
       "    <tr>\n",
       "      <th>2019-02-08 22:41:00</th>\n",
       "      <td>No</td>\n",
       "      <td>No</td>\n",
       "      <td>No</td>\n",
       "      <td>No</td>\n",
       "      <td>Citation</td>\n",
       "      <td>0</td>\n",
       "      <td>HISPANIC</td>\n",
       "      <td>F</td>\n",
       "      <td>02-Feb</td>\n",
       "      <td>Friday</td>\n",
       "      <td>2019</td>\n",
       "      <td>22</td>\n",
       "      <td>0</td>\n",
       "    </tr>\n",
       "    <tr>\n",
       "      <th>2013-04-21 00:42:00</th>\n",
       "      <td>No</td>\n",
       "      <td>No</td>\n",
       "      <td>No</td>\n",
       "      <td>No</td>\n",
       "      <td>Citation</td>\n",
       "      <td>0</td>\n",
       "      <td>WHITE</td>\n",
       "      <td>M</td>\n",
       "      <td>04-Apr</td>\n",
       "      <td>Sunday</td>\n",
       "      <td>2013</td>\n",
       "      <td>00</td>\n",
       "      <td>0</td>\n",
       "    </tr>\n",
       "    <tr>\n",
       "      <th>2016-04-25 21:42:00</th>\n",
       "      <td>No</td>\n",
       "      <td>No</td>\n",
       "      <td>No</td>\n",
       "      <td>No</td>\n",
       "      <td>Warning</td>\n",
       "      <td>0</td>\n",
       "      <td>BLACK</td>\n",
       "      <td>M</td>\n",
       "      <td>04-Apr</td>\n",
       "      <td>Monday</td>\n",
       "      <td>2016</td>\n",
       "      <td>21</td>\n",
       "      <td>0</td>\n",
       "    </tr>\n",
       "    <tr>\n",
       "      <th>2021-12-06 07:13:00</th>\n",
       "      <td>No</td>\n",
       "      <td>No</td>\n",
       "      <td>No</td>\n",
       "      <td>No</td>\n",
       "      <td>Warning</td>\n",
       "      <td>0</td>\n",
       "      <td>HISPANIC</td>\n",
       "      <td>F</td>\n",
       "      <td>12-Dec</td>\n",
       "      <td>Monday</td>\n",
       "      <td>2021</td>\n",
       "      <td>07</td>\n",
       "      <td>0</td>\n",
       "    </tr>\n",
       "  </tbody>\n",
       "</table>\n",
       "</div>"
      ],
      "text/plain": [
       "                    Belts Personal Injury Property Damage Alcohol  \\\n",
       "date_time                                                           \n",
       "2014-01-05 21:42:00    No              No              No      No   \n",
       "2019-02-08 22:41:00    No              No              No      No   \n",
       "2013-04-21 00:42:00    No              No              No      No   \n",
       "2016-04-25 21:42:00    No              No              No      No   \n",
       "2021-12-06 07:13:00    No              No              No      No   \n",
       "\n",
       "                    Violation Type  Contributed To Accident      Race Gender  \\\n",
       "date_time                                                                      \n",
       "2014-01-05 21:42:00        Warning                        0     BLACK      M   \n",
       "2019-02-08 22:41:00       Citation                        0  HISPANIC      F   \n",
       "2013-04-21 00:42:00       Citation                        0     WHITE      M   \n",
       "2016-04-25 21:42:00        Warning                        0     BLACK      M   \n",
       "2021-12-06 07:13:00        Warning                        0  HISPANIC      F   \n",
       "\n",
       "                      month day_of_week  year hour  baseline  \n",
       "date_time                                                     \n",
       "2014-01-05 21:42:00  01-Jan      Sunday  2014   21         0  \n",
       "2019-02-08 22:41:00  02-Feb      Friday  2019   22         0  \n",
       "2013-04-21 00:42:00  04-Apr      Sunday  2013   00         0  \n",
       "2016-04-25 21:42:00  04-Apr      Monday  2016   21         0  \n",
       "2021-12-06 07:13:00  12-Dec      Monday  2021   07         0  "
      ]
     },
     "execution_count": 55,
     "metadata": {},
     "output_type": "execute_result"
    }
   ],
   "source": [
    "train['baseline'] = 0\n",
    "train.head()"
   ]
  },
  {
   "cell_type": "code",
   "execution_count": 56,
   "id": "0b461c02",
   "metadata": {},
   "outputs": [
    {
     "name": "stdout",
     "output_type": "stream",
     "text": [
      "baseline accuracy on train set: 97.33%\n"
     ]
    }
   ],
   "source": [
    "baseline_accuracy = (train['Contributed To Accident'] == train.baseline).mean()\n",
    "print(f'baseline accuracy on train set: {baseline_accuracy:.2%}')"
   ]
  },
  {
   "cell_type": "code",
   "execution_count": null,
   "id": "f7c6d7d0",
   "metadata": {},
   "outputs": [],
   "source": [
    "# # split the data and get dummy variables for modeling part\n",
    "\n",
    "# x_train = train[['Alcohol','Violation Type','Contributed To Accident','hour']]\n",
    "# y_train = train[['Property Damage']]\n",
    "\n",
    "# x_validate = validate[['Alcohol','Violation Type','Contributed To Accident','hour']]\n",
    "# y_validate = validate[['Property Damage']]\n",
    "\n",
    "# x_test = test[['Alcohol','Violation Type','Contributed To Accident','hour']]\n",
    "# y_test = test[['Property Damage']]\n",
    "\n",
    "# x_train_dummy = pd.get_dummies(x_train, drop_first=True)\n",
    "# x_validate_dummy = pd.get_dummies(x_validate, drop_first=True)\n",
    "# x_test_dummy = pd.get_dummies(x_test, drop_first=True)\n",
    "\n",
    "# y_train_dummy = pd.get_dummies(y_train, drop_first=True)\n",
    "# y_validate_dummy = pd.get_dummies(y_validate, drop_first=True)\n",
    "# y_test_dummy = pd.get_dummies(y_test, drop_first=True)"
   ]
  },
  {
   "cell_type": "code",
   "execution_count": 45,
   "id": "afe10349",
   "metadata": {},
   "outputs": [],
   "source": [
    "# train_dummy = pd.get_dummies(train, drop_first=True)\n",
    "# validate_dummy = pd.get_dummies(validate, drop_first=True)\n",
    "# test_dummy = pd.get_dummies(test, drop_first=True)"
   ]
  },
  {
   "cell_type": "markdown",
   "id": "50eb7f7a",
   "metadata": {},
   "source": [
    "## 1. Decision Tree"
   ]
  },
  {
   "cell_type": "code",
   "execution_count": null,
   "id": "7b682fb1",
   "metadata": {},
   "outputs": [],
   "source": [
    "# use Violation Type, Personal Injury, day_of_week"
   ]
  },
  {
   "cell_type": "code",
   "execution_count": 133,
   "id": "7d34c094",
   "metadata": {},
   "outputs": [],
   "source": [
    "x_train = train[['Violation Type','Personal Injury','day_of_week','Property Damage']]\n",
    "y_train = train[['Contributed To Accident']]\n",
    "x_validate = validate[['Violation Type','Personal Injury','day_of_week','Property Damage']]\n",
    "y_validate = validate[['Contributed To Accident']]\n",
    "x_test = validate[['Violation Type','Personal Injury','day_of_week','Property Damage']]\n",
    "y_test = validate[['Contributed To Accident']]\n",
    "\n",
    "x_train = pd.get_dummies(x_train, drop_first=True)\n",
    "y_train = pd.get_dummies(y_train, drop_first=True)\n",
    "x_validate = pd.get_dummies(x_validate, drop_first=True)\n",
    "y_validate = pd.get_dummies(y_validate, drop_first=True)\n",
    "x_test = pd.get_dummies(x_test, drop_first=True)\n",
    "y_test = pd.get_dummies(y_test, drop_first=True)"
   ]
  },
  {
   "cell_type": "code",
   "execution_count": 169,
   "id": "6b8e0fe2",
   "metadata": {},
   "outputs": [
    {
     "name": "stdout",
     "output_type": "stream",
     "text": [
      "              precision    recall  f1-score   support\n",
      "\n",
      "           0       0.98      1.00      0.99    983146\n",
      "           1       0.54      0.16      0.25     26923\n",
      "\n",
      "    accuracy                           0.97   1010069\n",
      "   macro avg       0.76      0.58      0.62   1010069\n",
      "weighted avg       0.97      0.97      0.97   1010069\n",
      "\n"
     ]
    }
   ],
   "source": [
    "# step 1: Creat your recipe\n",
    "tree = DecisionTreeClassifier(max_depth = 6)\n",
    "\n",
    "# Step 2: Fit your model to your in-sample data (train)\n",
    "tree.fit(x_train, y_train)\n",
    "\n",
    "predictions1 = tree.predict(x_train)\n",
    "\n",
    "print(classification_report(y_train, predictions1))"
   ]
  },
  {
   "cell_type": "code",
   "execution_count": 170,
   "id": "99e6a9c5",
   "metadata": {},
   "outputs": [
    {
     "name": "stdout",
     "output_type": "stream",
     "text": [
      "Accuracy of decision tree (max_depth=6) classifier on train set: 97.40%\n"
     ]
    }
   ],
   "source": [
    "print('Accuracy of decision tree (max_depth=6) classifier on train set: {:.2%}'\n",
    "     .format(tree.score(x_train, y_train)))"
   ]
  },
  {
   "cell_type": "code",
   "execution_count": 138,
   "id": "4d0e3069",
   "metadata": {},
   "outputs": [
    {
     "data": {
      "text/html": [
       "<div>\n",
       "<style scoped>\n",
       "    .dataframe tbody tr th:only-of-type {\n",
       "        vertical-align: middle;\n",
       "    }\n",
       "\n",
       "    .dataframe tbody tr th {\n",
       "        vertical-align: top;\n",
       "    }\n",
       "\n",
       "    .dataframe thead th {\n",
       "        text-align: right;\n",
       "    }\n",
       "</style>\n",
       "<table border=\"1\" class=\"dataframe\">\n",
       "  <thead>\n",
       "    <tr style=\"text-align: right;\">\n",
       "      <th></th>\n",
       "      <th>max_depth</th>\n",
       "      <th>train_accuracy</th>\n",
       "      <th>validate_accuracy</th>\n",
       "      <th>difference</th>\n",
       "    </tr>\n",
       "  </thead>\n",
       "  <tbody>\n",
       "    <tr>\n",
       "      <th>0</th>\n",
       "      <td>1</td>\n",
       "      <td>0.973345</td>\n",
       "      <td>0.973346</td>\n",
       "      <td>-0.000001</td>\n",
       "    </tr>\n",
       "    <tr>\n",
       "      <th>1</th>\n",
       "      <td>2</td>\n",
       "      <td>0.973353</td>\n",
       "      <td>0.973418</td>\n",
       "      <td>-0.000065</td>\n",
       "    </tr>\n",
       "    <tr>\n",
       "      <th>2</th>\n",
       "      <td>3</td>\n",
       "      <td>0.973691</td>\n",
       "      <td>0.973751</td>\n",
       "      <td>-0.000060</td>\n",
       "    </tr>\n",
       "    <tr>\n",
       "      <th>3</th>\n",
       "      <td>4</td>\n",
       "      <td>0.973854</td>\n",
       "      <td>0.973808</td>\n",
       "      <td>0.000046</td>\n",
       "    </tr>\n",
       "    <tr>\n",
       "      <th>4</th>\n",
       "      <td>5</td>\n",
       "      <td>0.973948</td>\n",
       "      <td>0.973945</td>\n",
       "      <td>0.000004</td>\n",
       "    </tr>\n",
       "    <tr>\n",
       "      <th>5</th>\n",
       "      <td>6</td>\n",
       "      <td>0.973959</td>\n",
       "      <td>0.973947</td>\n",
       "      <td>0.000012</td>\n",
       "    </tr>\n",
       "    <tr>\n",
       "      <th>6</th>\n",
       "      <td>7</td>\n",
       "      <td>0.973959</td>\n",
       "      <td>0.973947</td>\n",
       "      <td>0.000012</td>\n",
       "    </tr>\n",
       "    <tr>\n",
       "      <th>7</th>\n",
       "      <td>8</td>\n",
       "      <td>0.973959</td>\n",
       "      <td>0.973947</td>\n",
       "      <td>0.000012</td>\n",
       "    </tr>\n",
       "    <tr>\n",
       "      <th>8</th>\n",
       "      <td>9</td>\n",
       "      <td>0.973959</td>\n",
       "      <td>0.973947</td>\n",
       "      <td>0.000012</td>\n",
       "    </tr>\n",
       "  </tbody>\n",
       "</table>\n",
       "</div>"
      ],
      "text/plain": [
       "   max_depth  train_accuracy  validate_accuracy  difference\n",
       "0          1        0.973345           0.973346   -0.000001\n",
       "1          2        0.973353           0.973418   -0.000065\n",
       "2          3        0.973691           0.973751   -0.000060\n",
       "3          4        0.973854           0.973808    0.000046\n",
       "4          5        0.973948           0.973945    0.000004\n",
       "5          6        0.973959           0.973947    0.000012\n",
       "6          7        0.973959           0.973947    0.000012\n",
       "7          8        0.973959           0.973947    0.000012\n",
       "8          9        0.973959           0.973947    0.000012"
      ]
     },
     "execution_count": 138,
     "metadata": {},
     "output_type": "execute_result"
    }
   ],
   "source": [
    "metrics = []\n",
    "for i in range(1, 10):\n",
    "    # Make the model\n",
    "    tree = DecisionTreeClassifier(max_depth=i, random_state=123)\n",
    "\n",
    "    # Fit the model (on train and only train)\n",
    "    tree = tree.fit(x_train, y_train)\n",
    "\n",
    "    # Use the model\n",
    "    # We'll evaluate the model's performance on train, first\n",
    "    in_sample_accuracy = tree.score(x_train, y_train)\n",
    "    \n",
    "    out_of_sample_accuracy = tree.score(x_validate, y_validate)\n",
    "\n",
    "    output = {\n",
    "        \"max_depth\": i,\n",
    "        \"train_accuracy\": in_sample_accuracy,\n",
    "        \"validate_accuracy\": out_of_sample_accuracy\n",
    "    }\n",
    "    \n",
    "    metrics.append(output)\n",
    "    \n",
    "df = pd.DataFrame(metrics)\n",
    "df[\"difference\"] = df.train_accuracy - df.validate_accuracy\n",
    "df"
   ]
  },
  {
   "cell_type": "code",
   "execution_count": 139,
   "id": "90610ab0",
   "metadata": {},
   "outputs": [
    {
     "data": {
      "image/png": "[encoded data removed]",
      "text/plain": [
       "<Figure size 864x432 with 1 Axes>"
      ]
     },
     "metadata": {
      "needs_background": "light"
     },
     "output_type": "display_data"
    }
   ],
   "source": [
    "plt.figure(figsize=(12, 6))\n",
    "plt.plot(df.max_depth, df.train_accuracy, marker = 'o')\n",
    "plt.plot(df.max_depth, df.validate_accuracy, marker = 'o')\n",
    "plt.title('Overfitting Occurs at Higher Values for Max Depth')\n",
    "plt.xlabel('Max Depth')\n",
    "plt.ylabel('Accuracy')\n",
    "plt.show()"
   ]
  },
  {
   "cell_type": "markdown",
   "id": "cba392df",
   "metadata": {},
   "source": [
    "* max_depth = 6"
   ]
  },
  {
   "cell_type": "markdown",
   "id": "3abd96c8",
   "metadata": {},
   "source": [
    "## 2. Random forest"
   ]
  },
  {
   "cell_type": "code",
   "execution_count": 171,
   "id": "1242d294",
   "metadata": {},
   "outputs": [
    {
     "name": "stdout",
     "output_type": "stream",
     "text": [
      "              precision    recall  f1-score   support\n",
      "\n",
      "           0       0.98      1.00      0.99    983146\n",
      "           1       0.54      0.16      0.25     26923\n",
      "\n",
      "    accuracy                           0.97   1010069\n",
      "   macro avg       0.76      0.58      0.62   1010069\n",
      "weighted avg       0.97      0.97      0.97   1010069\n",
      "\n"
     ]
    }
   ],
   "source": [
    "from sklearn.ensemble import RandomForestClassifier\n",
    "rf = RandomForestClassifier(max_depth=9, \n",
    "                            min_samples_leaf=6,\n",
    "                            random_state=123)\n",
    "rf.fit(x_train, y_train)\n",
    "predictions2 = rf.predict(x_train)\n",
    "\n",
    "print(classification_report(y_train, predictions2))"
   ]
  },
  {
   "cell_type": "code",
   "execution_count": 172,
   "id": "6e497e33",
   "metadata": {},
   "outputs": [
    {
     "name": "stdout",
     "output_type": "stream",
     "text": [
      "Accuracy of random forest (max_depth=9) classifier on train set: 97.40%\n"
     ]
    }
   ],
   "source": [
    "print('Accuracy of random forest (max_depth=9) classifier on train set: {:.2%}'\n",
    "     .format(rf.score(x_train, y_train)))"
   ]
  },
  {
   "cell_type": "code",
   "execution_count": 153,
   "id": "2e2166fe",
   "metadata": {},
   "outputs": [
    {
     "data": {
      "text/html": [
       "<div>\n",
       "<style scoped>\n",
       "    .dataframe tbody tr th:only-of-type {\n",
       "        vertical-align: middle;\n",
       "    }\n",
       "\n",
       "    .dataframe tbody tr th {\n",
       "        vertical-align: top;\n",
       "    }\n",
       "\n",
       "    .dataframe thead th {\n",
       "        text-align: right;\n",
       "    }\n",
       "</style>\n",
       "<table border=\"1\" class=\"dataframe\">\n",
       "  <thead>\n",
       "    <tr style=\"text-align: right;\">\n",
       "      <th></th>\n",
       "      <th>max_depth</th>\n",
       "      <th>min_sample_lead</th>\n",
       "      <th>train_accuracy</th>\n",
       "      <th>validate_accuracy</th>\n",
       "      <th>difference</th>\n",
       "    </tr>\n",
       "  </thead>\n",
       "  <tbody>\n",
       "    <tr>\n",
       "      <th>0</th>\n",
       "      <td>14</td>\n",
       "      <td>1</td>\n",
       "      <td>0.973959</td>\n",
       "      <td>0.973947</td>\n",
       "      <td>0.000012</td>\n",
       "    </tr>\n",
       "    <tr>\n",
       "      <th>1</th>\n",
       "      <td>13</td>\n",
       "      <td>2</td>\n",
       "      <td>0.973959</td>\n",
       "      <td>0.973947</td>\n",
       "      <td>0.000012</td>\n",
       "    </tr>\n",
       "    <tr>\n",
       "      <th>2</th>\n",
       "      <td>12</td>\n",
       "      <td>3</td>\n",
       "      <td>0.973957</td>\n",
       "      <td>0.973947</td>\n",
       "      <td>0.000010</td>\n",
       "    </tr>\n",
       "    <tr>\n",
       "      <th>3</th>\n",
       "      <td>11</td>\n",
       "      <td>4</td>\n",
       "      <td>0.973957</td>\n",
       "      <td>0.973947</td>\n",
       "      <td>0.000010</td>\n",
       "    </tr>\n",
       "    <tr>\n",
       "      <th>4</th>\n",
       "      <td>10</td>\n",
       "      <td>5</td>\n",
       "      <td>0.973957</td>\n",
       "      <td>0.973947</td>\n",
       "      <td>0.000010</td>\n",
       "    </tr>\n",
       "    <tr>\n",
       "      <th>5</th>\n",
       "      <td>9</td>\n",
       "      <td>6</td>\n",
       "      <td>0.973957</td>\n",
       "      <td>0.973947</td>\n",
       "      <td>0.000010</td>\n",
       "    </tr>\n",
       "    <tr>\n",
       "      <th>6</th>\n",
       "      <td>8</td>\n",
       "      <td>7</td>\n",
       "      <td>0.973839</td>\n",
       "      <td>0.973725</td>\n",
       "      <td>0.000114</td>\n",
       "    </tr>\n",
       "    <tr>\n",
       "      <th>7</th>\n",
       "      <td>7</td>\n",
       "      <td>8</td>\n",
       "      <td>0.973760</td>\n",
       "      <td>0.973594</td>\n",
       "      <td>0.000167</td>\n",
       "    </tr>\n",
       "    <tr>\n",
       "      <th>8</th>\n",
       "      <td>6</td>\n",
       "      <td>9</td>\n",
       "      <td>0.973345</td>\n",
       "      <td>0.973346</td>\n",
       "      <td>-0.000001</td>\n",
       "    </tr>\n",
       "    <tr>\n",
       "      <th>9</th>\n",
       "      <td>5</td>\n",
       "      <td>10</td>\n",
       "      <td>0.973345</td>\n",
       "      <td>0.973346</td>\n",
       "      <td>-0.000001</td>\n",
       "    </tr>\n",
       "    <tr>\n",
       "      <th>10</th>\n",
       "      <td>4</td>\n",
       "      <td>11</td>\n",
       "      <td>0.973345</td>\n",
       "      <td>0.973346</td>\n",
       "      <td>-0.000001</td>\n",
       "    </tr>\n",
       "    <tr>\n",
       "      <th>11</th>\n",
       "      <td>3</td>\n",
       "      <td>12</td>\n",
       "      <td>0.973345</td>\n",
       "      <td>0.973346</td>\n",
       "      <td>-0.000001</td>\n",
       "    </tr>\n",
       "    <tr>\n",
       "      <th>12</th>\n",
       "      <td>2</td>\n",
       "      <td>13</td>\n",
       "      <td>0.973345</td>\n",
       "      <td>0.973346</td>\n",
       "      <td>-0.000001</td>\n",
       "    </tr>\n",
       "    <tr>\n",
       "      <th>13</th>\n",
       "      <td>1</td>\n",
       "      <td>14</td>\n",
       "      <td>0.973345</td>\n",
       "      <td>0.973346</td>\n",
       "      <td>-0.000001</td>\n",
       "    </tr>\n",
       "  </tbody>\n",
       "</table>\n",
       "</div>"
      ],
      "text/plain": [
       "    max_depth  min_sample_lead  train_accuracy  validate_accuracy  difference\n",
       "0          14                1        0.973959           0.973947    0.000012\n",
       "1          13                2        0.973959           0.973947    0.000012\n",
       "2          12                3        0.973957           0.973947    0.000010\n",
       "3          11                4        0.973957           0.973947    0.000010\n",
       "4          10                5        0.973957           0.973947    0.000010\n",
       "5           9                6        0.973957           0.973947    0.000010\n",
       "6           8                7        0.973839           0.973725    0.000114\n",
       "7           7                8        0.973760           0.973594    0.000167\n",
       "8           6                9        0.973345           0.973346   -0.000001\n",
       "9           5               10        0.973345           0.973346   -0.000001\n",
       "10          4               11        0.973345           0.973346   -0.000001\n",
       "11          3               12        0.973345           0.973346   -0.000001\n",
       "12          2               13        0.973345           0.973346   -0.000001\n",
       "13          1               14        0.973345           0.973346   -0.000001"
      ]
     },
     "execution_count": 153,
     "metadata": {},
     "output_type": "execute_result"
    }
   ],
   "source": [
    "metrics = []\n",
    "\n",
    "for i in range(1,15):\n",
    "    rf = RandomForestClassifier(max_depth=(15-i), \n",
    "                            min_samples_leaf=i,\n",
    "                            random_state=123)\n",
    "    \n",
    "    rf = rf.fit(x_train, y_train)\n",
    "    \n",
    "    in_sample_accuracy = rf.score(x_train, y_train)\n",
    "    \n",
    "    out_of_sample_accuracy = rf.score(x_validate, y_validate)\n",
    "    \n",
    "    output = {\"max_depth\": (15-i),\"min_sample_lead\" :i,\n",
    "        \"train_accuracy\": in_sample_accuracy,\n",
    "        \"validate_accuracy\": out_of_sample_accuracy}\n",
    "        \n",
    "    metrics.append(output)\n",
    "    \n",
    "df = pd.DataFrame(metrics)\n",
    "df[\"difference\"] = df.train_accuracy - df.validate_accuracy\n",
    "df"
   ]
  },
  {
   "cell_type": "code",
   "execution_count": 154,
   "id": "90265c70",
   "metadata": {},
   "outputs": [
    {
     "data": {
      "image/png": "[encoded data removed]",
      "text/plain": [
       "<Figure size 864x432 with 1 Axes>"
      ]
     },
     "metadata": {
      "needs_background": "light"
     },
     "output_type": "display_data"
    }
   ],
   "source": [
    "plt.figure(figsize=(12, 6))\n",
    "plt.plot(df.max_depth, df.train_accuracy, color = 'r', marker = 'o')\n",
    "plt.plot(df.max_depth, df.validate_accuracy, color = 'b', marker = 'o')\n",
    "plt.title('Overfitting Occurs at Higher Values for Max Depth')\n",
    "plt.xlabel('Max Depth')\n",
    "plt.ylabel('Accuracy')\n",
    "plt.show()"
   ]
  },
  {
   "cell_type": "markdown",
   "id": "dc14dd62",
   "metadata": {},
   "source": [
    "* max_depth = 9, leaf = 6"
   ]
  },
  {
   "cell_type": "markdown",
   "id": "c2838314",
   "metadata": {},
   "source": [
    "### 3. Logistic Regression"
   ]
  },
  {
   "cell_type": "code",
   "execution_count": 173,
   "id": "6eecdf2f",
   "metadata": {},
   "outputs": [
    {
     "name": "stdout",
     "output_type": "stream",
     "text": [
      "              precision    recall  f1-score   support\n",
      "\n",
      "           0       0.98      0.99      0.99    983146\n",
      "           1       0.51      0.28      0.36     26923\n",
      "\n",
      "    accuracy                           0.97   1010069\n",
      "   macro avg       0.74      0.63      0.67   1010069\n",
      "weighted avg       0.97      0.97      0.97   1010069\n",
      "\n"
     ]
    }
   ],
   "source": [
    "# Define the logistic regression model\n",
    "logit = LogisticRegression(C=1, random_state=123)\n",
    "\n",
    "#  fit the model on train data\n",
    "logit.fit(x_train, y_train)\n",
    "\n",
    "# now use the model to make predictions\n",
    "predictions3 = logit.predict(x_train)\n",
    "\n",
    "print(classification_report(y_train, predictions3))"
   ]
  },
  {
   "cell_type": "code",
   "execution_count": 174,
   "id": "46e6d0bb",
   "metadata": {},
   "outputs": [
    {
     "name": "stdout",
     "output_type": "stream",
     "text": [
      "Accuracy of Logistic Regression (c=1) on train set: 97.36%\n"
     ]
    }
   ],
   "source": [
    "print('Accuracy of Logistic Regression (c=1) on train set: {:.2%}'\n",
    "     .format(logit.score(x_train, y_train)))"
   ]
  },
  {
   "cell_type": "markdown",
   "id": "a4f8f107",
   "metadata": {},
   "source": [
    "### 4. KNN "
   ]
  },
  {
   "cell_type": "code",
   "execution_count": null,
   "id": "2e36d9c2",
   "metadata": {},
   "outputs": [],
   "source": [
    "knn = KNeighborsClassifier(n_neighbors=1)\n",
    "knn.fit(x_train, y_train)\n",
    "predictions4 = knn.predict(x_train)\n",
    "print(classification_report(y_train, predictions4))"
   ]
  },
  {
   "cell_type": "code",
   "execution_count": null,
   "id": "887e76c5",
   "metadata": {},
   "outputs": [],
   "source": [
    "print('Accuracy of KNN(k=1) classifier on training set: {:.2f}'\n",
    "     .format(knn.score(x_train, y_train)))"
   ]
  },
  {
   "cell_type": "code",
   "execution_count": null,
   "id": "bffcfb7e",
   "metadata": {},
   "outputs": [],
   "source": []
  },
  {
   "cell_type": "code",
   "execution_count": null,
   "id": "48d3f853",
   "metadata": {},
   "outputs": [],
   "source": []
  },
  {
   "cell_type": "code",
   "execution_count": 165,
   "id": "0b18ea8f",
   "metadata": {},
   "outputs": [
    {
     "name": "stdout",
     "output_type": "stream",
     "text": [
      "Accuracy of decision tree (max_depth=6) classifier on train set: 97.40%\n",
      "Accuracy of random forest (max_depth=9) classifier on train set: 97.40%\n",
      "Accuracy of Logistic Regression (c=1) on train set: 97.36%\n"
     ]
    }
   ],
   "source": [
    "print('Accuracy of decision tree (max_depth=6) classifier on train set: {:.2%}'\n",
    "     .format(tree.score(x_train, y_train)))\n",
    "print('Accuracy of random forest (max_depth=9) classifier on train set: {:.2%}'\n",
    "     .format(rf.score(x_train, y_train)))\n",
    "print('Accuracy of Logistic Regression (c=1) on train set: {:.2%}'\n",
    "     .format(logit.score(x_train, y_train)))"
   ]
  },
  {
   "cell_type": "code",
   "execution_count": null,
   "id": "58717762",
   "metadata": {},
   "outputs": [],
   "source": []
  },
  {
   "cell_type": "code",
   "execution_count": null,
   "id": "d2347a3e",
   "metadata": {},
   "outputs": [],
   "source": []
  },
  {
   "cell_type": "code",
   "execution_count": null,
   "id": "dd5bfeca",
   "metadata": {},
   "outputs": [],
   "source": []
  },
  {
   "cell_type": "code",
   "execution_count": null,
   "id": "ff7aeac5",
   "metadata": {},
   "outputs": [],
   "source": []
  },
  {
   "cell_type": "code",
   "execution_count": null,
   "id": "e1e4577f",
   "metadata": {},
   "outputs": [],
   "source": []
  },
  {
   "cell_type": "code",
   "execution_count": null,
   "id": "e88b8e8d",
   "metadata": {},
   "outputs": [],
   "source": []
  },
  {
   "cell_type": "code",
   "execution_count": null,
   "id": "9659a1c0",
   "metadata": {},
   "outputs": [],
   "source": []
  }
 ],
 "metadata": {
  "kernelspec": {
   "display_name": "Python 3 (ipykernel)",
   "language": "python",
   "name": "python3"
  },
  "language_info": {
   "codemirror_mode": {
    "name": "ipython",
    "version": 3
   },
   "file_extension": ".py",
   "mimetype": "text/x-python",
   "name": "python",
   "nbconvert_exporter": "python",
   "pygments_lexer": "ipython3",
   "version": "3.9.12"
  }
 },
 "nbformat": 4,
 "nbformat_minor": 5
}
