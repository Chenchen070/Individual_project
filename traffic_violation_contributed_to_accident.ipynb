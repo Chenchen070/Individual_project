{
 "cells": [
  {
   "cell_type": "code",
   "execution_count": 2,
   "id": "89a8d93b",
   "metadata": {},
   "outputs": [],
   "source": [
    "import pandas as pd\n",
    "import datetime as dt\n",
    "import numpy as np\n",
    "import matplotlib.pyplot as plt\n",
    "import seaborn as sns\n",
    "import scipy.stats as stats\n",
    "import warnings\n",
    "warnings.filterwarnings('ignore')"
   ]
  },
  {
   "cell_type": "markdown",
   "id": "4b88409f",
   "metadata": {},
   "source": [
    "Data source:\n",
    "https://data.montgomerycountymd.gov/Public-Safety/Traffic-Violations/4mse-ku6q\n",
    "* original data: 2012-01-01 to 2022-08-15"
   ]
  },
  {
   "cell_type": "markdown",
   "id": "2cd48630",
   "metadata": {},
   "source": [
    "## Data Dictionary\n",
    "\n",
    "* Date Of Stop: Date of the traffic violation.\n",
    "* Time Of Stop: Time of the traffic violation.\n",
    "* SubAgency: Court code representing the district of assignment of the officer. \n",
    "* Belts: YES if seat belts were in use in accident cases.\n",
    "* Personal Injury: Yes if traffic violation involved Personal Injury.\n",
    "* Property Damage: Yes if traffic violation involved Property Damage.\n",
    "* Alcohol: Yes if the traffic violation included an alcohol related suspension.\n",
    "* Violation Type: Violation type. (Examples: Warning, Citation, SERO)\n",
    "* Contributed To Accident: If the traffic violation was a contributing factor in an accident.\n",
    "* Race: Race of the driver. (Example: Asian, Black, White, Other, etc.)\n",
    "* Gender: Gender of the driver (F = Female, M = Male)"
   ]
  },
  {
   "cell_type": "code",
   "execution_count": 56,
   "id": "60b8bcc5",
   "metadata": {},
   "outputs": [],
   "source": [
    "df = pd.read_csv('Traffic_Violations_montgomery_county.csv')"
   ]
  },
  {
   "cell_type": "code",
   "execution_count": 57,
   "id": "c5d0cfa6",
   "metadata": {},
   "outputs": [
    {
     "name": "stdout",
     "output_type": "stream",
     "text": [
      "<class 'pandas.core.frame.DataFrame'>\n",
      "RangeIndex: 1803695 entries, 0 to 1803694\n",
      "Data columns (total 11 columns):\n",
      " #   Column                   Dtype \n",
      "---  ------                   ----- \n",
      " 0   Date Of Stop             object\n",
      " 1   Time Of Stop             object\n",
      " 2   SubAgency                object\n",
      " 3   Belts                    object\n",
      " 4   Personal Injury          object\n",
      " 5   Property Damage          object\n",
      " 6   Alcohol                  object\n",
      " 7   Violation Type           object\n",
      " 8   Contributed To Accident  bool  \n",
      " 9   Race                     object\n",
      " 10  Gender                   object\n",
      "dtypes: bool(1), object(10)\n",
      "memory usage: 139.3+ MB\n"
     ]
    }
   ],
   "source": [
    "# drop columns\n",
    "drop_col = ['SeqID', 'Agency', 'Accident', 'Fatal', 'Commercial License','HAZMAT', 'Commercial Vehicle', \n",
    "           'Work Zone', 'State', 'VehicleType', 'Year', 'Make', 'Model', 'Color', 'Charge', 'Article', 'Driver State', 'DL State', 'Search Reason For Stop', 'Search Arrest Reason', 'Location',\n",
    "           'Search Conducted', 'Search Disposition', 'Search Outcome', 'Search Reason', 'Search Type','Geolocation',\n",
    "           'Latitude', 'Longitude','Description', 'Driver City', 'Arrest Type']\n",
    "df = df.drop(columns = drop_col)\n",
    "df.info()"
   ]
  },
  {
   "cell_type": "code",
   "execution_count": 58,
   "id": "121c071c",
   "metadata": {},
   "outputs": [
    {
     "data": {
      "text/plain": [
       "Date Of Stop               0\n",
       "Time Of Stop               0\n",
       "SubAgency                  0\n",
       "Belts                      0\n",
       "Personal Injury            0\n",
       "Property Damage            0\n",
       "Alcohol                    0\n",
       "Violation Type             0\n",
       "Contributed To Accident    0\n",
       "Race                       0\n",
       "Gender                     0\n",
       "dtype: int64"
      ]
     },
     "execution_count": 58,
     "metadata": {},
     "output_type": "execute_result"
    }
   ],
   "source": [
    "# check null value\n",
    "df.isnull().sum()"
   ]
  },
  {
   "cell_type": "code",
   "execution_count": 59,
   "id": "5de3e06d",
   "metadata": {},
   "outputs": [
    {
     "name": "stdout",
     "output_type": "stream",
     "text": [
      "<class 'pandas.core.frame.DataFrame'>\n",
      "RangeIndex: 1803695 entries, 0 to 1803694\n",
      "Data columns (total 10 columns):\n",
      " #   Column                   Dtype         \n",
      "---  ------                   -----         \n",
      " 0   SubAgency                object        \n",
      " 1   Belts                    object        \n",
      " 2   Personal Injury          object        \n",
      " 3   Property Damage          object        \n",
      " 4   Alcohol                  object        \n",
      " 5   Violation Type           object        \n",
      " 6   Contributed To Accident  bool          \n",
      " 7   Race                     object        \n",
      " 8   Gender                   object        \n",
      " 9   date_time                datetime64[ns]\n",
      "dtypes: bool(1), datetime64[ns](1), object(8)\n",
      "memory usage: 125.6+ MB\n"
     ]
    }
   ],
   "source": [
    "# convert time format\n",
    "df['date_time'] = df['Date Of Stop'] + ' ' + df['Time Of Stop']\n",
    "col = ['Date Of Stop', 'Time Of Stop']\n",
    "df = df.drop(columns = col)\n",
    "df['date_time'] = pd.to_datetime(df['date_time'])\n",
    "df.info()"
   ]
  },
  {
   "cell_type": "code",
   "execution_count": 60,
   "id": "8fb44e6e",
   "metadata": {},
   "outputs": [
    {
     "data": {
      "text/html": [
       "<div>\n",
       "<style scoped>\n",
       "    .dataframe tbody tr th:only-of-type {\n",
       "        vertical-align: middle;\n",
       "    }\n",
       "\n",
       "    .dataframe tbody tr th {\n",
       "        vertical-align: top;\n",
       "    }\n",
       "\n",
       "    .dataframe thead th {\n",
       "        text-align: right;\n",
       "    }\n",
       "</style>\n",
       "<table border=\"1\" class=\"dataframe\">\n",
       "  <thead>\n",
       "    <tr style=\"text-align: right;\">\n",
       "      <th></th>\n",
       "      <th>SubAgency</th>\n",
       "      <th>Belts</th>\n",
       "      <th>Personal Injury</th>\n",
       "      <th>Property Damage</th>\n",
       "      <th>Alcohol</th>\n",
       "      <th>Violation Type</th>\n",
       "      <th>Contributed To Accident</th>\n",
       "      <th>Race</th>\n",
       "      <th>Gender</th>\n",
       "      <th>month</th>\n",
       "      <th>day_of_week</th>\n",
       "      <th>year</th>\n",
       "      <th>hour</th>\n",
       "    </tr>\n",
       "    <tr>\n",
       "      <th>date_time</th>\n",
       "      <th></th>\n",
       "      <th></th>\n",
       "      <th></th>\n",
       "      <th></th>\n",
       "      <th></th>\n",
       "      <th></th>\n",
       "      <th></th>\n",
       "      <th></th>\n",
       "      <th></th>\n",
       "      <th></th>\n",
       "      <th></th>\n",
       "      <th></th>\n",
       "      <th></th>\n",
       "    </tr>\n",
       "  </thead>\n",
       "  <tbody>\n",
       "    <tr>\n",
       "      <th>2012-01-01 00:43:00</th>\n",
       "      <td>Headquarters and Special Operations</td>\n",
       "      <td>No</td>\n",
       "      <td>No</td>\n",
       "      <td>No</td>\n",
       "      <td>No</td>\n",
       "      <td>Warning</td>\n",
       "      <td>False</td>\n",
       "      <td>WHITE</td>\n",
       "      <td>M</td>\n",
       "      <td>01-Jan</td>\n",
       "      <td>Sunday</td>\n",
       "      <td>2012</td>\n",
       "      <td>00</td>\n",
       "    </tr>\n",
       "    <tr>\n",
       "      <th>2012-01-01 00:52:00</th>\n",
       "      <td>3rd District, Silver Spring</td>\n",
       "      <td>No</td>\n",
       "      <td>No</td>\n",
       "      <td>No</td>\n",
       "      <td>No</td>\n",
       "      <td>Citation</td>\n",
       "      <td>False</td>\n",
       "      <td>HISPANIC</td>\n",
       "      <td>F</td>\n",
       "      <td>01-Jan</td>\n",
       "      <td>Sunday</td>\n",
       "      <td>2012</td>\n",
       "      <td>00</td>\n",
       "    </tr>\n",
       "    <tr>\n",
       "      <th>2012-01-01 00:52:00</th>\n",
       "      <td>3rd District, Silver Spring</td>\n",
       "      <td>No</td>\n",
       "      <td>No</td>\n",
       "      <td>No</td>\n",
       "      <td>No</td>\n",
       "      <td>Citation</td>\n",
       "      <td>False</td>\n",
       "      <td>HISPANIC</td>\n",
       "      <td>F</td>\n",
       "      <td>01-Jan</td>\n",
       "      <td>Sunday</td>\n",
       "      <td>2012</td>\n",
       "      <td>00</td>\n",
       "    </tr>\n",
       "    <tr>\n",
       "      <th>2012-01-01 00:52:00</th>\n",
       "      <td>3rd District, Silver Spring</td>\n",
       "      <td>No</td>\n",
       "      <td>No</td>\n",
       "      <td>No</td>\n",
       "      <td>No</td>\n",
       "      <td>Citation</td>\n",
       "      <td>False</td>\n",
       "      <td>HISPANIC</td>\n",
       "      <td>F</td>\n",
       "      <td>01-Jan</td>\n",
       "      <td>Sunday</td>\n",
       "      <td>2012</td>\n",
       "      <td>00</td>\n",
       "    </tr>\n",
       "    <tr>\n",
       "      <th>2012-01-01 00:52:00</th>\n",
       "      <td>3rd District, Silver Spring</td>\n",
       "      <td>No</td>\n",
       "      <td>No</td>\n",
       "      <td>No</td>\n",
       "      <td>No</td>\n",
       "      <td>Citation</td>\n",
       "      <td>False</td>\n",
       "      <td>HISPANIC</td>\n",
       "      <td>F</td>\n",
       "      <td>01-Jan</td>\n",
       "      <td>Sunday</td>\n",
       "      <td>2012</td>\n",
       "      <td>00</td>\n",
       "    </tr>\n",
       "  </tbody>\n",
       "</table>\n",
       "</div>"
      ],
      "text/plain": [
       "                                               SubAgency Belts  \\\n",
       "date_time                                                        \n",
       "2012-01-01 00:43:00  Headquarters and Special Operations    No   \n",
       "2012-01-01 00:52:00          3rd District, Silver Spring    No   \n",
       "2012-01-01 00:52:00          3rd District, Silver Spring    No   \n",
       "2012-01-01 00:52:00          3rd District, Silver Spring    No   \n",
       "2012-01-01 00:52:00          3rd District, Silver Spring    No   \n",
       "\n",
       "                    Personal Injury Property Damage Alcohol Violation Type  \\\n",
       "date_time                                                                    \n",
       "2012-01-01 00:43:00              No              No      No        Warning   \n",
       "2012-01-01 00:52:00              No              No      No       Citation   \n",
       "2012-01-01 00:52:00              No              No      No       Citation   \n",
       "2012-01-01 00:52:00              No              No      No       Citation   \n",
       "2012-01-01 00:52:00              No              No      No       Citation   \n",
       "\n",
       "                     Contributed To Accident      Race Gender   month  \\\n",
       "date_time                                                               \n",
       "2012-01-01 00:43:00                    False     WHITE      M  01-Jan   \n",
       "2012-01-01 00:52:00                    False  HISPANIC      F  01-Jan   \n",
       "2012-01-01 00:52:00                    False  HISPANIC      F  01-Jan   \n",
       "2012-01-01 00:52:00                    False  HISPANIC      F  01-Jan   \n",
       "2012-01-01 00:52:00                    False  HISPANIC      F  01-Jan   \n",
       "\n",
       "                    day_of_week  year hour  \n",
       "date_time                                   \n",
       "2012-01-01 00:43:00      Sunday  2012   00  \n",
       "2012-01-01 00:52:00      Sunday  2012   00  \n",
       "2012-01-01 00:52:00      Sunday  2012   00  \n",
       "2012-01-01 00:52:00      Sunday  2012   00  \n",
       "2012-01-01 00:52:00      Sunday  2012   00  "
      ]
     },
     "execution_count": 60,
     "metadata": {},
     "output_type": "execute_result"
    }
   ],
   "source": [
    "# set the time to index and create new columns for year, month, day of the week and hour\n",
    "df.set_index('date_time', inplace=True)\n",
    "df.sort_index(inplace=True)\n",
    "df['month'] = df.index.strftime('%m-%b')\n",
    "df['day_of_week'] = df.index.strftime('%A')\n",
    "df['year'] = df.index.strftime('%Y')\n",
    "df['hour'] = df.index.strftime('%H')\n",
    "df.head()"
   ]
  },
  {
   "cell_type": "code",
   "execution_count": 61,
   "id": "b26e5fa7",
   "metadata": {},
   "outputs": [],
   "source": [
    "# convert the boolean value into int\n",
    "df['Contributed To Accident'] = np.where(df['Contributed To Accident'] == True, 1, df['Contributed To Accident'])\n",
    "df['Contributed To Accident'] = np.where(df['Contributed To Accident'] == False, 0, df['Contributed To Accident'])\n",
    "\n",
    "# SubAgency S15 and W15 only have less than 10 rows.\n",
    "df = df[df.SubAgency != 'S15']\n",
    "df = df[df.SubAgency != 'W15']\n",
    "\n",
    "# here we only use tha data from the past 6 years, from 2017, 3 normal years and 3 COVID years.\n",
    "df = df[df.year >= '2017']"
   ]
  },
  {
   "cell_type": "code",
   "execution_count": 62,
   "id": "809de795",
   "metadata": {},
   "outputs": [
    {
     "name": "stdout",
     "output_type": "stream",
     "text": [
      "<class 'pandas.core.frame.DataFrame'>\n",
      "DatetimeIndex: 782889 entries, 2017-01-01 00:00:00 to 2022-08-13 21:51:00\n",
      "Data columns (total 13 columns):\n",
      " #   Column                   Non-Null Count   Dtype \n",
      "---  ------                   --------------   ----- \n",
      " 0   SubAgency                782889 non-null  object\n",
      " 1   Belts                    782889 non-null  object\n",
      " 2   Personal Injury          782889 non-null  object\n",
      " 3   Property Damage          782889 non-null  object\n",
      " 4   Alcohol                  782889 non-null  object\n",
      " 5   Violation Type           782889 non-null  object\n",
      " 6   Contributed To Accident  782889 non-null  int64 \n",
      " 7   Race                     782889 non-null  object\n",
      " 8   Gender                   782889 non-null  object\n",
      " 9   month                    782889 non-null  object\n",
      " 10  day_of_week              782889 non-null  object\n",
      " 11  year                     782889 non-null  object\n",
      " 12  hour                     782889 non-null  object\n",
      "dtypes: int64(1), object(12)\n",
      "memory usage: 83.6+ MB\n"
     ]
    }
   ],
   "source": [
    "df.info()"
   ]
  },
  {
   "cell_type": "code",
   "execution_count": 217,
   "id": "62a7b047",
   "metadata": {},
   "outputs": [],
   "source": [
    "# split data\n",
    "from sklearn.model_selection import train_test_split\n",
    "import math\n",
    "train_validate, test = train_test_split(df, test_size=.2, \n",
    "                                        random_state=123)\n",
    "\n",
    "train, validate = train_test_split(train_validate, test_size=.3, \n",
    "                                   random_state=123)"
   ]
  },
  {
   "cell_type": "markdown",
   "id": "d3d7319b",
   "metadata": {},
   "source": [
    "## Data Explore"
   ]
  },
  {
   "cell_type": "markdown",
   "id": "8426b4bb",
   "metadata": {},
   "source": [
    "### 1. Does contributed to accident happened related to the hour? day of week? month? year?"
   ]
  },
  {
   "cell_type": "code",
   "execution_count": 218,
   "id": "6e6c2cfa",
   "metadata": {},
   "outputs": [
    {
     "data": {
      "text/plain": [
       "<AxesSubplot:xlabel='year', ylabel='Count'>"
      ]
     },
     "execution_count": 218,
     "metadata": {},
     "output_type": "execute_result"
    },
    {
     "data": {
      "image/png": "[encoded data removed]",
      "text/plain": [
       "<Figure size 720x288 with 1 Axes>"
      ]
     },
     "metadata": {
      "needs_background": "light"
     },
     "output_type": "display_data"
    }
   ],
   "source": [
    "plt.rcParams[\"figure.figsize\"] = (10,4)\n",
    "sns.histplot(train.year.sort_index(ascending=True))"
   ]
  },
  {
   "cell_type": "code",
   "execution_count": 219,
   "id": "426ee964",
   "metadata": {},
   "outputs": [
    {
     "data": {
      "text/plain": [
       "<AxesSubplot:xlabel='hour', ylabel='Count'>"
      ]
     },
     "execution_count": 219,
     "metadata": {},
     "output_type": "execute_result"
    },
    {
     "data": {
      "image/png": "[encoded data removed]",
      "text/plain": [
       "<Figure size 720x288 with 1 Axes>"
      ]
     },
     "metadata": {
      "needs_background": "light"
     },
     "output_type": "display_data"
    }
   ],
   "source": [
    "sns.histplot(train.hour.sort_index(ascending=True))"
   ]
  },
  {
   "cell_type": "code",
   "execution_count": 220,
   "id": "4354a2bd",
   "metadata": {},
   "outputs": [
    {
     "data": {
      "text/plain": [
       "<AxesSubplot:xlabel='month', ylabel='Count'>"
      ]
     },
     "execution_count": 220,
     "metadata": {},
     "output_type": "execute_result"
    },
    {
     "data": {
      "image/png": "[encoded data removed]",
      "text/plain": [
       "<Figure size 720x288 with 1 Axes>"
      ]
     },
     "metadata": {
      "needs_background": "light"
     },
     "output_type": "display_data"
    }
   ],
   "source": [
    "sns.histplot(train.month.sort_index(ascending=True))"
   ]
  },
  {
   "cell_type": "code",
   "execution_count": 221,
   "id": "53113f09",
   "metadata": {},
   "outputs": [],
   "source": [
    "hour = pd.crosstab(train.hour, train['Contributed To Accident'], normalize = 'index').sort_index(ascending=False)\n",
    "day_of_week = pd.crosstab(train.day_of_week, train['Contributed To Accident'], normalize = 'index').sort_index(ascending=False)\n",
    "month = pd.crosstab(train.month, train['Contributed To Accident'], normalize = 'index').sort_index(ascending=False)\n",
    "year = pd.crosstab(train.year, train['Contributed To Accident'], normalize = 'index').sort_index(ascending=False)"
   ]
  },
  {
   "cell_type": "code",
   "execution_count": 222,
   "id": "b1c47063",
   "metadata": {},
   "outputs": [
    {
     "data": {
      "text/plain": [
       "<AxesSubplot:ylabel='year'>"
      ]
     },
     "execution_count": 222,
     "metadata": {},
     "output_type": "execute_result"
    },
    {
     "data": {
      "image/png": "[encoded data removed]",
      "text/plain": [
       "<Figure size 720x576 with 1 Axes>"
      ]
     },
     "metadata": {
      "needs_background": "light"
     },
     "output_type": "display_data"
    },
    {
     "data": {
      "image/png": "[encoded data removed]",
      "text/plain": [
       "<Figure size 720x288 with 1 Axes>"
      ]
     },
     "metadata": {
      "needs_background": "light"
     },
     "output_type": "display_data"
    },
    {
     "data": {
      "image/png": "[encoded data removed]",
      "text/plain": [
       "<Figure size 720x360 with 1 Axes>"
      ]
     },
     "metadata": {
      "needs_background": "light"
     },
     "output_type": "display_data"
    },
    {
     "data": {
      "image/png": "[encoded data removed]",
      "text/plain": [
       "<Figure size 720x360 with 1 Axes>"
      ]
     },
     "metadata": {
      "needs_background": "light"
     },
     "output_type": "display_data"
    }
   ],
   "source": [
    "hour.plot.barh(stacked = True, figsize = (10, 8), fontsize = 10)\n",
    "day_of_week.plot.barh(stacked = True, figsize = (10, 4), fontsize = 10)\n",
    "month.plot.barh(stacked = True, figsize = (10, 5), fontsize = 10)\n",
    "year.plot.barh(stacked = True, figsize = (10, 5), fontsize = 10)"
   ]
  },
  {
   "cell_type": "code",
   "execution_count": 223,
   "id": "b5be00a6",
   "metadata": {},
   "outputs": [
    {
     "name": "stdout",
     "output_type": "stream",
     "text": [
      "We reject the null hypothesis, they are dependent.\n"
     ]
    }
   ],
   "source": [
    "observed1 = pd.crosstab(train['day_of_week'], train['Contributed To Accident'])\n",
    "chi21, p1, degf1, expected1 = stats.chi2_contingency(observed1)\n",
    "\n",
    "alpha = 0.05\n",
    "if p1 < alpha:\n",
    "    print(\"We reject the null hypothesis, they are dependent.\")\n",
    "else:\n",
    "    print(\"We fail to reject the null hypothesis, they are independent.\")"
   ]
  },
  {
   "cell_type": "markdown",
   "id": "796c7924",
   "metadata": {},
   "source": [
    "### 2. Does contributed to accident relate to race and gender?"
   ]
  },
  {
   "cell_type": "code",
   "execution_count": 224,
   "id": "b7280d22",
   "metadata": {},
   "outputs": [
    {
     "data": {
      "text/plain": [
       "<AxesSubplot:xlabel='Gender', ylabel='Count'>"
      ]
     },
     "execution_count": 224,
     "metadata": {},
     "output_type": "execute_result"
    },
    {
     "data": {
      "image/png": "[encoded data removed]",
      "text/plain": [
       "<Figure size 1080x360 with 1 Axes>"
      ]
     },
     "metadata": {
      "needs_background": "light"
     },
     "output_type": "display_data"
    }
   ],
   "source": [
    "plt.rcParams[\"figure.figsize\"] = (15,5)\n",
    "sns.histplot(train.Gender)\n",
    "sns.histplot(train.Race)"
   ]
  },
  {
   "cell_type": "markdown",
   "id": "244606f0",
   "metadata": {},
   "source": [
    "* Takeaway:\n",
    "    1. Gender: male's violation number is female's double.\n",
    "    2. Race: black, hispanic, white have higher rates."
   ]
  },
  {
   "cell_type": "code",
   "execution_count": 225,
   "id": "e725f431",
   "metadata": {},
   "outputs": [
    {
     "data": {
      "text/plain": [
       "<AxesSubplot:ylabel='Race'>"
      ]
     },
     "execution_count": 225,
     "metadata": {},
     "output_type": "execute_result"
    },
    {
     "data": {
      "image/png": "[encoded data removed]",
      "text/plain": [
       "<Figure size 720x216 with 1 Axes>"
      ]
     },
     "metadata": {
      "needs_background": "light"
     },
     "output_type": "display_data"
    },
    {
     "data": {
      "image/png": "[encoded data removed]",
      "text/plain": [
       "<Figure size 720x360 with 1 Axes>"
      ]
     },
     "metadata": {
      "needs_background": "light"
     },
     "output_type": "display_data"
    }
   ],
   "source": [
    "race = pd.crosstab(train.Race, train['Contributed To Accident'], normalize = 'index')\n",
    "gender = pd.crosstab(train.Gender, train['Contributed To Accident'], normalize = 'index')\n",
    "\n",
    "gender.plot.barh(stacked = True, figsize = (10, 3), fontsize = 12)\n",
    "race.plot.barh(stacked = True, figsize = (10, 5), fontsize = 12)"
   ]
  },
  {
   "cell_type": "markdown",
   "id": "50156876",
   "metadata": {},
   "source": [
    "### 3. What about the relationship between contributed to accident and Violation Type? achohol? belts?"
   ]
  },
  {
   "cell_type": "code",
   "execution_count": 226,
   "id": "f2f0d288",
   "metadata": {},
   "outputs": [
    {
     "data": {
      "text/plain": [
       "<AxesSubplot:ylabel='Belts'>"
      ]
     },
     "execution_count": 226,
     "metadata": {},
     "output_type": "execute_result"
    },
    {
     "data": {
      "image/png": "[encoded data removed]",
      "text/plain": [
       "<Figure size 720x288 with 1 Axes>"
      ]
     },
     "metadata": {
      "needs_background": "light"
     },
     "output_type": "display_data"
    },
    {
     "data": {
      "image/png": "[encoded data removed]",
      "text/plain": [
       "<Figure size 720x216 with 1 Axes>"
      ]
     },
     "metadata": {
      "needs_background": "light"
     },
     "output_type": "display_data"
    },
    {
     "data": {
      "image/png": "[encoded data removed]",
      "text/plain": [
       "<Figure size 720x216 with 1 Axes>"
      ]
     },
     "metadata": {
      "needs_background": "light"
     },
     "output_type": "display_data"
    }
   ],
   "source": [
    "violation = pd.crosstab(train['Violation Type'], train['Contributed To Accident'], normalize = 'index')\n",
    "alcohol = pd.crosstab(train.Alcohol, train['Contributed To Accident'], normalize = 'index')\n",
    "belts = pd.crosstab(train.Belts, train['Contributed To Accident'], normalize = 'index')\n",
    "\n",
    "violation.plot.barh(stacked = True, figsize = (10, 4), fontsize = 10)\n",
    "alcohol.plot.barh(stacked = True, figsize = (10, 3), fontsize = 10)\n",
    "belts.plot.barh(stacked = True, figsize = (10, 3), fontsize = 10)"
   ]
  },
  {
   "cell_type": "markdown",
   "id": "6ddbab1d",
   "metadata": {},
   "source": [
    "Ho : Violation Type and contributed to accident have no association (they are indepemdent).\n",
    "\n",
    "Ha : Violation Type injuty and contributed to accident have association (they are depemdent)."
   ]
  },
  {
   "cell_type": "code",
   "execution_count": 227,
   "id": "1b85daff",
   "metadata": {},
   "outputs": [
    {
     "name": "stdout",
     "output_type": "stream",
     "text": [
      "We reject the null hypothesis, they are dependent.\n"
     ]
    }
   ],
   "source": [
    "observed2 = pd.crosstab(train['Violation Type'], train['Contributed To Accident'])\n",
    "chi22, p2, degf2, expected2 = stats.chi2_contingency(observed2)\n",
    "\n",
    "alpha = 0.05\n",
    "if p2 < alpha:\n",
    "    print(\"We reject the null hypothesis, they are dependent.\")\n",
    "else:\n",
    "    print(\"We fail to reject the null hypothesis, they are independent.\")"
   ]
  },
  {
   "cell_type": "markdown",
   "id": "e40138b7",
   "metadata": {},
   "source": [
    "Ho : Alcohol and contributed to accident have no association (they are indepemdent).\n",
    "\n",
    "Ha : Alcohol injuty and contributed to accident have association (they are depemdent)."
   ]
  },
  {
   "cell_type": "code",
   "execution_count": 228,
   "id": "88ae1629",
   "metadata": {},
   "outputs": [
    {
     "name": "stdout",
     "output_type": "stream",
     "text": [
      "We reject the null hypothesis, they are dependent.\n"
     ]
    }
   ],
   "source": [
    "observed3 = pd.crosstab(train['Alcohol'], train['Contributed To Accident'])\n",
    "chi23, p3, degf3, expected3 = stats.chi2_contingency(observed3)\n",
    "\n",
    "alpha = 0.05\n",
    "if p3 < alpha:\n",
    "    print(\"We reject the null hypothesis, they are dependent.\")\n",
    "else:\n",
    "    print(\"We fail to reject the null hypothesis, they are independent.\")"
   ]
  },
  {
   "cell_type": "markdown",
   "id": "9f7abaf7",
   "metadata": {},
   "source": [
    "### 4. Is personal injury and property damage has relationship with contributed to accident?"
   ]
  },
  {
   "cell_type": "code",
   "execution_count": 229,
   "id": "194c732f",
   "metadata": {},
   "outputs": [
    {
     "data": {
      "text/plain": [
       "<AxesSubplot:ylabel='Personal Injury'>"
      ]
     },
     "execution_count": 229,
     "metadata": {},
     "output_type": "execute_result"
    },
    {
     "data": {
      "image/png": "[encoded data removed]",
      "text/plain": [
       "<Figure size 936x144 with 1 Axes>"
      ]
     },
     "metadata": {
      "needs_background": "light"
     },
     "output_type": "display_data"
    },
    {
     "data": {
      "image/png": "[encoded data removed]",
      "text/plain": [
       "<Figure size 936x144 with 1 Axes>"
      ]
     },
     "metadata": {
      "needs_background": "light"
     },
     "output_type": "display_data"
    }
   ],
   "source": [
    "injury = pd.crosstab(train['Personal Injury'], train['Contributed To Accident'], normalize = 'index')\n",
    "accident = pd.crosstab(train['Property Damage'], train['Contributed To Accident'], normalize = 'index')\n",
    "accident.plot.barh(stacked = True, figsize = (13, 2), fontsize = 10)\n",
    "injury.plot.barh(stacked = True, figsize = (13, 2), fontsize = 10)"
   ]
  },
  {
   "cell_type": "markdown",
   "id": "5b7fbcc3",
   "metadata": {},
   "source": [
    "Ho : Personal injuty and contributed to accident have no association (they are indepemdent).\n",
    "\n",
    "Ha : Personal injuty and contributed to accident have association (they are depemdent)."
   ]
  },
  {
   "cell_type": "code",
   "execution_count": 230,
   "id": "3bf8cb37",
   "metadata": {},
   "outputs": [
    {
     "name": "stdout",
     "output_type": "stream",
     "text": [
      "We reject the null hypothesis, they are dependent.\n"
     ]
    }
   ],
   "source": [
    "observed4 = pd.crosstab(train['Personal Injury'], train['Contributed To Accident'])\n",
    "chi24, p4, degf4, expected4 = stats.chi2_contingency(observed4)\n",
    "\n",
    "alpha = 0.05\n",
    "if p4 < alpha:\n",
    "    print(\"We reject the null hypothesis, they are dependent.\")\n",
    "else:\n",
    "    print(\"We fail to reject the null hypothesis, they are independent.\")"
   ]
  },
  {
   "cell_type": "markdown",
   "id": "800387e2",
   "metadata": {},
   "source": [
    "Ho : property damage and contributed to accident have no association (they are indepemdent).\n",
    "\n",
    "Ha : property damage and contributed to accident have association (they are depemdent)."
   ]
  },
  {
   "cell_type": "code",
   "execution_count": 231,
   "id": "63437fc8",
   "metadata": {},
   "outputs": [
    {
     "name": "stdout",
     "output_type": "stream",
     "text": [
      "We reject the null hypothesis, they are dependent.\n"
     ]
    }
   ],
   "source": [
    "observed5 = pd.crosstab(train['Property Damage'], train['Contributed To Accident'])\n",
    "chi25, p5, degf5, expected5 = stats.chi2_contingency(observed5)\n",
    "\n",
    "alpha = 0.05\n",
    "if p5 < alpha:\n",
    "    print(\"We reject the null hypothesis, they are dependent.\")\n",
    "else:\n",
    "    print(\"We fail to reject the null hypothesis, they are independent.\")"
   ]
  },
  {
   "cell_type": "markdown",
   "id": "dfcee013",
   "metadata": {},
   "source": [
    "### 5. Is contributed to accident has relationship with agency location?"
   ]
  },
  {
   "cell_type": "code",
   "execution_count": 232,
   "id": "669b88ff",
   "metadata": {},
   "outputs": [
    {
     "data": {
      "text/plain": [
       "<AxesSubplot:ylabel='SubAgency'>"
      ]
     },
     "execution_count": 232,
     "metadata": {},
     "output_type": "execute_result"
    },
    {
     "data": {
      "image/png": "[encoded data removed]",
      "text/plain": [
       "<Figure size 720x288 with 1 Axes>"
      ]
     },
     "metadata": {
      "needs_background": "light"
     },
     "output_type": "display_data"
    }
   ],
   "source": [
    "agency = pd.crosstab(train['SubAgency'], train['Contributed To Accident'], normalize = 'index')\n",
    "agency.plot.barh(stacked = True, figsize = (10, 4), fontsize = 10)"
   ]
  },
  {
   "cell_type": "code",
   "execution_count": 233,
   "id": "48f0eb72",
   "metadata": {},
   "outputs": [
    {
     "name": "stdout",
     "output_type": "stream",
     "text": [
      "We reject the null hypothesis, they are dependent.\n"
     ]
    }
   ],
   "source": [
    "observed6 = pd.crosstab(train['SubAgency'], train['Contributed To Accident'])\n",
    "chi26, p6, degf6, expected6 = stats.chi2_contingency(observed6)\n",
    "\n",
    "alpha = 0.05\n",
    "if p6 < alpha:\n",
    "    print(\"We reject the null hypothesis, they are dependent.\")\n",
    "else:\n",
    "    print(\"We fail to reject the null hypothesis, they are independent.\")"
   ]
  },
  {
   "cell_type": "markdown",
   "id": "22408d04",
   "metadata": {},
   "source": [
    "## Summary"
   ]
  },
  {
   "cell_type": "markdown",
   "id": "578cb76f",
   "metadata": {},
   "source": [
    "* Personal injury, violation type and property damage are the outcomes of the violation, they all have a very strong relationship with terget variable, but our target variable contributed to accident is a outcome of violation too. So I decide to not use those outcomes to predic our target. Therefore, I will use hour, month, weekday, race, gender and alcohol to make my models.\n",
    "\n",
    "hour, month, weekday, race, gender, alcohol."
   ]
  },
  {
   "cell_type": "markdown",
   "id": "dc30e653",
   "metadata": {},
   "source": [
    "## Feature selection"
   ]
  },
  {
   "cell_type": "code",
   "execution_count": 234,
   "id": "ca14c606",
   "metadata": {},
   "outputs": [],
   "source": [
    "from sklearn.feature_selection import SelectKBest, RFE, f_regression, SequentialFeatureSelector\n",
    "\n",
    "x_train = train[['Alcohol', 'Race','day_of_week', 'hour','Gender','SubAgency','month']]\n",
    "y_train = train[['Contributed To Accident']]\n",
    "\n",
    "x_train_dummy_feature = pd.get_dummies(x_train)\n",
    "y_train_dummy_feature = pd.get_dummies(y_train, drop_first=True)"
   ]
  },
  {
   "cell_type": "code",
   "execution_count": 235,
   "id": "b29254c0",
   "metadata": {},
   "outputs": [
    {
     "data": {
      "text/plain": [
       "Index(['Race_BLACK', 'Race_HISPANIC', 'day_of_week_Saturday',\n",
       "       'day_of_week_Sunday', 'day_of_week_Tuesday', 'hour_04', 'hour_05',\n",
       "       'SubAgency_4th District, Wheaton',\n",
       "       'SubAgency_6th District, Gaithersburg / Montgomery Village',\n",
       "       'SubAgency_Headquarters and Special Operations'],\n",
       "      dtype='object')"
      ]
     },
     "execution_count": 235,
     "metadata": {},
     "output_type": "execute_result"
    }
   ],
   "source": [
    "kbest = SelectKBest(f_regression, k=10)\n",
    "kbest.fit(x_train_dummy_feature, y_train_dummy_feature)\n",
    "x_train_dummy_feature.columns[kbest.get_support()]"
   ]
  },
  {
   "cell_type": "markdown",
   "id": "11b76ada",
   "metadata": {},
   "source": [
    "* race, day of week, hour, agency location"
   ]
  },
  {
   "cell_type": "code",
   "execution_count": 236,
   "id": "14f5d6f0",
   "metadata": {},
   "outputs": [
    {
     "data": {
      "text/plain": [
       "Index(['SubAgency_5th District, Germantown',\n",
       "       'SubAgency_6th District, Gaithersburg / Montgomery Village',\n",
       "       'SubAgency_Headquarters and Special Operations', 'month_01-Jan',\n",
       "       'month_02-Feb', 'month_03-Mar', 'month_04-Apr', 'month_05-May',\n",
       "       'month_06-Jun', 'month_07-Jul', 'month_08-Aug', 'month_09-Sep',\n",
       "       'month_10-Oct', 'month_11-Nov', 'month_12-Dec'],\n",
       "      dtype='object')"
      ]
     },
     "execution_count": 236,
     "metadata": {},
     "output_type": "execute_result"
    }
   ],
   "source": [
    "from sklearn.linear_model import LinearRegression\n",
    "model = LinearRegression()\n",
    "rfe = RFE(model, n_features_to_select=15)\n",
    "rfe.fit(x_train_dummy_feature, y_train_dummy_feature)\n",
    "x_train_dummy_feature.columns[rfe.get_support()]"
   ]
  },
  {
   "cell_type": "markdown",
   "id": "7b6a531c",
   "metadata": {},
   "source": [
    "* agency location, month"
   ]
  },
  {
   "cell_type": "markdown",
   "id": "aeecd405",
   "metadata": {},
   "source": [
    "## Modeling\n",
    "\n",
    "metric : F1\n",
    "\n",
    "* select K best: race, day of week, hour, agency location\n",
    "* RFE: agency location, month"
   ]
  },
  {
   "cell_type": "code",
   "execution_count": 237,
   "id": "80a2a0fa",
   "metadata": {},
   "outputs": [],
   "source": [
    "from sklearn.tree import DecisionTreeClassifier, plot_tree, export_text\n",
    "from sklearn.model_selection import train_test_split\n",
    "from sklearn.metrics import classification_report, confusion_matrix, plot_confusion_matrix\n",
    "from sklearn.ensemble import RandomForestClassifier\n",
    "from sklearn.linear_model import LogisticRegression\n",
    "from sklearn.neighbors import KNeighborsClassifier"
   ]
  },
  {
   "cell_type": "code",
   "execution_count": 238,
   "id": "fa3bec8e",
   "metadata": {},
   "outputs": [
    {
     "data": {
      "text/plain": [
       "0    424871\n",
       "1     13546\n",
       "Name: Contributed To Accident, dtype: int64"
      ]
     },
     "execution_count": 238,
     "metadata": {},
     "output_type": "execute_result"
    }
   ],
   "source": [
    "train['Contributed To Accident'].value_counts()"
   ]
  },
  {
   "cell_type": "code",
   "execution_count": 260,
   "id": "ccc1a077",
   "metadata": {},
   "outputs": [
    {
     "name": "stdout",
     "output_type": "stream",
     "text": [
      "baseline accuracy on train set: 96.91%\n"
     ]
    }
   ],
   "source": [
    "train['baseline'] = 0\n",
    "baseline_accuracy_train = (train['Contributed To Accident'] == train.baseline).mean()\n",
    "print(f'baseline accuracy on train set: {baseline_accuracy_train:.2%}')"
   ]
  },
  {
   "cell_type": "code",
   "execution_count": 261,
   "id": "81cdd895",
   "metadata": {},
   "outputs": [
    {
     "name": "stdout",
     "output_type": "stream",
     "text": [
      "baseline accuracy on train set: 96.82%\n"
     ]
    }
   ],
   "source": [
    "validate['baseline'] = 0\n",
    "baseline_accuracy_validate = (validate['Contributed To Accident'] == validate.baseline).mean()\n",
    "print(f'baseline accuracy on train set: {baseline_accuracy_validate:.2%}')"
   ]
  },
  {
   "cell_type": "markdown",
   "id": "50eb7f7a",
   "metadata": {},
   "source": [
    "## 1. Decision Tree"
   ]
  },
  {
   "cell_type": "code",
   "execution_count": 245,
   "id": "7d34c094",
   "metadata": {},
   "outputs": [],
   "source": [
    "x_train = train[['Race','day_of_week', 'hour','SubAgency','month']]\n",
    "y_train = train[['Contributed To Accident']]\n",
    "x_validate = validate[['Race','day_of_week', 'hour','SubAgency','month']]\n",
    "y_validate = validate[['Contributed To Accident']]\n",
    "x_test = test[['Race','day_of_week', 'hour','SubAgency','month']]\n",
    "y_test = test[['Contributed To Accident']]\n",
    "\n",
    "x_train = pd.get_dummies(x_train, drop_first=True)\n",
    "y_train = pd.get_dummies(y_train, drop_first=True)\n",
    "x_validate = pd.get_dummies(x_validate, drop_first=True)\n",
    "y_validate = pd.get_dummies(y_validate, drop_first=True)\n",
    "x_test = pd.get_dummies(x_test, drop_first=True)\n",
    "y_test = pd.get_dummies(y_test, drop_first=True)"
   ]
  },
  {
   "cell_type": "code",
   "execution_count": 247,
   "id": "6b8e0fe2",
   "metadata": {},
   "outputs": [
    {
     "name": "stdout",
     "output_type": "stream",
     "text": [
      "              precision    recall  f1-score   support\n",
      "\n",
      "           0       0.97      1.00      0.98    424871\n",
      "           1       0.71      0.03      0.06     13546\n",
      "\n",
      "    accuracy                           0.97    438417\n",
      "   macro avg       0.84      0.52      0.52    438417\n",
      "weighted avg       0.96      0.97      0.96    438417\n",
      "\n"
     ]
    }
   ],
   "source": [
    "# step 1: Creat your recipe\n",
    "tree = DecisionTreeClassifier(max_depth = 10)\n",
    "\n",
    "# Step 2: Fit your model to your in-sample data (train)\n",
    "tree.fit(x_train, y_train)\n",
    "\n",
    "predictions1 = tree.predict(x_train)\n",
    "\n",
    "print(classification_report(y_train, predictions1))"
   ]
  },
  {
   "cell_type": "code",
   "execution_count": 248,
   "id": "99e6a9c5",
   "metadata": {},
   "outputs": [
    {
     "name": "stdout",
     "output_type": "stream",
     "text": [
      "Accuracy of decision tree1 (max_depth=10) classifier on train set: 96.97%\n"
     ]
    }
   ],
   "source": [
    "print('Accuracy of decision tree1 (max_depth=10) classifier on train set: {:.2%}'\n",
    "     .format(tree.score(x_train, y_train)))"
   ]
  },
  {
   "cell_type": "code",
   "execution_count": 249,
   "id": "df44ff2e",
   "metadata": {},
   "outputs": [
    {
     "data": {
      "text/plain": [
       "(424694, 177, 13113, 433)"
      ]
     },
     "execution_count": 249,
     "metadata": {},
     "output_type": "execute_result"
    }
   ],
   "source": [
    "TN1, FP1, FN1, TP1 = confusion_matrix(y_train, predictions1).ravel()\n",
    "TN1, FP1, FN1, TP1"
   ]
  },
  {
   "cell_type": "code",
   "execution_count": 250,
   "id": "f1b7d2d6",
   "metadata": {},
   "outputs": [
    {
     "name": "stdout",
     "output_type": "stream",
     "text": [
      "Accuracy: 0.9696863944600689 \n",
      "\n",
      "True Positive Rate/Sensitivity/Recall/Power: 0.03196515576553964 \n",
      "\n",
      "False Positive Rate/False Alarm Ratio/Fall-out: 0.0004165970376890868 \n",
      "\n",
      "True Negative Rate/Specificity/Selectivity: 0.999583402962311 \n",
      "\n",
      "False Negative Rate/Miss Rate: 0.9680348442344604 \n",
      "\n",
      "Precision/PPV: 0.7098360655737705 \n",
      "\n",
      "F1 Score: 0.06117547329754167 \n",
      "\n",
      "Support (0): 424871 \n",
      "\n",
      "Support (1): 13546\n"
     ]
    }
   ],
   "source": [
    "ALL1 = TP1 + FP1 + FN1 + TN1\n",
    "\n",
    "accuracy = (TP1 + TN1)/ALL1\n",
    "true_positive_rate = sensitivity = recall = power = TP1/(TP1+FN1)\n",
    "false_positive_rate = false_alarm_ratio = fallout = FP1/(FP1+TN1)\n",
    "true_negative_rate = specificity = selectivity = TN1/(TN1+FP1)\n",
    "false_negative_rate = miss_rate = FN1/(FN1+TP1)\n",
    "precision = PPV = TP1/(TP1+FP1)\n",
    "f1_score = 2*(precision*recall)/(precision+recall)\n",
    "support_pos = TP1 + FN1\n",
    "support_neg = FP1 + TN1\n",
    "\n",
    "print(f\"Accuracy: {accuracy}\", '\\n')\n",
    "print(f\"True Positive Rate/Sensitivity/Recall/Power: {true_positive_rate}\", '\\n')\n",
    "print(f\"False Positive Rate/False Alarm Ratio/Fall-out: {false_positive_rate}\", '\\n')\n",
    "print(f\"True Negative Rate/Specificity/Selectivity: {true_negative_rate}\", '\\n')\n",
    "print(f\"False Negative Rate/Miss Rate: {false_negative_rate}\", '\\n')\n",
    "print(f\"Precision/PPV: {precision}\", '\\n')\n",
    "print(f\"F1 Score: {f1_score}\", '\\n')\n",
    "print(f\"Support (0): {support_neg}\", '\\n')\n",
    "print(f\"Support (1): {support_pos}\")"
   ]
  },
  {
   "cell_type": "code",
   "execution_count": 242,
   "id": "4d0e3069",
   "metadata": {},
   "outputs": [
    {
     "data": {
      "text/html": [
       "<div>\n",
       "<style scoped>\n",
       "    .dataframe tbody tr th:only-of-type {\n",
       "        vertical-align: middle;\n",
       "    }\n",
       "\n",
       "    .dataframe tbody tr th {\n",
       "        vertical-align: top;\n",
       "    }\n",
       "\n",
       "    .dataframe thead th {\n",
       "        text-align: right;\n",
       "    }\n",
       "</style>\n",
       "<table border=\"1\" class=\"dataframe\">\n",
       "  <thead>\n",
       "    <tr style=\"text-align: right;\">\n",
       "      <th></th>\n",
       "      <th>max_depth</th>\n",
       "      <th>train_accuracy</th>\n",
       "      <th>validate_accuracy</th>\n",
       "      <th>difference</th>\n",
       "    </tr>\n",
       "  </thead>\n",
       "  <tbody>\n",
       "    <tr>\n",
       "      <th>0</th>\n",
       "      <td>1</td>\n",
       "      <td>0.969102</td>\n",
       "      <td>0.968184</td>\n",
       "      <td>0.000918</td>\n",
       "    </tr>\n",
       "    <tr>\n",
       "      <th>1</th>\n",
       "      <td>2</td>\n",
       "      <td>0.969102</td>\n",
       "      <td>0.968184</td>\n",
       "      <td>0.000918</td>\n",
       "    </tr>\n",
       "    <tr>\n",
       "      <th>2</th>\n",
       "      <td>3</td>\n",
       "      <td>0.969102</td>\n",
       "      <td>0.968184</td>\n",
       "      <td>0.000918</td>\n",
       "    </tr>\n",
       "    <tr>\n",
       "      <th>3</th>\n",
       "      <td>4</td>\n",
       "      <td>0.969102</td>\n",
       "      <td>0.968184</td>\n",
       "      <td>0.000918</td>\n",
       "    </tr>\n",
       "    <tr>\n",
       "      <th>4</th>\n",
       "      <td>5</td>\n",
       "      <td>0.969109</td>\n",
       "      <td>0.968168</td>\n",
       "      <td>0.000941</td>\n",
       "    </tr>\n",
       "    <tr>\n",
       "      <th>5</th>\n",
       "      <td>6</td>\n",
       "      <td>0.969173</td>\n",
       "      <td>0.968221</td>\n",
       "      <td>0.000952</td>\n",
       "    </tr>\n",
       "    <tr>\n",
       "      <th>6</th>\n",
       "      <td>7</td>\n",
       "      <td>0.969283</td>\n",
       "      <td>0.968280</td>\n",
       "      <td>0.001003</td>\n",
       "    </tr>\n",
       "    <tr>\n",
       "      <th>7</th>\n",
       "      <td>8</td>\n",
       "      <td>0.969410</td>\n",
       "      <td>0.968301</td>\n",
       "      <td>0.001109</td>\n",
       "    </tr>\n",
       "    <tr>\n",
       "      <th>8</th>\n",
       "      <td>9</td>\n",
       "      <td>0.969547</td>\n",
       "      <td>0.968333</td>\n",
       "      <td>0.001214</td>\n",
       "    </tr>\n",
       "    <tr>\n",
       "      <th>9</th>\n",
       "      <td>10</td>\n",
       "      <td>0.969686</td>\n",
       "      <td>0.968397</td>\n",
       "      <td>0.001289</td>\n",
       "    </tr>\n",
       "    <tr>\n",
       "      <th>10</th>\n",
       "      <td>11</td>\n",
       "      <td>0.969835</td>\n",
       "      <td>0.968360</td>\n",
       "      <td>0.001475</td>\n",
       "    </tr>\n",
       "    <tr>\n",
       "      <th>11</th>\n",
       "      <td>12</td>\n",
       "      <td>0.969962</td>\n",
       "      <td>0.968370</td>\n",
       "      <td>0.001592</td>\n",
       "    </tr>\n",
       "    <tr>\n",
       "      <th>12</th>\n",
       "      <td>13</td>\n",
       "      <td>0.970065</td>\n",
       "      <td>0.968418</td>\n",
       "      <td>0.001647</td>\n",
       "    </tr>\n",
       "    <tr>\n",
       "      <th>13</th>\n",
       "      <td>14</td>\n",
       "      <td>0.970204</td>\n",
       "      <td>0.968424</td>\n",
       "      <td>0.001780</td>\n",
       "    </tr>\n",
       "    <tr>\n",
       "      <th>14</th>\n",
       "      <td>15</td>\n",
       "      <td>0.970336</td>\n",
       "      <td>0.968344</td>\n",
       "      <td>0.001993</td>\n",
       "    </tr>\n",
       "  </tbody>\n",
       "</table>\n",
       "</div>"
      ],
      "text/plain": [
       "    max_depth  train_accuracy  validate_accuracy  difference\n",
       "0           1        0.969102           0.968184    0.000918\n",
       "1           2        0.969102           0.968184    0.000918\n",
       "2           3        0.969102           0.968184    0.000918\n",
       "3           4        0.969102           0.968184    0.000918\n",
       "4           5        0.969109           0.968168    0.000941\n",
       "5           6        0.969173           0.968221    0.000952\n",
       "6           7        0.969283           0.968280    0.001003\n",
       "7           8        0.969410           0.968301    0.001109\n",
       "8           9        0.969547           0.968333    0.001214\n",
       "9          10        0.969686           0.968397    0.001289\n",
       "10         11        0.969835           0.968360    0.001475\n",
       "11         12        0.969962           0.968370    0.001592\n",
       "12         13        0.970065           0.968418    0.001647\n",
       "13         14        0.970204           0.968424    0.001780\n",
       "14         15        0.970336           0.968344    0.001993"
      ]
     },
     "execution_count": 242,
     "metadata": {},
     "output_type": "execute_result"
    }
   ],
   "source": [
    "metrics = []\n",
    "for i in range(1, 16):\n",
    "    # Make the model\n",
    "    tree = DecisionTreeClassifier(max_depth=i, random_state=123)\n",
    "\n",
    "    # Fit the model (on train and only train)\n",
    "    tree = tree.fit(x_train, y_train)\n",
    "\n",
    "    # Use the model\n",
    "    # We'll evaluate the model's performance on train, first\n",
    "    in_sample_accuracy = tree.score(x_train, y_train)\n",
    "    \n",
    "    out_of_sample_accuracy = tree.score(x_validate, y_validate)\n",
    "\n",
    "    output = {\n",
    "        \"max_depth\": i,\n",
    "        \"train_accuracy\": in_sample_accuracy,\n",
    "        \"validate_accuracy\": out_of_sample_accuracy\n",
    "    }\n",
    "    \n",
    "    metrics.append(output)\n",
    "    \n",
    "tree_mc = pd.DataFrame(metrics)\n",
    "tree_mc[\"difference\"] = tree_mc.train_accuracy - tree_mc.validate_accuracy\n",
    "tree_mc"
   ]
  },
  {
   "cell_type": "code",
   "execution_count": 243,
   "id": "90610ab0",
   "metadata": {},
   "outputs": [
    {
     "data": {
      "image/png": "[encoded data removed]",
      "text/plain": [
       "<Figure size 864x432 with 1 Axes>"
      ]
     },
     "metadata": {
      "needs_background": "light"
     },
     "output_type": "display_data"
    }
   ],
   "source": [
    "plt.figure(figsize=(12, 6))\n",
    "plt.plot(tree_mc.max_depth, tree_mc.train_accuracy, marker = 'o')\n",
    "plt.plot(tree_mc.max_depth, tree_mc.validate_accuracy, marker = 'o')\n",
    "plt.title('Overfitting Occurs at Higher Values for Max Depth')\n",
    "plt.xlabel('Max Depth')\n",
    "plt.ylabel('Accuracy')\n",
    "plt.show()"
   ]
  },
  {
   "cell_type": "markdown",
   "id": "cba392df",
   "metadata": {},
   "source": [
    "* max_depth = 10"
   ]
  },
  {
   "cell_type": "code",
   "execution_count": null,
   "id": "bc93e2d9",
   "metadata": {},
   "outputs": [],
   "source": []
  },
  {
   "cell_type": "markdown",
   "id": "3abd96c8",
   "metadata": {},
   "source": [
    "## 2. Random forest"
   ]
  },
  {
   "cell_type": "code",
   "execution_count": 253,
   "id": "1242d294",
   "metadata": {},
   "outputs": [
    {
     "name": "stdout",
     "output_type": "stream",
     "text": [
      "              precision    recall  f1-score   support\n",
      "\n",
      "           0       0.97      1.00      0.99    424871\n",
      "           1       0.79      0.10      0.17     13546\n",
      "\n",
      "    accuracy                           0.97    438417\n",
      "   macro avg       0.88      0.55      0.58    438417\n",
      "weighted avg       0.97      0.97      0.96    438417\n",
      "\n"
     ]
    }
   ],
   "source": [
    "from sklearn.ensemble import RandomForestClassifier\n",
    "rf = RandomForestClassifier(max_depth=28, \n",
    "                            min_samples_leaf=1,\n",
    "                            random_state=123)\n",
    "rf.fit(x_train, y_train)\n",
    "predictions2 = rf.predict(x_train)\n",
    "\n",
    "print(classification_report(y_train, predictions2))"
   ]
  },
  {
   "cell_type": "code",
   "execution_count": 254,
   "id": "6e497e33",
   "metadata": {},
   "outputs": [
    {
     "name": "stdout",
     "output_type": "stream",
     "text": [
      "Accuracy of random forest (max_depth=28) classifier on train set: 97.13%\n"
     ]
    }
   ],
   "source": [
    "print('Accuracy of random forest (max_depth=28) classifier on train set: {:.2%}'\n",
    "     .format(rf.score(x_train, y_train)))"
   ]
  },
  {
   "cell_type": "code",
   "execution_count": 255,
   "id": "2d2810fe",
   "metadata": {},
   "outputs": [
    {
     "name": "stdout",
     "output_type": "stream",
     "text": [
      "Accuracy of random forest (max_depth=28) classifier on train set: 96.92%\n"
     ]
    }
   ],
   "source": [
    "print('Accuracy of random forest (max_depth=28) classifier on train set: {:.2%}'\n",
    "     .format(rf.score(x_validate, y_validate)))"
   ]
  },
  {
   "cell_type": "code",
   "execution_count": 117,
   "id": "f74bf542",
   "metadata": {},
   "outputs": [
    {
     "name": "stdout",
     "output_type": "stream",
     "text": [
      "Accuracy: 0.9716616828270802 \n",
      "\n",
      "True Positive Rate/Sensitivity/Recall/Power: 0.10458379171250458 \n",
      "\n",
      "False Positive Rate/False Alarm Ratio/Fall-out: 0.0005061419740007816 \n",
      "\n",
      "True Negative Rate/Specificity/Selectivity: 0.9994938580259992 \n",
      "\n",
      "False Negative Rate/Miss Rate: 0.8954162082874955 \n",
      "\n",
      "Precision/PPV: 0.8689823278488726 \n",
      "\n",
      "F1 Score: 0.18669808850484418 \n",
      "\n",
      "Support (0): 424782 \n",
      "\n",
      "Support (1): 13635\n"
     ]
    }
   ],
   "source": [
    "TN2, FP2, FN2, TP2 = confusion_matrix(y_train, predictions2).ravel()\n",
    "ALL2 = TP2 + FP2 + FN2 + TN2\n",
    "\n",
    "accuracy = (TP2 + TN2)/ALL2\n",
    "true_positive_rate = sensitivity = recal2 = power = TP2/(TP2+FN2)\n",
    "false_positive_rate = false_alarm_ratio = fallout = FP2/(FP2+TN2)\n",
    "true_negative_rate = specificity = selectivity = TN2/(TN2+FP2)\n",
    "false_negative_rate = miss_rate = FN2/(FN2+TP2)\n",
    "precision = PPV = TP2/(TP2+FP2)\n",
    "f1_score = 2*(precision*recal2)/(precision+recal2)\n",
    "support_pos = TP2 + FN2\n",
    "support_neg = FP2 + TN2\n",
    "\n",
    "print(f\"Accuracy: {accuracy}\", '\\n')\n",
    "print(f\"True Positive Rate/Sensitivity/Recall/Power: {true_positive_rate}\", '\\n')\n",
    "print(f\"False Positive Rate/False Alarm Ratio/Fall-out: {false_positive_rate}\", '\\n')\n",
    "print(f\"True Negative Rate/Specificity/Selectivity: {true_negative_rate}\", '\\n')\n",
    "print(f\"False Negative Rate/Miss Rate: {false_negative_rate}\", '\\n')\n",
    "print(f\"Precision/PPV: {precision}\", '\\n')\n",
    "print(f\"F1 Score: {f1_score}\", '\\n')\n",
    "print(f\"Support (0): {support_neg}\", '\\n')\n",
    "print(f\"Support (1): {support_pos}\")"
   ]
  },
  {
   "cell_type": "code",
   "execution_count": 251,
   "id": "2e2166fe",
   "metadata": {},
   "outputs": [
    {
     "data": {
      "text/html": [
       "<div>\n",
       "<style scoped>\n",
       "    .dataframe tbody tr th:only-of-type {\n",
       "        vertical-align: middle;\n",
       "    }\n",
       "\n",
       "    .dataframe tbody tr th {\n",
       "        vertical-align: top;\n",
       "    }\n",
       "\n",
       "    .dataframe thead th {\n",
       "        text-align: right;\n",
       "    }\n",
       "</style>\n",
       "<table border=\"1\" class=\"dataframe\">\n",
       "  <thead>\n",
       "    <tr style=\"text-align: right;\">\n",
       "      <th></th>\n",
       "      <th>max_depth</th>\n",
       "      <th>min_sample_lead</th>\n",
       "      <th>train_accuracy</th>\n",
       "      <th>validate_accuracy</th>\n",
       "      <th>difference</th>\n",
       "    </tr>\n",
       "  </thead>\n",
       "  <tbody>\n",
       "    <tr>\n",
       "      <th>0</th>\n",
       "      <td>10</td>\n",
       "      <td>1</td>\n",
       "      <td>0.969102</td>\n",
       "      <td>0.968184</td>\n",
       "      <td>0.000918</td>\n",
       "    </tr>\n",
       "    <tr>\n",
       "      <th>1</th>\n",
       "      <td>11</td>\n",
       "      <td>1</td>\n",
       "      <td>0.969102</td>\n",
       "      <td>0.968184</td>\n",
       "      <td>0.000918</td>\n",
       "    </tr>\n",
       "    <tr>\n",
       "      <th>2</th>\n",
       "      <td>12</td>\n",
       "      <td>1</td>\n",
       "      <td>0.969114</td>\n",
       "      <td>0.968190</td>\n",
       "      <td>0.000924</td>\n",
       "    </tr>\n",
       "    <tr>\n",
       "      <th>3</th>\n",
       "      <td>13</td>\n",
       "      <td>1</td>\n",
       "      <td>0.969114</td>\n",
       "      <td>0.968190</td>\n",
       "      <td>0.000924</td>\n",
       "    </tr>\n",
       "    <tr>\n",
       "      <th>4</th>\n",
       "      <td>14</td>\n",
       "      <td>1</td>\n",
       "      <td>0.969114</td>\n",
       "      <td>0.968190</td>\n",
       "      <td>0.000924</td>\n",
       "    </tr>\n",
       "    <tr>\n",
       "      <th>5</th>\n",
       "      <td>15</td>\n",
       "      <td>1</td>\n",
       "      <td>0.969155</td>\n",
       "      <td>0.968205</td>\n",
       "      <td>0.000949</td>\n",
       "    </tr>\n",
       "    <tr>\n",
       "      <th>6</th>\n",
       "      <td>16</td>\n",
       "      <td>1</td>\n",
       "      <td>0.969212</td>\n",
       "      <td>0.968237</td>\n",
       "      <td>0.000975</td>\n",
       "    </tr>\n",
       "    <tr>\n",
       "      <th>7</th>\n",
       "      <td>17</td>\n",
       "      <td>1</td>\n",
       "      <td>0.969296</td>\n",
       "      <td>0.968280</td>\n",
       "      <td>0.001016</td>\n",
       "    </tr>\n",
       "    <tr>\n",
       "      <th>8</th>\n",
       "      <td>18</td>\n",
       "      <td>1</td>\n",
       "      <td>0.969363</td>\n",
       "      <td>0.968354</td>\n",
       "      <td>0.001008</td>\n",
       "    </tr>\n",
       "    <tr>\n",
       "      <th>9</th>\n",
       "      <td>19</td>\n",
       "      <td>1</td>\n",
       "      <td>0.969495</td>\n",
       "      <td>0.968456</td>\n",
       "      <td>0.001039</td>\n",
       "    </tr>\n",
       "    <tr>\n",
       "      <th>10</th>\n",
       "      <td>20</td>\n",
       "      <td>1</td>\n",
       "      <td>0.969677</td>\n",
       "      <td>0.968519</td>\n",
       "      <td>0.001158</td>\n",
       "    </tr>\n",
       "    <tr>\n",
       "      <th>11</th>\n",
       "      <td>21</td>\n",
       "      <td>1</td>\n",
       "      <td>0.969844</td>\n",
       "      <td>0.968551</td>\n",
       "      <td>0.001292</td>\n",
       "    </tr>\n",
       "    <tr>\n",
       "      <th>12</th>\n",
       "      <td>22</td>\n",
       "      <td>1</td>\n",
       "      <td>0.970138</td>\n",
       "      <td>0.968738</td>\n",
       "      <td>0.001400</td>\n",
       "    </tr>\n",
       "    <tr>\n",
       "      <th>13</th>\n",
       "      <td>23</td>\n",
       "      <td>1</td>\n",
       "      <td>0.970261</td>\n",
       "      <td>0.968700</td>\n",
       "      <td>0.001561</td>\n",
       "    </tr>\n",
       "    <tr>\n",
       "      <th>14</th>\n",
       "      <td>24</td>\n",
       "      <td>1</td>\n",
       "      <td>0.970455</td>\n",
       "      <td>0.968844</td>\n",
       "      <td>0.001611</td>\n",
       "    </tr>\n",
       "    <tr>\n",
       "      <th>15</th>\n",
       "      <td>25</td>\n",
       "      <td>1</td>\n",
       "      <td>0.970567</td>\n",
       "      <td>0.968908</td>\n",
       "      <td>0.001659</td>\n",
       "    </tr>\n",
       "    <tr>\n",
       "      <th>16</th>\n",
       "      <td>26</td>\n",
       "      <td>1</td>\n",
       "      <td>0.970802</td>\n",
       "      <td>0.968983</td>\n",
       "      <td>0.001819</td>\n",
       "    </tr>\n",
       "    <tr>\n",
       "      <th>17</th>\n",
       "      <td>27</td>\n",
       "      <td>1</td>\n",
       "      <td>0.970955</td>\n",
       "      <td>0.969046</td>\n",
       "      <td>0.001908</td>\n",
       "    </tr>\n",
       "    <tr>\n",
       "      <th>18</th>\n",
       "      <td>28</td>\n",
       "      <td>1</td>\n",
       "      <td>0.971253</td>\n",
       "      <td>0.969153</td>\n",
       "      <td>0.002101</td>\n",
       "    </tr>\n",
       "    <tr>\n",
       "      <th>19</th>\n",
       "      <td>29</td>\n",
       "      <td>1</td>\n",
       "      <td>0.971386</td>\n",
       "      <td>0.969073</td>\n",
       "      <td>0.002313</td>\n",
       "    </tr>\n",
       "  </tbody>\n",
       "</table>\n",
       "</div>"
      ],
      "text/plain": [
       "    max_depth  min_sample_lead  train_accuracy  validate_accuracy  difference\n",
       "0          10                1        0.969102           0.968184    0.000918\n",
       "1          11                1        0.969102           0.968184    0.000918\n",
       "2          12                1        0.969114           0.968190    0.000924\n",
       "3          13                1        0.969114           0.968190    0.000924\n",
       "4          14                1        0.969114           0.968190    0.000924\n",
       "5          15                1        0.969155           0.968205    0.000949\n",
       "6          16                1        0.969212           0.968237    0.000975\n",
       "7          17                1        0.969296           0.968280    0.001016\n",
       "8          18                1        0.969363           0.968354    0.001008\n",
       "9          19                1        0.969495           0.968456    0.001039\n",
       "10         20                1        0.969677           0.968519    0.001158\n",
       "11         21                1        0.969844           0.968551    0.001292\n",
       "12         22                1        0.970138           0.968738    0.001400\n",
       "13         23                1        0.970261           0.968700    0.001561\n",
       "14         24                1        0.970455           0.968844    0.001611\n",
       "15         25                1        0.970567           0.968908    0.001659\n",
       "16         26                1        0.970802           0.968983    0.001819\n",
       "17         27                1        0.970955           0.969046    0.001908\n",
       "18         28                1        0.971253           0.969153    0.002101\n",
       "19         29                1        0.971386           0.969073    0.002313"
      ]
     },
     "execution_count": 251,
     "metadata": {},
     "output_type": "execute_result"
    }
   ],
   "source": [
    "metrics = []\n",
    "# .sample(10000, random_state=123)\n",
    "for i in range(10,30):\n",
    "    rf = RandomForestClassifier(max_depth=(i), \n",
    "                            min_samples_leaf=1,\n",
    "                            random_state=123)\n",
    "    \n",
    "    rf = rf.fit(x_train, y_train)\n",
    "    \n",
    "    in_sample_accuracy = rf.score(x_train, y_train)\n",
    "    \n",
    "    out_of_sample_accuracy = rf.score(x_validate, y_validate)\n",
    "    \n",
    "    output = {\"max_depth\": (i),\"min_sample_lead\" :1,\n",
    "        \"train_accuracy\": in_sample_accuracy,\n",
    "        \"validate_accuracy\": out_of_sample_accuracy}\n",
    "        \n",
    "    metrics.append(output)\n",
    "    \n",
    "rf_mc = pd.DataFrame(metrics)\n",
    "rf_mc[\"difference\"] = rf_mc.train_accuracy - rf_mc.validate_accuracy\n",
    "rf_mc"
   ]
  },
  {
   "cell_type": "code",
   "execution_count": 252,
   "id": "90265c70",
   "metadata": {},
   "outputs": [
    {
     "data": {
      "image/png": "[encoded data removed]",
      "text/plain": [
       "<Figure size 864x432 with 1 Axes>"
      ]
     },
     "metadata": {
      "needs_background": "light"
     },
     "output_type": "display_data"
    }
   ],
   "source": [
    "plt.figure(figsize=(12, 6))\n",
    "plt.plot(rf_mc.max_depth, rf_mc.train_accuracy, color = 'r', marker = 'o')\n",
    "plt.plot(rf_mc.max_depth, rf_mc.validate_accuracy, color = 'b', marker = 'o')\n",
    "plt.title('Overfitting Occurs at Higher Values for Max Depth')\n",
    "plt.xlabel('Max Depth')\n",
    "plt.ylabel('Accuracy')\n",
    "plt.show()"
   ]
  },
  {
   "cell_type": "markdown",
   "id": "dc14dd62",
   "metadata": {},
   "source": [
    "* max_depth = 25"
   ]
  },
  {
   "cell_type": "markdown",
   "id": "c2838314",
   "metadata": {},
   "source": [
    "### 3. Logistic Regression"
   ]
  },
  {
   "cell_type": "code",
   "execution_count": 256,
   "id": "2c101f23",
   "metadata": {},
   "outputs": [
    {
     "data": {
      "text/plain": [
       "0    424871\n",
       "1     13546\n",
       "Name: Contributed To Accident, dtype: int64"
      ]
     },
     "execution_count": 256,
     "metadata": {},
     "output_type": "execute_result"
    }
   ],
   "source": [
    "y_train['Contributed To Accident'].value_counts()"
   ]
  },
  {
   "cell_type": "markdown",
   "id": "b75f3f3f",
   "metadata": {},
   "source": [
    "df[df['target’] == 0].sample(10_000]"
   ]
  },
  {
   "cell_type": "code",
   "execution_count": 212,
   "id": "b48425df",
   "metadata": {},
   "outputs": [],
   "source": [
    "# a = df[df['Contributed To Accident'] == 0].sample(20_000)\n",
    "# b = df[df['Contributed To Accident'] == 1].sample(20_000)\n",
    "# c = a.append(b)"
   ]
  },
  {
   "cell_type": "code",
   "execution_count": 213,
   "id": "2eabfb0b",
   "metadata": {},
   "outputs": [],
   "source": [
    "# x_train1 = c[['Race','day_of_week', 'hour','SubAgency','Gender','month']]\n",
    "# y_train1 = c[['Contributed To Accident']]\n",
    "\n",
    "# x_train1 = pd.get_dummies(x_train1, drop_first=True)\n",
    "# y_train1 = pd.get_dummies(y_train1, drop_first=True)"
   ]
  },
  {
   "cell_type": "code",
   "execution_count": 257,
   "id": "6eecdf2f",
   "metadata": {},
   "outputs": [
    {
     "name": "stdout",
     "output_type": "stream",
     "text": [
      "              precision    recall  f1-score   support\n",
      "\n",
      "           0       0.97      1.00      0.98    424871\n",
      "           1       0.00      0.00      0.00     13546\n",
      "\n",
      "    accuracy                           0.97    438417\n",
      "   macro avg       0.48      0.50      0.49    438417\n",
      "weighted avg       0.94      0.97      0.95    438417\n",
      "\n"
     ]
    }
   ],
   "source": [
    "# Define the logistic regression model\n",
    "logit = LogisticRegression(C=1, random_state=123)\n",
    "\n",
    "#  fit the model on train data\n",
    "logit.fit(x_train, y_train)\n",
    "\n",
    "# now use the model to make predictions\n",
    "predictions3 = logit.predict(x_train)\n",
    "\n",
    "print(classification_report(y_train, predictions3))"
   ]
  },
  {
   "cell_type": "code",
   "execution_count": 258,
   "id": "46e6d0bb",
   "metadata": {},
   "outputs": [
    {
     "name": "stdout",
     "output_type": "stream",
     "text": [
      "Accuracy of Logistic Regression (c=1) on train set: 96.91%\n"
     ]
    }
   ],
   "source": [
    "print('Accuracy of Logistic Regression (c=1) on train set: {:.2%}'\n",
    "     .format(logit.score(x_train, y_train)))"
   ]
  },
  {
   "cell_type": "code",
   "execution_count": 259,
   "id": "176c19db",
   "metadata": {},
   "outputs": [
    {
     "name": "stdout",
     "output_type": "stream",
     "text": [
      "Accuracy: 0.9691024754970724 \n",
      "\n",
      "True Positive Rate/Sensitivity/Recall/Power: 0.0 \n",
      "\n",
      "False Positive Rate/False Alarm Ratio/Fall-out: 0.0 \n",
      "\n",
      "True Negative Rate/Specificity/Selectivity: 1.0 \n",
      "\n",
      "False Negative Rate/Miss Rate: 1.0 \n",
      "\n",
      "Precision/PPV: nan \n",
      "\n",
      "F1 Score: nan \n",
      "\n",
      "Support (0): 424871 \n",
      "\n",
      "Support (1): 13546\n"
     ]
    }
   ],
   "source": [
    "TN3, FP3, FN3, TP3 = confusion_matrix(y_train, predictions3).ravel()\n",
    "ALL3 = TP3 + FP3 + FN3 + TN3\n",
    "\n",
    "accuracy = (TP3 + TN3)/ALL3\n",
    "true_positive_rate = sensitivity = recal3 = power = TP3/(TP3+FN3)\n",
    "false_positive_rate = false_alarm_ratio = fallout = FP3/(FP3+TN3)\n",
    "true_negative_rate = specificity = selectivity = TN3/(TN3+FP3)\n",
    "false_negative_rate = miss_rate = FN3/(FN3+TP3)\n",
    "precision = PPV = TP3/(TP3+FP3)\n",
    "f1_score = 2*(precision*recal3)/(precision+recal3)\n",
    "support_pos = TP3 + FN3\n",
    "support_neg = FP3 + TN3\n",
    "\n",
    "print(f\"Accuracy: {accuracy}\", '\\n')\n",
    "print(f\"True Positive Rate/Sensitivity/Recall/Power: {true_positive_rate}\", '\\n')\n",
    "print(f\"False Positive Rate/False Alarm Ratio/Fall-out: {false_positive_rate}\", '\\n')\n",
    "print(f\"True Negative Rate/Specificity/Selectivity: {true_negative_rate}\", '\\n')\n",
    "print(f\"False Negative Rate/Miss Rate: {false_negative_rate}\", '\\n')\n",
    "print(f\"Precision/PPV: {precision}\", '\\n')\n",
    "print(f\"F1 Score: {f1_score}\", '\\n')\n",
    "print(f\"Support (0): {support_neg}\", '\\n')\n",
    "print(f\"Support (1): {support_pos}\")"
   ]
  },
  {
   "cell_type": "code",
   "execution_count": 120,
   "id": "c68f6ebf",
   "metadata": {},
   "outputs": [
    {
     "name": "stdout",
     "output_type": "stream",
     "text": [
      "              precision    recall  f1-score   support\n",
      "\n",
      "           0       0.97      1.00      0.98    424782\n",
      "           1       0.00      0.00      0.00     13635\n",
      "\n",
      "    accuracy                           0.97    438417\n",
      "   macro avg       0.48      0.50      0.49    438417\n",
      "weighted avg       0.94      0.97      0.95    438417\n",
      "\n"
     ]
    }
   ],
   "source": [
    "from sklearn.svm import SVC\n",
    "svm = SVC(kernel='linear', C=0.025, random_state=123)\n",
    "svm.fit(x_train,y_train)\n",
    "predictions4 = svm.predict(x_train)\n",
    "\n",
    "print(classification_report(y_train, predictions4))"
   ]
  },
  {
   "cell_type": "code",
   "execution_count": null,
   "id": "cde0196f",
   "metadata": {},
   "outputs": [],
   "source": []
  },
  {
   "cell_type": "code",
   "execution_count": null,
   "id": "dc791448",
   "metadata": {},
   "outputs": [],
   "source": []
  },
  {
   "cell_type": "code",
   "execution_count": null,
   "id": "670c4eda",
   "metadata": {},
   "outputs": [],
   "source": []
  },
  {
   "cell_type": "code",
   "execution_count": null,
   "id": "484b5227",
   "metadata": {},
   "outputs": [],
   "source": []
  },
  {
   "cell_type": "code",
   "execution_count": null,
   "id": "b5f191c2",
   "metadata": {},
   "outputs": [],
   "source": []
  },
  {
   "cell_type": "code",
   "execution_count": null,
   "id": "3dda943c",
   "metadata": {},
   "outputs": [],
   "source": []
  },
  {
   "cell_type": "code",
   "execution_count": null,
   "id": "68d62643",
   "metadata": {},
   "outputs": [],
   "source": []
  },
  {
   "cell_type": "code",
   "execution_count": 263,
   "id": "0b18ea8f",
   "metadata": {},
   "outputs": [
    {
     "name": "stdout",
     "output_type": "stream",
     "text": [
      "baseline accuracy on train set: 96.91%\n",
      "Accuracy of decision tree (max_depth=10) classifier on train set: 96.97%\n",
      "Accuracy of random forest (max_depth=28) classifier on train set: 97.13%\n",
      "Accuracy of Logistic Regression (c=1) on train set: 96.91%\n"
     ]
    }
   ],
   "source": [
    "print(f'baseline accuracy on train set: {baseline_accuracy_train:.2%}')\n",
    "print('Accuracy of decision tree (max_depth=10) classifier on train set: {:.2%}'\n",
    "     .format(tree.score(x_train, y_train)))\n",
    "print('Accuracy of random forest (max_depth=28) classifier on train set: {:.2%}'\n",
    "     .format(rf.score(x_train, y_train)))\n",
    "print('Accuracy of Logistic Regression (c=1) on train set: {:.2%}'\n",
    "     .format(logit.score(x_train, y_train)))"
   ]
  },
  {
   "cell_type": "markdown",
   "id": "c6de57b9",
   "metadata": {},
   "source": [
    "## Validate"
   ]
  },
  {
   "cell_type": "code",
   "execution_count": 264,
   "id": "d2347a3e",
   "metadata": {},
   "outputs": [
    {
     "name": "stdout",
     "output_type": "stream",
     "text": [
      "baseline accuracy on train set: 96.82%\n",
      "Accuracy of decision tree (max_depth = 10) classifier on validate set: 96.84%\n",
      "Accuracy of random forest (max_depth=28) classifier on validate set: 96.92%\n",
      "Accuracy of Logistic Regression (c=1) on validate set: 96.82%\n"
     ]
    }
   ],
   "source": [
    "# predict on validate\n",
    "y_pred_tree_validate = tree.predict(x_validate)\n",
    "y_pred_rf_validate = rf.predict(x_validate)\n",
    "y_pred_logistic_validate = logit.predict(x_validate)\n",
    "\n",
    "# evaluate on validate\n",
    "print(f'baseline accuracy on train set: {baseline_accuracy_validate:.2%}')\n",
    "print('Accuracy of decision tree (max_depth = 10) classifier on validate set: {:.2%}'\n",
    "     .format(tree.score(x_validate, y_validate)))\n",
    "print('Accuracy of random forest (max_depth=28) classifier on validate set: {:.2%}'\n",
    "     .format(rf.score(x_validate, y_validate)))\n",
    "print('Accuracy of Logistic Regression (c=1) on validate set: {:.2%}'\n",
    "     .format(logit.score(x_validate, y_validate)))"
   ]
  },
  {
   "cell_type": "markdown",
   "id": "d44f4b44",
   "metadata": {},
   "source": [
    "## Test"
   ]
  },
  {
   "cell_type": "code",
   "execution_count": 265,
   "id": "e1e4577f",
   "metadata": {},
   "outputs": [
    {
     "name": "stdout",
     "output_type": "stream",
     "text": [
      "Accuracy of random forest (max_depth = 28) on test set: 96.99%\n"
     ]
    }
   ],
   "source": [
    "# predict on test\n",
    "y_pred_test = rf.predict(x_test)\n",
    "\n",
    "# evaluate on test\n",
    "print('Accuracy of random forest (max_depth = 28) on test set: {:.2%}'\n",
    "     .format(rf.score(x_test, y_test)))"
   ]
  },
  {
   "cell_type": "code",
   "execution_count": 333,
   "id": "9659a1c0",
   "metadata": {},
   "outputs": [
    {
     "name": "stdout",
     "output_type": "stream",
     "text": [
      "baseline accuracy on train set: 96.89%\n"
     ]
    }
   ],
   "source": [
    "print(f'baseline accuracy on train set: {baseline_accuracy:.2%}')"
   ]
  },
  {
   "cell_type": "code",
   "execution_count": null,
   "id": "727faa64",
   "metadata": {},
   "outputs": [],
   "source": []
  },
  {
   "cell_type": "code",
   "execution_count": null,
   "id": "7cd5ab3e",
   "metadata": {},
   "outputs": [],
   "source": []
  },
  {
   "cell_type": "code",
   "execution_count": null,
   "id": "42dfd08c",
   "metadata": {},
   "outputs": [],
   "source": []
  }
 ],
 "metadata": {
  "kernelspec": {
   "display_name": "Python 3 (ipykernel)",
   "language": "python",
   "name": "python3"
  },
  "language_info": {
   "codemirror_mode": {
    "name": "ipython",
    "version": 3
   },
   "file_extension": ".py",
   "mimetype": "text/x-python",
   "name": "python",
   "nbconvert_exporter": "python",
   "pygments_lexer": "ipython3",
   "version": "3.9.12"
  }
 },
 "nbformat": 4,
 "nbformat_minor": 5
}
