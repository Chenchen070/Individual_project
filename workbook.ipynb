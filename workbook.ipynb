{
 "cells": [
  {
   "cell_type": "code",
   "execution_count": 40,
   "id": "312fe371",
   "metadata": {},
   "outputs": [],
   "source": [
    "import pandas as pd\n",
    "import datetime as dt\n",
    "import numpy as np\n",
    "import matplotlib.pyplot as plt\n",
    "import seaborn as sns\n",
    "\n",
    "import warnings\n",
    "warnings.filterwarnings('ignore')\n",
    "plt.rcParams[\"figure.figsize\"] = (18,8)\n",
    "plt.rcParams[\"font.size\"] = 20"
   ]
  },
  {
   "cell_type": "code",
   "execution_count": null,
   "id": "1ee37c88",
   "metadata": {},
   "outputs": [],
   "source": [
    "https://www.kaggle.com/datasets/rounak041993/traffic-violations-in-maryland-county/code"
   ]
  },
  {
   "cell_type": "code",
   "execution_count": 3,
   "id": "d70eae9f",
   "metadata": {},
   "outputs": [
    {
     "data": {
      "text/html": [
       "<div>\n",
       "<style scoped>\n",
       "    .dataframe tbody tr th:only-of-type {\n",
       "        vertical-align: middle;\n",
       "    }\n",
       "\n",
       "    .dataframe tbody tr th {\n",
       "        vertical-align: top;\n",
       "    }\n",
       "\n",
       "    .dataframe thead th {\n",
       "        text-align: right;\n",
       "    }\n",
       "</style>\n",
       "<table border=\"1\" class=\"dataframe\">\n",
       "  <thead>\n",
       "    <tr style=\"text-align: right;\">\n",
       "      <th></th>\n",
       "      <th>Date Of Stop</th>\n",
       "      <th>Time Of Stop</th>\n",
       "      <th>Agency</th>\n",
       "      <th>SubAgency</th>\n",
       "      <th>Description</th>\n",
       "      <th>Location</th>\n",
       "      <th>Latitude</th>\n",
       "      <th>Longitude</th>\n",
       "      <th>Accident</th>\n",
       "      <th>Belts</th>\n",
       "      <th>...</th>\n",
       "      <th>Charge</th>\n",
       "      <th>Article</th>\n",
       "      <th>Contributed To Accident</th>\n",
       "      <th>Race</th>\n",
       "      <th>Gender</th>\n",
       "      <th>Driver City</th>\n",
       "      <th>Driver State</th>\n",
       "      <th>DL State</th>\n",
       "      <th>Arrest Type</th>\n",
       "      <th>Geolocation</th>\n",
       "    </tr>\n",
       "  </thead>\n",
       "  <tbody>\n",
       "    <tr>\n",
       "      <th>0</th>\n",
       "      <td>09/24/2013</td>\n",
       "      <td>17:11:00</td>\n",
       "      <td>MCP</td>\n",
       "      <td>3rd district, Silver Spring</td>\n",
       "      <td>DRIVING VEHICLE ON HIGHWAY WITH SUSPENDED REGI...</td>\n",
       "      <td>8804 FLOWER AVE</td>\n",
       "      <td>NaN</td>\n",
       "      <td>NaN</td>\n",
       "      <td>No</td>\n",
       "      <td>No</td>\n",
       "      <td>...</td>\n",
       "      <td>13-401(h)</td>\n",
       "      <td>Transportation Article</td>\n",
       "      <td>No</td>\n",
       "      <td>BLACK</td>\n",
       "      <td>M</td>\n",
       "      <td>TAKOMA PARK</td>\n",
       "      <td>MD</td>\n",
       "      <td>MD</td>\n",
       "      <td>A - Marked Patrol</td>\n",
       "      <td>NaN</td>\n",
       "    </tr>\n",
       "    <tr>\n",
       "      <th>1</th>\n",
       "      <td>08/29/2017</td>\n",
       "      <td>10:19:00</td>\n",
       "      <td>MCP</td>\n",
       "      <td>2nd district, Bethesda</td>\n",
       "      <td>DRIVER FAILURE TO OBEY PROPERLY PLACED TRAFFIC...</td>\n",
       "      <td>WISCONSIN AVE@ ELM ST</td>\n",
       "      <td>38.981725</td>\n",
       "      <td>-77.092757</td>\n",
       "      <td>No</td>\n",
       "      <td>No</td>\n",
       "      <td>...</td>\n",
       "      <td>21-201(a1)</td>\n",
       "      <td>Transportation Article</td>\n",
       "      <td>No</td>\n",
       "      <td>WHITE</td>\n",
       "      <td>F</td>\n",
       "      <td>FAIRFAX STATION</td>\n",
       "      <td>VA</td>\n",
       "      <td>VA</td>\n",
       "      <td>A - Marked Patrol</td>\n",
       "      <td>(38.981725, -77.0927566666667)</td>\n",
       "    </tr>\n",
       "    <tr>\n",
       "      <th>2</th>\n",
       "      <td>12/01/2014</td>\n",
       "      <td>12:52:00</td>\n",
       "      <td>MCP</td>\n",
       "      <td>6th district, Gaithersburg / Montgomery Village</td>\n",
       "      <td>FAILURE STOP AND YIELD AT THRU HWY</td>\n",
       "      <td>CHRISTOPHER AVE/MONTGOMERY VILLAGE AVE</td>\n",
       "      <td>39.162888</td>\n",
       "      <td>-77.229088</td>\n",
       "      <td>No</td>\n",
       "      <td>No</td>\n",
       "      <td>...</td>\n",
       "      <td>21-403(b)</td>\n",
       "      <td>Transportation Article</td>\n",
       "      <td>No</td>\n",
       "      <td>BLACK</td>\n",
       "      <td>F</td>\n",
       "      <td>UPPER MARLBORO</td>\n",
       "      <td>MD</td>\n",
       "      <td>MD</td>\n",
       "      <td>A - Marked Patrol</td>\n",
       "      <td>(39.1628883333333, -77.2290883333333)</td>\n",
       "    </tr>\n",
       "    <tr>\n",
       "      <th>3</th>\n",
       "      <td>08/29/2017</td>\n",
       "      <td>09:22:00</td>\n",
       "      <td>MCP</td>\n",
       "      <td>3rd district, Silver Spring</td>\n",
       "      <td>FAILURE YIELD RIGHT OF WAY ON U TURN</td>\n",
       "      <td>CHERRY HILL RD./CALVERTON BLVD.</td>\n",
       "      <td>39.056975</td>\n",
       "      <td>-76.954633</td>\n",
       "      <td>No</td>\n",
       "      <td>No</td>\n",
       "      <td>...</td>\n",
       "      <td>21-402(b)</td>\n",
       "      <td>Transportation Article</td>\n",
       "      <td>No</td>\n",
       "      <td>BLACK</td>\n",
       "      <td>M</td>\n",
       "      <td>FORT WASHINGTON</td>\n",
       "      <td>MD</td>\n",
       "      <td>MD</td>\n",
       "      <td>A - Marked Patrol</td>\n",
       "      <td>(39.056975, -76.9546333333333)</td>\n",
       "    </tr>\n",
       "    <tr>\n",
       "      <th>4</th>\n",
       "      <td>08/28/2017</td>\n",
       "      <td>23:41:00</td>\n",
       "      <td>MCP</td>\n",
       "      <td>6th district, Gaithersburg / Montgomery Village</td>\n",
       "      <td>FAILURE OF DR. TO MAKE LANE CHANGE TO AVAIL. L...</td>\n",
       "      <td>355 @ SOUTH WESTLAND DRIVE</td>\n",
       "      <td>NaN</td>\n",
       "      <td>NaN</td>\n",
       "      <td>No</td>\n",
       "      <td>No</td>\n",
       "      <td>...</td>\n",
       "      <td>21-405(e1)</td>\n",
       "      <td>Transportation Article</td>\n",
       "      <td>No</td>\n",
       "      <td>WHITE</td>\n",
       "      <td>M</td>\n",
       "      <td>GAITHERSBURG</td>\n",
       "      <td>MD</td>\n",
       "      <td>MD</td>\n",
       "      <td>A - Marked Patrol</td>\n",
       "      <td>NaN</td>\n",
       "    </tr>\n",
       "  </tbody>\n",
       "</table>\n",
       "<p>5 rows × 35 columns</p>\n",
       "</div>"
      ],
      "text/plain": [
       "  Date Of Stop Time Of Stop Agency  \\\n",
       "0   09/24/2013     17:11:00    MCP   \n",
       "1   08/29/2017     10:19:00    MCP   \n",
       "2   12/01/2014     12:52:00    MCP   \n",
       "3   08/29/2017     09:22:00    MCP   \n",
       "4   08/28/2017     23:41:00    MCP   \n",
       "\n",
       "                                         SubAgency  \\\n",
       "0                      3rd district, Silver Spring   \n",
       "1                           2nd district, Bethesda   \n",
       "2  6th district, Gaithersburg / Montgomery Village   \n",
       "3                      3rd district, Silver Spring   \n",
       "4  6th district, Gaithersburg / Montgomery Village   \n",
       "\n",
       "                                         Description  \\\n",
       "0  DRIVING VEHICLE ON HIGHWAY WITH SUSPENDED REGI...   \n",
       "1  DRIVER FAILURE TO OBEY PROPERLY PLACED TRAFFIC...   \n",
       "2                 FAILURE STOP AND YIELD AT THRU HWY   \n",
       "3               FAILURE YIELD RIGHT OF WAY ON U TURN   \n",
       "4  FAILURE OF DR. TO MAKE LANE CHANGE TO AVAIL. L...   \n",
       "\n",
       "                                 Location   Latitude  Longitude Accident  \\\n",
       "0                         8804 FLOWER AVE        NaN        NaN       No   \n",
       "1                   WISCONSIN AVE@ ELM ST  38.981725 -77.092757       No   \n",
       "2  CHRISTOPHER AVE/MONTGOMERY VILLAGE AVE  39.162888 -77.229088       No   \n",
       "3         CHERRY HILL RD./CALVERTON BLVD.  39.056975 -76.954633       No   \n",
       "4              355 @ SOUTH WESTLAND DRIVE        NaN        NaN       No   \n",
       "\n",
       "  Belts  ...      Charge                 Article Contributed To Accident  \\\n",
       "0    No  ...   13-401(h)  Transportation Article                      No   \n",
       "1    No  ...  21-201(a1)  Transportation Article                      No   \n",
       "2    No  ...   21-403(b)  Transportation Article                      No   \n",
       "3    No  ...   21-402(b)  Transportation Article                      No   \n",
       "4    No  ...  21-405(e1)  Transportation Article                      No   \n",
       "\n",
       "    Race Gender      Driver City Driver State DL State        Arrest Type  \\\n",
       "0  BLACK      M      TAKOMA PARK           MD       MD  A - Marked Patrol   \n",
       "1  WHITE      F  FAIRFAX STATION           VA       VA  A - Marked Patrol   \n",
       "2  BLACK      F   UPPER MARLBORO           MD       MD  A - Marked Patrol   \n",
       "3  BLACK      M  FORT WASHINGTON           MD       MD  A - Marked Patrol   \n",
       "4  WHITE      M     GAITHERSBURG           MD       MD  A - Marked Patrol   \n",
       "\n",
       "                             Geolocation  \n",
       "0                                    NaN  \n",
       "1         (38.981725, -77.0927566666667)  \n",
       "2  (39.1628883333333, -77.2290883333333)  \n",
       "3         (39.056975, -76.9546333333333)  \n",
       "4                                    NaN  \n",
       "\n",
       "[5 rows x 35 columns]"
      ]
     },
     "execution_count": 3,
     "metadata": {},
     "output_type": "execute_result"
    }
   ],
   "source": [
    "df = pd.read_csv('Traffic_Violations.csv')\n",
    "df.head()\n",
    "# To July 28, 2022"
   ]
  },
  {
   "cell_type": "code",
   "execution_count": 3,
   "id": "53e29cdd",
   "metadata": {},
   "outputs": [
    {
     "name": "stdout",
     "output_type": "stream",
     "text": [
      "<class 'pandas.core.frame.DataFrame'>\n",
      "RangeIndex: 1292399 entries, 0 to 1292398\n",
      "Data columns (total 35 columns):\n",
      " #   Column                   Non-Null Count    Dtype  \n",
      "---  ------                   --------------    -----  \n",
      " 0   Date Of Stop             1292399 non-null  object \n",
      " 1   Time Of Stop             1292399 non-null  object \n",
      " 2   Agency                   1292399 non-null  object \n",
      " 3   SubAgency                1292389 non-null  object \n",
      " 4   Description              1292390 non-null  object \n",
      " 5   Location                 1292397 non-null  object \n",
      " 6   Latitude                 1197045 non-null  float64\n",
      " 7   Longitude                1197045 non-null  float64\n",
      " 8   Accident                 1292399 non-null  object \n",
      " 9   Belts                    1292399 non-null  object \n",
      " 10  Personal Injury          1292399 non-null  object \n",
      " 11  Property Damage          1292399 non-null  object \n",
      " 12  Fatal                    1292399 non-null  object \n",
      " 13  Commercial License       1292399 non-null  object \n",
      " 14  HAZMAT                   1292399 non-null  object \n",
      " 15  Commercial Vehicle       1292399 non-null  object \n",
      " 16  Alcohol                  1292399 non-null  object \n",
      " 17  Work Zone                1292399 non-null  object \n",
      " 18  State                    1292340 non-null  object \n",
      " 19  VehicleType              1292399 non-null  object \n",
      " 20  Year                     1284325 non-null  float64\n",
      " 21  Make                     1292342 non-null  object \n",
      " 22  Model                    1292212 non-null  object \n",
      " 23  Color                    1276272 non-null  object \n",
      " 24  Violation Type           1292399 non-null  object \n",
      " 25  Charge                   1292399 non-null  object \n",
      " 26  Article                  1227230 non-null  object \n",
      " 27  Contributed To Accident  1292399 non-null  object \n",
      " 28  Race                     1292399 non-null  object \n",
      " 29  Gender                   1292399 non-null  object \n",
      " 30  Driver City              1292182 non-null  object \n",
      " 31  Driver State             1292388 non-null  object \n",
      " 32  DL State                 1291470 non-null  object \n",
      " 33  Arrest Type              1292399 non-null  object \n",
      " 34  Geolocation              1197045 non-null  object \n",
      "dtypes: float64(3), object(32)\n",
      "memory usage: 345.1+ MB\n"
     ]
    }
   ],
   "source": [
    "df.info()"
   ]
  },
  {
   "cell_type": "code",
   "execution_count": 4,
   "id": "02b3ecb5",
   "metadata": {},
   "outputs": [
    {
     "data": {
      "text/plain": [
       "MCP    1292399\n",
       "Name: Agency, dtype: int64"
      ]
     },
     "execution_count": 4,
     "metadata": {},
     "output_type": "execute_result"
    }
   ],
   "source": [
    "df.Agency.value_counts()  # drop agency"
   ]
  },
  {
   "cell_type": "code",
   "execution_count": 5,
   "id": "215c733f",
   "metadata": {},
   "outputs": [
    {
     "data": {
      "text/plain": [
       "4th district, Wheaton                              322815\n",
       "3rd district, Silver Spring                        261679\n",
       "2nd district, Bethesda                             198158\n",
       "6th district, Gaithersburg / Montgomery Village    168963\n",
       "1st district, Rockville                            151530\n",
       "5th district, Germantown                           147679\n",
       "Headquarters and Special Operations                 41565\n",
       "Name: SubAgency, dtype: int64"
      ]
     },
     "execution_count": 5,
     "metadata": {},
     "output_type": "execute_result"
    }
   ],
   "source": [
    "df.SubAgency.value_counts()"
   ]
  },
  {
   "cell_type": "code",
   "execution_count": 6,
   "id": "bab347d6",
   "metadata": {},
   "outputs": [
    {
     "data": {
      "text/plain": [
       "DRIVER FAILURE TO OBEY PROPERLY PLACED TRAFFIC CONTROL DEVICE INSTRUCTIONS                         102974\n",
       "FAILURE TO DISPLAY REGISTRATION CARD UPON DEMAND BY POLICE OFFICER                                  61248\n",
       "DRIVING VEHICLE ON HIGHWAY WITH SUSPENDED REGISTRATION                                              43935\n",
       "FAILURE OF INDIVIDUAL DRIVING ON HIGHWAY TO DISPLAY LICENSE TO UNIFORMED POLICE ON DEMAND           33778\n",
       "DRIVER USING HANDS TO USE HANDHELD TELEPHONE WHILEMOTOR VEHICLE IS IN MOTION                        30688\n",
       "                                                                                                    ...  \n",
       "OPER MV W/REQUIRED LAMPS, REFLECTORS OBSCURED BY COVER/TINT                                             1\n",
       "DRIVING MOTOR VEH. ON HWY., PUBLICLY USED PRIVATE PLACE WEARING EARPLUGS/PHONES IN/ON BOTH EARS         1\n",
       "OPERATOR OF MOPED, MOTOR SCOOTER)FAILURE TO CARRY REQUIRED SECURITY                                     1\n",
       "DRIING UNSAFE VEH. ON HWY.                                                                              1\n",
       "Fuel Cap                                                                                                1\n",
       "Name: Description, Length: 12631, dtype: int64"
      ]
     },
     "execution_count": 6,
     "metadata": {},
     "output_type": "execute_result"
    }
   ],
   "source": [
    "df.Description.value_counts()"
   ]
  },
  {
   "cell_type": "code",
   "execution_count": 7,
   "id": "c9f0e3b5",
   "metadata": {},
   "outputs": [
    {
     "data": {
      "text/plain": [
       "IS 370 @ IS 270                    1981\n",
       "WAYNE AVE @ DALE DR                1894\n",
       "W/B IS 370 @ IS 270                1884\n",
       "WOODFIELD RD @ EMORY GROVE RD      1584\n",
       "RANDOLPH / COLIE                   1494\n",
       "                                   ... \n",
       "COLESVILLE RD / E. FRANKLIN AVE       1\n",
       "WISCONSIN AV @ NORFOLK AVENUE         1\n",
       "1ST AVE AT FENWICK LN                 1\n",
       "WAYNE AVE /FENTON ST                  1\n",
       "MD 193/ 495                           1\n",
       "Name: Location, Length: 186999, dtype: int64"
      ]
     },
     "execution_count": 7,
     "metadata": {},
     "output_type": "execute_result"
    }
   ],
   "source": [
    "df.Location.value_counts()"
   ]
  },
  {
   "cell_type": "code",
   "execution_count": 8,
   "id": "be9f5caa",
   "metadata": {},
   "outputs": [
    {
     "data": {
      "text/plain": [
       "No    1292399\n",
       "Name: Accident, dtype: int64"
      ]
     },
     "execution_count": 8,
     "metadata": {},
     "output_type": "execute_result"
    }
   ],
   "source": [
    "df.Accident.value_counts()  # drop"
   ]
  },
  {
   "cell_type": "code",
   "execution_count": 9,
   "id": "3fab1e9b",
   "metadata": {},
   "outputs": [
    {
     "data": {
      "text/plain": [
       "No     1247956\n",
       "Yes      44443\n",
       "Name: Belts, dtype: int64"
      ]
     },
     "execution_count": 9,
     "metadata": {},
     "output_type": "execute_result"
    }
   ],
   "source": [
    "df.Belts.value_counts()"
   ]
  },
  {
   "cell_type": "code",
   "execution_count": 10,
   "id": "7bdf83ad",
   "metadata": {},
   "outputs": [
    {
     "data": {
      "text/plain": [
       "No     1277383\n",
       "Yes      15016\n",
       "Name: Personal Injury, dtype: int64"
      ]
     },
     "execution_count": 10,
     "metadata": {},
     "output_type": "execute_result"
    }
   ],
   "source": [
    "df['Personal Injury'].value_counts()"
   ]
  },
  {
   "cell_type": "code",
   "execution_count": 12,
   "id": "09801f64",
   "metadata": {},
   "outputs": [
    {
     "data": {
      "text/plain": [
       "No     1267535\n",
       "Yes      24864\n",
       "Name: Property Damage, dtype: int64"
      ]
     },
     "execution_count": 12,
     "metadata": {},
     "output_type": "execute_result"
    }
   ],
   "source": [
    "df['Property Damage'].value_counts()"
   ]
  },
  {
   "cell_type": "code",
   "execution_count": 13,
   "id": "544a70c2",
   "metadata": {},
   "outputs": [
    {
     "data": {
      "text/plain": [
       "No     1292120\n",
       "Yes        279\n",
       "Name: Fatal, dtype: int64"
      ]
     },
     "execution_count": 13,
     "metadata": {},
     "output_type": "execute_result"
    }
   ],
   "source": [
    "df.Fatal.value_counts()"
   ]
  },
  {
   "cell_type": "code",
   "execution_count": 15,
   "id": "d635f1a0",
   "metadata": {},
   "outputs": [
    {
     "data": {
      "text/plain": [
       "No     1253962\n",
       "Yes      38437\n",
       "Name: Commercial License, dtype: int64"
      ]
     },
     "execution_count": 15,
     "metadata": {},
     "output_type": "execute_result"
    }
   ],
   "source": [
    "df['Commercial License'].value_counts()"
   ]
  },
  {
   "cell_type": "code",
   "execution_count": 16,
   "id": "b8b6f626",
   "metadata": {},
   "outputs": [
    {
     "data": {
      "text/plain": [
       "No     1292272\n",
       "Yes        127\n",
       "Name: HAZMAT, dtype: int64"
      ]
     },
     "execution_count": 16,
     "metadata": {},
     "output_type": "execute_result"
    }
   ],
   "source": [
    "df.HAZMAT.value_counts()"
   ]
  },
  {
   "cell_type": "code",
   "execution_count": 17,
   "id": "2a27e55a",
   "metadata": {},
   "outputs": [
    {
     "data": {
      "text/plain": [
       "No     1285777\n",
       "Yes       6622\n",
       "Name: Commercial Vehicle, dtype: int64"
      ]
     },
     "execution_count": 17,
     "metadata": {},
     "output_type": "execute_result"
    }
   ],
   "source": [
    "df['Commercial Vehicle'].value_counts()"
   ]
  },
  {
   "cell_type": "code",
   "execution_count": 18,
   "id": "eb504b06",
   "metadata": {},
   "outputs": [
    {
     "data": {
      "text/plain": [
       "No     1290191\n",
       "Yes       2208\n",
       "Name: Alcohol, dtype: int64"
      ]
     },
     "execution_count": 18,
     "metadata": {},
     "output_type": "execute_result"
    }
   ],
   "source": [
    "df.Alcohol.value_counts()"
   ]
  },
  {
   "cell_type": "code",
   "execution_count": 19,
   "id": "560f0879",
   "metadata": {},
   "outputs": [
    {
     "data": {
      "text/plain": [
       "No     1292151\n",
       "Yes        248\n",
       "Name: Work Zone, dtype: int64"
      ]
     },
     "execution_count": 19,
     "metadata": {},
     "output_type": "execute_result"
    }
   ],
   "source": [
    "df['Work Zone'].value_counts()"
   ]
  },
  {
   "cell_type": "code",
   "execution_count": 20,
   "id": "24c310bc",
   "metadata": {},
   "outputs": [
    {
     "data": {
      "text/plain": [
       "MD    1130381\n",
       "VA      53797\n",
       "DC      32580\n",
       "XX      10370\n",
       "PA       9260\n",
       "       ...   \n",
       "PE          3\n",
       "NF          2\n",
       "AS          2\n",
       "MH          1\n",
       "IT          1\n",
       "Name: State, Length: 69, dtype: int64"
      ]
     },
     "execution_count": 20,
     "metadata": {},
     "output_type": "execute_result"
    }
   ],
   "source": [
    "df.State.value_counts()"
   ]
  },
  {
   "cell_type": "code",
   "execution_count": 21,
   "id": "45163d8a",
   "metadata": {},
   "outputs": [
    {
     "data": {
      "text/plain": [
       "02 - Automobile              1131891\n",
       "05 - Light Duty Truck          72034\n",
       "28 - Other                     24339\n",
       "03 - Station Wagon             20635\n",
       "06 - Heavy Duty Truck          12150\n",
       "01 - Motorcycle                12123\n",
       "29 - Unknown                    8457\n",
       "08 - Recreational Vehicle       4187\n",
       "25 - Utility Trailer            1362\n",
       "19 - Moped                      1359\n",
       "07 - Truck/Road Tractor         1191\n",
       "04 - Limousine                   778\n",
       "20 - Commercial Rig              660\n",
       "10 - Transit Bus                 439\n",
       "12 - School Bus                  236\n",
       "27 - Farm Equipment              117\n",
       "09 - Farm Vehicle                 96\n",
       "26 - Boat Trailer                 90\n",
       "21 - Tandem Trailer               75\n",
       "11 - Cross Country Bus            57\n",
       "23 - Travel/Home Trailer          28\n",
       "22 - Mobile Home                  25\n",
       "13 - Ambulance(Emerg)             13\n",
       "24 - Camper                       12\n",
       "18 - Police(Non-Emerg)            11\n",
       "14 - Ambulance(Non-Emerg)         11\n",
       "15 - Fire(Emerg)                   5\n",
       "16 - Fire(Non-Emerg)               4\n",
       "18 - Police Vehicle                4\n",
       "17 - Police(Emerg)                 4\n",
       "15 - Fire Vehicle                  3\n",
       "14 - Ambulance                     2\n",
       "13 - Ambulance                     1\n",
       "Name: VehicleType, dtype: int64"
      ]
     },
     "execution_count": 21,
     "metadata": {},
     "output_type": "execute_result"
    }
   ],
   "source": [
    "df.VehicleType.value_counts()"
   ]
  },
  {
   "cell_type": "code",
   "execution_count": 23,
   "id": "23f6905e",
   "metadata": {},
   "outputs": [
    {
     "data": {
      "text/plain": [
       "Warning     620103\n",
       "Citation    607150\n",
       "ESERO        64224\n",
       "SERO           922\n",
       "Name: Violation Type, dtype: int64"
      ]
     },
     "execution_count": 23,
     "metadata": {},
     "output_type": "execute_result"
    }
   ],
   "source": [
    "df['Violation Type'].value_counts()"
   ]
  },
  {
   "cell_type": "code",
   "execution_count": 24,
   "id": "672e47c8",
   "metadata": {},
   "outputs": [
    {
     "data": {
      "text/plain": [
       "21-801.1       166514\n",
       "21-201(a1)     102974\n",
       "13-409(b)       61615\n",
       "13-401(h)       44469\n",
       "21-707(a)       41262\n",
       "                ...  \n",
       "21-1003(ee)         1\n",
       "10-310(b)           1\n",
       "22-228(d)           1\n",
       "21-902(d2I)         1\n",
       "8-409(i)            1\n",
       "Name: Charge, Length: 1029, dtype: int64"
      ]
     },
     "execution_count": 24,
     "metadata": {},
     "output_type": "execute_result"
    }
   ],
   "source": [
    "df.Charge.value_counts()"
   ]
  },
  {
   "cell_type": "code",
   "execution_count": 25,
   "id": "b71bd07a",
   "metadata": {},
   "outputs": [
    {
     "data": {
      "text/plain": [
       "Transportation Article    1214130\n",
       "Maryland Rules              13100\n",
       "Name: Article, dtype: int64"
      ]
     },
     "execution_count": 25,
     "metadata": {},
     "output_type": "execute_result"
    }
   ],
   "source": [
    "df.Article.value_counts()"
   ]
  },
  {
   "cell_type": "code",
   "execution_count": 26,
   "id": "d549646b",
   "metadata": {},
   "outputs": [
    {
     "data": {
      "text/plain": [
       "No     1261498\n",
       "Yes      30901\n",
       "Name: Contributed To Accident, dtype: int64"
      ]
     },
     "execution_count": 26,
     "metadata": {},
     "output_type": "execute_result"
    }
   ],
   "source": [
    "df['Contributed To Accident'].value_counts()"
   ]
  },
  {
   "cell_type": "code",
   "execution_count": 27,
   "id": "8f49f94f",
   "metadata": {},
   "outputs": [
    {
     "data": {
      "text/plain": [
       "WHITE              465808\n",
       "BLACK              407493\n",
       "HISPANIC           271966\n",
       "ASIAN               75454\n",
       "OTHER               68738\n",
       "NATIVE AMERICAN      2940\n",
       "Name: Race, dtype: int64"
      ]
     },
     "execution_count": 27,
     "metadata": {},
     "output_type": "execute_result"
    }
   ],
   "source": [
    "df.Race.value_counts()"
   ]
  },
  {
   "cell_type": "code",
   "execution_count": 28,
   "id": "e55ba82d",
   "metadata": {},
   "outputs": [
    {
     "data": {
      "text/plain": [
       "M    865862\n",
       "F    425097\n",
       "U      1440\n",
       "Name: Gender, dtype: int64"
      ]
     },
     "execution_count": 28,
     "metadata": {},
     "output_type": "execute_result"
    }
   ],
   "source": [
    "df.Gender.value_counts()"
   ]
  },
  {
   "cell_type": "code",
   "execution_count": 39,
   "id": "ed397ec4",
   "metadata": {},
   "outputs": [
    {
     "data": {
      "text/plain": [
       "BLACK          259499\n",
       "SILVER         236828\n",
       "WHITE          197558\n",
       "GRAY           141092\n",
       "RED            101733\n",
       "BLUE            94814\n",
       "GREEN           49520\n",
       "GOLD            41177\n",
       "BLUE, DARK      27111\n",
       "TAN             27015\n",
       "MAROON          22408\n",
       "BLUE, LIGHT     17221\n",
       "BEIGE           15047\n",
       "GREEN, DK       14457\n",
       "GREEN, LGT       7345\n",
       "BROWN            6021\n",
       "YELLOW           4889\n",
       "ORANGE           4538\n",
       "BRONZE           2964\n",
       "PURPLE           2524\n",
       "MULTICOLOR       1021\n",
       "CREAM             837\n",
       "COPPER            414\n",
       "PINK              188\n",
       "CHROME             27\n",
       "CAMOUFLAGE         24\n",
       "Name: Color, dtype: int64"
      ]
     },
     "execution_count": 39,
     "metadata": {},
     "output_type": "execute_result"
    }
   ],
   "source": [
    "df.Color.value_counts()"
   ]
  },
  {
   "cell_type": "code",
   "execution_count": 29,
   "id": "dcb4267c",
   "metadata": {},
   "outputs": [
    {
     "data": {
      "text/plain": [
       "SILVER SPRING    322949\n",
       "GAITHERSBURG     132171\n",
       "GERMANTOWN       105725\n",
       "ROCKVILLE        105359\n",
       "WASHINGTON        39612\n",
       "                  ...  \n",
       "HANFORD               1\n",
       "BELFORD               1\n",
       "DOUBS                 1\n",
       "COLLEEGBILLE          1\n",
       "BELL GARDENS          1\n",
       "Name: Driver City, Length: 7293, dtype: int64"
      ]
     },
     "execution_count": 29,
     "metadata": {},
     "output_type": "execute_result"
    }
   ],
   "source": [
    "df['Driver City'].value_counts()"
   ]
  },
  {
   "cell_type": "code",
   "execution_count": 30,
   "id": "ee5b97ff",
   "metadata": {},
   "outputs": [
    {
     "data": {
      "text/plain": [
       "MD    1167314\n",
       "DC      41101\n",
       "VA      39909\n",
       "PA       6775\n",
       "FL       4532\n",
       "       ...   \n",
       "PE          2\n",
       "IT          1\n",
       "NS          1\n",
       "NB          1\n",
       "PQ          1\n",
       "Name: Driver State, Length: 68, dtype: int64"
      ]
     },
     "execution_count": 30,
     "metadata": {},
     "output_type": "execute_result"
    }
   ],
   "source": [
    "df['Driver State'].value_counts()"
   ]
  },
  {
   "cell_type": "code",
   "execution_count": 31,
   "id": "f198cb83",
   "metadata": {},
   "outputs": [
    {
     "data": {
      "text/plain": [
       "MD    1123914\n",
       "VA      42858\n",
       "DC      41768\n",
       "XX      17732\n",
       "PA       8091\n",
       "       ...   \n",
       "PQ          6\n",
       "PE          5\n",
       "MH          5\n",
       "NS          5\n",
       "NF          1\n",
       "Name: DL State, Length: 70, dtype: int64"
      ]
     },
     "execution_count": 31,
     "metadata": {},
     "output_type": "execute_result"
    }
   ],
   "source": [
    "df['DL State'].value_counts()"
   ]
  },
  {
   "cell_type": "code",
   "execution_count": 32,
   "id": "7c575ac1",
   "metadata": {},
   "outputs": [
    {
     "data": {
      "text/plain": [
       "A - Marked Patrol                         1062884\n",
       "Q - Marked Laser                           123743\n",
       "B - Unmarked Patrol                         41345\n",
       "S - License Plate Recognition               13412\n",
       "O - Foot Patrol                             12673\n",
       "L - Motorcycle                              11402\n",
       "E - Marked Stationary Radar                  8025\n",
       "G - Marked Moving Radar (Stationary)         6025\n",
       "R - Unmarked Laser                           5604\n",
       "I - Marked Moving Radar (Moving)             2027\n",
       "M - Marked (Off-Duty)                        1898\n",
       "H - Unmarked Moving Radar (Stationary)        851\n",
       "F - Unmarked Stationary Radar                 818\n",
       "C - Marked VASCAR                             450\n",
       "J - Unmarked Moving Radar (Moving)            436\n",
       "P - Mounted Patrol                            315\n",
       "D - Unmarked VASCAR                           258\n",
       "N - Unmarked (Off-Duty)                       178\n",
       "K - Aircraft Assist                            55\n",
       "Name: Arrest Type, dtype: int64"
      ]
     },
     "execution_count": 32,
     "metadata": {},
     "output_type": "execute_result"
    }
   ],
   "source": [
    "df['Arrest Type'].value_counts()"
   ]
  },
  {
   "cell_type": "code",
   "execution_count": 33,
   "id": "890530eb",
   "metadata": {},
   "outputs": [
    {
     "data": {
      "text/plain": [
       "(39.045425, -76.9907366666667)           551\n",
       "(39.0462766666667, -76.990695)           431\n",
       "(39.109775, -76.91044)                   327\n",
       "(39.0056183333333, -77.0123283333333)    268\n",
       "(39.11061, -76.9897983333333)            253\n",
       "                                        ... \n",
       "(39.0854766666667, -77.0615233333333)      1\n",
       "(39.1629916666667, -77.0616583333333)      1\n",
       "(39.0690883333333, -77.060015)             1\n",
       "(38.9738366666667, -77.1210866666667)      1\n",
       "(39.0171391166667, -77.0063790833333)      1\n",
       "Name: Geolocation, Length: 633935, dtype: int64"
      ]
     },
     "execution_count": 33,
     "metadata": {},
     "output_type": "execute_result"
    }
   ],
   "source": [
    "df.Geolocation.value_counts()"
   ]
  },
  {
   "cell_type": "code",
   "execution_count": 38,
   "id": "cf1fc0ba",
   "metadata": {},
   "outputs": [
    {
     "data": {
      "text/plain": [
       "Date Of Stop                   0\n",
       "Time Of Stop                   0\n",
       "Agency                         0\n",
       "SubAgency                     10\n",
       "Description                    9\n",
       "Location                       2\n",
       "Latitude                   95354\n",
       "Longitude                  95354\n",
       "Accident                       0\n",
       "Belts                          0\n",
       "Personal Injury                0\n",
       "Property Damage                0\n",
       "Fatal                          0\n",
       "Commercial License             0\n",
       "HAZMAT                         0\n",
       "Commercial Vehicle             0\n",
       "Alcohol                        0\n",
       "Work Zone                      0\n",
       "State                         59\n",
       "VehicleType                    0\n",
       "Year                        8074\n",
       "Make                          57\n",
       "Model                        187\n",
       "Color                      16127\n",
       "Violation Type                 0\n",
       "Charge                         0\n",
       "Article                    65169\n",
       "Contributed To Accident        0\n",
       "Race                           0\n",
       "Gender                         0\n",
       "Driver City                  217\n",
       "Driver State                  11\n",
       "DL State                     929\n",
       "Arrest Type                    0\n",
       "Geolocation                95354\n",
       "dtype: int64"
      ]
     },
     "execution_count": 38,
     "metadata": {},
     "output_type": "execute_result"
    }
   ],
   "source": [
    "df.isnull().sum()"
   ]
  },
  {
   "cell_type": "code",
   "execution_count": 4,
   "id": "e1849f4d",
   "metadata": {},
   "outputs": [
    {
     "data": {
      "text/plain": [
       "Index(['Date Of Stop', 'Time Of Stop', 'Agency', 'SubAgency', 'Description',\n",
       "       'Location', 'Latitude', 'Longitude', 'Accident', 'Belts',\n",
       "       'Personal Injury', 'Property Damage', 'Fatal', 'Commercial License',\n",
       "       'HAZMAT', 'Commercial Vehicle', 'Alcohol', 'Work Zone', 'State',\n",
       "       'VehicleType', 'Year', 'Make', 'Model', 'Color', 'Violation Type',\n",
       "       'Charge', 'Article', 'Contributed To Accident', 'Race', 'Gender',\n",
       "       'Driver City', 'Driver State', 'DL State', 'Arrest Type',\n",
       "       'Geolocation'],\n",
       "      dtype='object')"
      ]
     },
     "execution_count": 4,
     "metadata": {},
     "output_type": "execute_result"
    }
   ],
   "source": [
    "df.columns"
   ]
  },
  {
   "cell_type": "code",
   "execution_count": 5,
   "id": "b130d205",
   "metadata": {},
   "outputs": [
    {
     "name": "stdout",
     "output_type": "stream",
     "text": [
      "<class 'pandas.core.frame.DataFrame'>\n",
      "RangeIndex: 1292399 entries, 0 to 1292398\n",
      "Data columns (total 16 columns):\n",
      " #   Column                   Non-Null Count    Dtype  \n",
      "---  ------                   --------------    -----  \n",
      " 0   Date Of Stop             1292399 non-null  object \n",
      " 1   Time Of Stop             1292399 non-null  object \n",
      " 2   Description              1292390 non-null  object \n",
      " 3   Location                 1292397 non-null  object \n",
      " 4   Latitude                 1197045 non-null  float64\n",
      " 5   Longitude                1197045 non-null  float64\n",
      " 6   Belts                    1292399 non-null  object \n",
      " 7   Personal Injury          1292399 non-null  object \n",
      " 8   Property Damage          1292399 non-null  object \n",
      " 9   Alcohol                  1292399 non-null  object \n",
      " 10  Violation Type           1292399 non-null  object \n",
      " 11  Contributed To Accident  1292399 non-null  object \n",
      " 12  Race                     1292399 non-null  object \n",
      " 13  Gender                   1292399 non-null  object \n",
      " 14  Arrest Type              1292399 non-null  object \n",
      " 15  Geolocation              1197045 non-null  object \n",
      "dtypes: float64(2), object(14)\n",
      "memory usage: 157.8+ MB\n"
     ]
    }
   ],
   "source": [
    "drop_col = ['Agency', 'SubAgency', 'Accident', 'Fatal', 'Commercial License','HAZMAT', 'Commercial Vehicle', \n",
    "           'Work Zone', 'State', 'VehicleType', 'Year', 'Make', 'Model', 'Color', 'Charge', 'Article', \n",
    "            'Driver City', 'Driver State', 'DL State']\n",
    "df = df.drop(columns = drop_col)\n",
    "df.info()"
   ]
  },
  {
   "cell_type": "code",
   "execution_count": 6,
   "id": "ec0f7f0e",
   "metadata": {},
   "outputs": [
    {
     "data": {
      "text/plain": [
       "Date Of Stop                   0\n",
       "Time Of Stop                   0\n",
       "Description                    9\n",
       "Location                       2\n",
       "Latitude                   95354\n",
       "Longitude                  95354\n",
       "Belts                          0\n",
       "Personal Injury                0\n",
       "Property Damage                0\n",
       "Alcohol                        0\n",
       "Violation Type                 0\n",
       "Contributed To Accident        0\n",
       "Race                           0\n",
       "Gender                         0\n",
       "Arrest Type                    0\n",
       "Geolocation                95354\n",
       "dtype: int64"
      ]
     },
     "execution_count": 6,
     "metadata": {},
     "output_type": "execute_result"
    }
   ],
   "source": [
    "df.isnull().sum()"
   ]
  },
  {
   "cell_type": "code",
   "execution_count": 7,
   "id": "bbc73925",
   "metadata": {},
   "outputs": [
    {
     "name": "stdout",
     "output_type": "stream",
     "text": [
      "<class 'pandas.core.frame.DataFrame'>\n",
      "Int64Index: 1197036 entries, 1 to 1292398\n",
      "Data columns (total 16 columns):\n",
      " #   Column                   Non-Null Count    Dtype  \n",
      "---  ------                   --------------    -----  \n",
      " 0   Date Of Stop             1197036 non-null  object \n",
      " 1   Time Of Stop             1197036 non-null  object \n",
      " 2   Description              1197036 non-null  object \n",
      " 3   Location                 1197036 non-null  object \n",
      " 4   Latitude                 1197036 non-null  float64\n",
      " 5   Longitude                1197036 non-null  float64\n",
      " 6   Belts                    1197036 non-null  object \n",
      " 7   Personal Injury          1197036 non-null  object \n",
      " 8   Property Damage          1197036 non-null  object \n",
      " 9   Alcohol                  1197036 non-null  object \n",
      " 10  Violation Type           1197036 non-null  object \n",
      " 11  Contributed To Accident  1197036 non-null  object \n",
      " 12  Race                     1197036 non-null  object \n",
      " 13  Gender                   1197036 non-null  object \n",
      " 14  Arrest Type              1197036 non-null  object \n",
      " 15  Geolocation              1197036 non-null  object \n",
      "dtypes: float64(2), object(14)\n",
      "memory usage: 155.3+ MB\n"
     ]
    }
   ],
   "source": [
    "df.dropna(inplace=True)\n",
    "df.info()"
   ]
  },
  {
   "cell_type": "code",
   "execution_count": 8,
   "id": "7416b925",
   "metadata": {},
   "outputs": [
    {
     "data": {
      "text/plain": [
       "0.9262124158251438"
      ]
     },
     "execution_count": 8,
     "metadata": {},
     "output_type": "execute_result"
    }
   ],
   "source": [
    "1197036 / 1292399"
   ]
  },
  {
   "cell_type": "markdown",
   "id": "8c92bde8",
   "metadata": {},
   "source": [
    "* 92.62% data remain"
   ]
  },
  {
   "cell_type": "code",
   "execution_count": 31,
   "id": "c20d6d4f",
   "metadata": {},
   "outputs": [
    {
     "name": "stdout",
     "output_type": "stream",
     "text": [
      "<class 'pandas.core.frame.DataFrame'>\n",
      "Int64Index: 1197036 entries, 1 to 1292398\n",
      "Data columns (total 17 columns):\n",
      " #   Column                   Non-Null Count    Dtype         \n",
      "---  ------                   --------------    -----         \n",
      " 0   Date Of Stop             1197036 non-null  object        \n",
      " 1   Time Of Stop             1197036 non-null  object        \n",
      " 2   Description              1197036 non-null  object        \n",
      " 3   Location                 1197036 non-null  object        \n",
      " 4   Latitude                 1197036 non-null  float64       \n",
      " 5   Longitude                1197036 non-null  float64       \n",
      " 6   Belts                    1197036 non-null  object        \n",
      " 7   Personal Injury          1197036 non-null  object        \n",
      " 8   Property Damage          1197036 non-null  object        \n",
      " 9   Alcohol                  1197036 non-null  object        \n",
      " 10  Violation Type           1197036 non-null  object        \n",
      " 11  Contributed To Accident  1197036 non-null  object        \n",
      " 12  Race                     1197036 non-null  object        \n",
      " 13  Gender                   1197036 non-null  object        \n",
      " 14  Arrest Type              1197036 non-null  object        \n",
      " 15  Geolocation              1197036 non-null  object        \n",
      " 16  time                     1197036 non-null  datetime64[ns]\n",
      "dtypes: datetime64[ns](1), float64(2), object(14)\n",
      "memory usage: 164.4+ MB\n"
     ]
    }
   ],
   "source": [
    "explore = df\n",
    "explore.info()"
   ]
  },
  {
   "cell_type": "code",
   "execution_count": 32,
   "id": "cdfec545",
   "metadata": {},
   "outputs": [],
   "source": [
    "explore['time'] = explore['Date Of Stop'] + ' ' + explore['Time Of Stop']"
   ]
  },
  {
   "cell_type": "code",
   "execution_count": 33,
   "id": "737d418d",
   "metadata": {},
   "outputs": [],
   "source": [
    "col = ['Date Of Stop', 'Time Of Stop']\n",
    "explore = explore.drop(columns = col)"
   ]
  },
  {
   "cell_type": "code",
   "execution_count": 34,
   "id": "ee2ddb4c",
   "metadata": {},
   "outputs": [
    {
     "name": "stdout",
     "output_type": "stream",
     "text": [
      "<class 'pandas.core.frame.DataFrame'>\n",
      "Int64Index: 1197036 entries, 1 to 1292398\n",
      "Data columns (total 15 columns):\n",
      " #   Column                   Non-Null Count    Dtype         \n",
      "---  ------                   --------------    -----         \n",
      " 0   Description              1197036 non-null  object        \n",
      " 1   Location                 1197036 non-null  object        \n",
      " 2   Latitude                 1197036 non-null  float64       \n",
      " 3   Longitude                1197036 non-null  float64       \n",
      " 4   Belts                    1197036 non-null  object        \n",
      " 5   Personal Injury          1197036 non-null  object        \n",
      " 6   Property Damage          1197036 non-null  object        \n",
      " 7   Alcohol                  1197036 non-null  object        \n",
      " 8   Violation Type           1197036 non-null  object        \n",
      " 9   Contributed To Accident  1197036 non-null  object        \n",
      " 10  Race                     1197036 non-null  object        \n",
      " 11  Gender                   1197036 non-null  object        \n",
      " 12  Arrest Type              1197036 non-null  object        \n",
      " 13  Geolocation              1197036 non-null  object        \n",
      " 14  time                     1197036 non-null  datetime64[ns]\n",
      "dtypes: datetime64[ns](1), float64(2), object(12)\n",
      "memory usage: 146.1+ MB\n"
     ]
    }
   ],
   "source": [
    "explore['time'] = pd.to_datetime(explore['time'])\n",
    "explore.info()"
   ]
  },
  {
   "cell_type": "code",
   "execution_count": 22,
   "id": "aad6e951",
   "metadata": {},
   "outputs": [
    {
     "data": {
      "text/html": [
       "<div>\n",
       "<style scoped>\n",
       "    .dataframe tbody tr th:only-of-type {\n",
       "        vertical-align: middle;\n",
       "    }\n",
       "\n",
       "    .dataframe tbody tr th {\n",
       "        vertical-align: top;\n",
       "    }\n",
       "\n",
       "    .dataframe thead th {\n",
       "        text-align: right;\n",
       "    }\n",
       "</style>\n",
       "<table border=\"1\" class=\"dataframe\">\n",
       "  <thead>\n",
       "    <tr style=\"text-align: right;\">\n",
       "      <th></th>\n",
       "      <th>Description</th>\n",
       "      <th>Location</th>\n",
       "      <th>Latitude</th>\n",
       "      <th>Longitude</th>\n",
       "      <th>Belts</th>\n",
       "      <th>Personal Injury</th>\n",
       "      <th>Property Damage</th>\n",
       "      <th>Alcohol</th>\n",
       "      <th>Violation Type</th>\n",
       "      <th>Contributed To Accident</th>\n",
       "      <th>Race</th>\n",
       "      <th>Gender</th>\n",
       "      <th>Arrest Type</th>\n",
       "      <th>Geolocation</th>\n",
       "      <th>time</th>\n",
       "    </tr>\n",
       "  </thead>\n",
       "  <tbody>\n",
       "    <tr>\n",
       "      <th>1</th>\n",
       "      <td>DRIVER FAILURE TO OBEY PROPERLY PLACED TRAFFIC...</td>\n",
       "      <td>WISCONSIN AVE@ ELM ST</td>\n",
       "      <td>38.981725</td>\n",
       "      <td>-77.092757</td>\n",
       "      <td>No</td>\n",
       "      <td>No</td>\n",
       "      <td>No</td>\n",
       "      <td>No</td>\n",
       "      <td>Citation</td>\n",
       "      <td>No</td>\n",
       "      <td>WHITE</td>\n",
       "      <td>F</td>\n",
       "      <td>A - Marked Patrol</td>\n",
       "      <td>(38.981725, -77.0927566666667)</td>\n",
       "      <td>2017-08-29 10:19:00</td>\n",
       "    </tr>\n",
       "    <tr>\n",
       "      <th>2</th>\n",
       "      <td>FAILURE STOP AND YIELD AT THRU HWY</td>\n",
       "      <td>CHRISTOPHER AVE/MONTGOMERY VILLAGE AVE</td>\n",
       "      <td>39.162888</td>\n",
       "      <td>-77.229088</td>\n",
       "      <td>No</td>\n",
       "      <td>No</td>\n",
       "      <td>Yes</td>\n",
       "      <td>No</td>\n",
       "      <td>Citation</td>\n",
       "      <td>No</td>\n",
       "      <td>BLACK</td>\n",
       "      <td>F</td>\n",
       "      <td>A - Marked Patrol</td>\n",
       "      <td>(39.1628883333333, -77.2290883333333)</td>\n",
       "      <td>2014-12-01 12:52:00</td>\n",
       "    </tr>\n",
       "    <tr>\n",
       "      <th>3</th>\n",
       "      <td>FAILURE YIELD RIGHT OF WAY ON U TURN</td>\n",
       "      <td>CHERRY HILL RD./CALVERTON BLVD.</td>\n",
       "      <td>39.056975</td>\n",
       "      <td>-76.954633</td>\n",
       "      <td>No</td>\n",
       "      <td>No</td>\n",
       "      <td>Yes</td>\n",
       "      <td>No</td>\n",
       "      <td>Citation</td>\n",
       "      <td>No</td>\n",
       "      <td>BLACK</td>\n",
       "      <td>M</td>\n",
       "      <td>A - Marked Patrol</td>\n",
       "      <td>(39.056975, -76.9546333333333)</td>\n",
       "      <td>2017-08-29 09:22:00</td>\n",
       "    </tr>\n",
       "    <tr>\n",
       "      <th>6</th>\n",
       "      <td>DRIVING VEHICLE ON HIGHWAY WITH SUSPENDED REGI...</td>\n",
       "      <td>GEORGIA AVE / BEL PRE RD</td>\n",
       "      <td>39.093383</td>\n",
       "      <td>-77.079552</td>\n",
       "      <td>No</td>\n",
       "      <td>No</td>\n",
       "      <td>No</td>\n",
       "      <td>No</td>\n",
       "      <td>Citation</td>\n",
       "      <td>No</td>\n",
       "      <td>HISPANIC</td>\n",
       "      <td>M</td>\n",
       "      <td>A - Marked Patrol</td>\n",
       "      <td>(39.0933833333333, -77.0795516666667)</td>\n",
       "      <td>2013-10-08 13:23:00</td>\n",
       "    </tr>\n",
       "    <tr>\n",
       "      <th>10</th>\n",
       "      <td>FAILURE TO DRIVE ON RIGHT HAND ROADWAY OF DIVI...</td>\n",
       "      <td>GATEWAY CENTER DR @ CLARKSBURG RD</td>\n",
       "      <td>39.234843</td>\n",
       "      <td>-77.281540</td>\n",
       "      <td>No</td>\n",
       "      <td>No</td>\n",
       "      <td>No</td>\n",
       "      <td>No</td>\n",
       "      <td>Citation</td>\n",
       "      <td>No</td>\n",
       "      <td>WHITE</td>\n",
       "      <td>M</td>\n",
       "      <td>A - Marked Patrol</td>\n",
       "      <td>(39.2348434333333, -77.28153995)</td>\n",
       "      <td>2014-02-14 20:10:00</td>\n",
       "    </tr>\n",
       "  </tbody>\n",
       "</table>\n",
       "</div>"
      ],
      "text/plain": [
       "                                          Description  \\\n",
       "1   DRIVER FAILURE TO OBEY PROPERLY PLACED TRAFFIC...   \n",
       "2                  FAILURE STOP AND YIELD AT THRU HWY   \n",
       "3                FAILURE YIELD RIGHT OF WAY ON U TURN   \n",
       "6   DRIVING VEHICLE ON HIGHWAY WITH SUSPENDED REGI...   \n",
       "10  FAILURE TO DRIVE ON RIGHT HAND ROADWAY OF DIVI...   \n",
       "\n",
       "                                  Location   Latitude  Longitude Belts  \\\n",
       "1                    WISCONSIN AVE@ ELM ST  38.981725 -77.092757    No   \n",
       "2   CHRISTOPHER AVE/MONTGOMERY VILLAGE AVE  39.162888 -77.229088    No   \n",
       "3          CHERRY HILL RD./CALVERTON BLVD.  39.056975 -76.954633    No   \n",
       "6                 GEORGIA AVE / BEL PRE RD  39.093383 -77.079552    No   \n",
       "10       GATEWAY CENTER DR @ CLARKSBURG RD  39.234843 -77.281540    No   \n",
       "\n",
       "   Personal Injury Property Damage Alcohol Violation Type  \\\n",
       "1               No              No      No       Citation   \n",
       "2               No             Yes      No       Citation   \n",
       "3               No             Yes      No       Citation   \n",
       "6               No              No      No       Citation   \n",
       "10              No              No      No       Citation   \n",
       "\n",
       "   Contributed To Accident      Race Gender        Arrest Type  \\\n",
       "1                       No     WHITE      F  A - Marked Patrol   \n",
       "2                       No     BLACK      F  A - Marked Patrol   \n",
       "3                       No     BLACK      M  A - Marked Patrol   \n",
       "6                       No  HISPANIC      M  A - Marked Patrol   \n",
       "10                      No     WHITE      M  A - Marked Patrol   \n",
       "\n",
       "                              Geolocation                time  \n",
       "1          (38.981725, -77.0927566666667) 2017-08-29 10:19:00  \n",
       "2   (39.1628883333333, -77.2290883333333) 2014-12-01 12:52:00  \n",
       "3          (39.056975, -76.9546333333333) 2017-08-29 09:22:00  \n",
       "6   (39.0933833333333, -77.0795516666667) 2013-10-08 13:23:00  \n",
       "10       (39.2348434333333, -77.28153995) 2014-02-14 20:10:00  "
      ]
     },
     "execution_count": 22,
     "metadata": {},
     "output_type": "execute_result"
    }
   ],
   "source": [
    "explore.head()"
   ]
  },
  {
   "cell_type": "code",
   "execution_count": 35,
   "id": "395fe2d8",
   "metadata": {},
   "outputs": [],
   "source": [
    "explore.set_index('time', inplace=True)\n",
    "explore.sort_index(inplace=True)\n",
    "\n",
    "explore['month'] = explore.index.strftime('%B')\n",
    "explore['day_of_week'] = explore.index.strftime('%A')\n",
    "explore['year'] = explore.index.strftime('%Y')\n",
    "explore['hour'] = explore.index.strftime('%H')"
   ]
  },
  {
   "cell_type": "code",
   "execution_count": 36,
   "id": "c78b06de",
   "metadata": {},
   "outputs": [
    {
     "data": {
      "text/html": [
       "<div>\n",
       "<style scoped>\n",
       "    .dataframe tbody tr th:only-of-type {\n",
       "        vertical-align: middle;\n",
       "    }\n",
       "\n",
       "    .dataframe tbody tr th {\n",
       "        vertical-align: top;\n",
       "    }\n",
       "\n",
       "    .dataframe thead th {\n",
       "        text-align: right;\n",
       "    }\n",
       "</style>\n",
       "<table border=\"1\" class=\"dataframe\">\n",
       "  <thead>\n",
       "    <tr style=\"text-align: right;\">\n",
       "      <th></th>\n",
       "      <th>Description</th>\n",
       "      <th>Location</th>\n",
       "      <th>Latitude</th>\n",
       "      <th>Longitude</th>\n",
       "      <th>Belts</th>\n",
       "      <th>Personal Injury</th>\n",
       "      <th>Property Damage</th>\n",
       "      <th>Alcohol</th>\n",
       "      <th>Violation Type</th>\n",
       "      <th>Contributed To Accident</th>\n",
       "      <th>Race</th>\n",
       "      <th>Gender</th>\n",
       "      <th>Arrest Type</th>\n",
       "      <th>Geolocation</th>\n",
       "      <th>month</th>\n",
       "      <th>day_of_week</th>\n",
       "      <th>year</th>\n",
       "      <th>hour</th>\n",
       "    </tr>\n",
       "    <tr>\n",
       "      <th>time</th>\n",
       "      <th></th>\n",
       "      <th></th>\n",
       "      <th></th>\n",
       "      <th></th>\n",
       "      <th></th>\n",
       "      <th></th>\n",
       "      <th></th>\n",
       "      <th></th>\n",
       "      <th></th>\n",
       "      <th></th>\n",
       "      <th></th>\n",
       "      <th></th>\n",
       "      <th></th>\n",
       "      <th></th>\n",
       "      <th></th>\n",
       "      <th></th>\n",
       "      <th></th>\n",
       "      <th></th>\n",
       "    </tr>\n",
       "  </thead>\n",
       "  <tbody>\n",
       "    <tr>\n",
       "      <th>2012-01-01 00:43:00</th>\n",
       "      <td>LEFT TURN FROM IMPROPER ROAD POSITION</td>\n",
       "      <td>FENTON AT CAMERON</td>\n",
       "      <td>39.001020</td>\n",
       "      <td>-77.033344</td>\n",
       "      <td>No</td>\n",
       "      <td>No</td>\n",
       "      <td>No</td>\n",
       "      <td>No</td>\n",
       "      <td>Warning</td>\n",
       "      <td>No</td>\n",
       "      <td>WHITE</td>\n",
       "      <td>M</td>\n",
       "      <td>A - Marked Patrol</td>\n",
       "      <td>(39.0010204333333, -77.0333436)</td>\n",
       "      <td>January</td>\n",
       "      <td>Sunday</td>\n",
       "      <td>2012</td>\n",
       "      <td>00</td>\n",
       "    </tr>\n",
       "    <tr>\n",
       "      <th>2012-01-01 01:48:00</th>\n",
       "      <td>OPERATING VEHICLE ON HIGHWAY WITH UNAUTHORIZED...</td>\n",
       "      <td>VEIRS MILL @ UNIVERSITY BLVD</td>\n",
       "      <td>39.039913</td>\n",
       "      <td>-77.055008</td>\n",
       "      <td>No</td>\n",
       "      <td>No</td>\n",
       "      <td>No</td>\n",
       "      <td>No</td>\n",
       "      <td>Warning</td>\n",
       "      <td>No</td>\n",
       "      <td>BLACK</td>\n",
       "      <td>F</td>\n",
       "      <td>A - Marked Patrol</td>\n",
       "      <td>(39.0399133333333, -77.0550082)</td>\n",
       "      <td>January</td>\n",
       "      <td>Sunday</td>\n",
       "      <td>2012</td>\n",
       "      <td>01</td>\n",
       "    </tr>\n",
       "    <tr>\n",
       "      <th>2012-01-01 01:48:00</th>\n",
       "      <td>DRIVER FAILURE TO STOP AT STOP SIGN LINE</td>\n",
       "      <td>VEIRS MILL @ UNIVERSITY BLVD</td>\n",
       "      <td>39.039913</td>\n",
       "      <td>-77.055008</td>\n",
       "      <td>No</td>\n",
       "      <td>No</td>\n",
       "      <td>No</td>\n",
       "      <td>No</td>\n",
       "      <td>Warning</td>\n",
       "      <td>No</td>\n",
       "      <td>BLACK</td>\n",
       "      <td>F</td>\n",
       "      <td>A - Marked Patrol</td>\n",
       "      <td>(39.0399133333333, -77.0550082)</td>\n",
       "      <td>January</td>\n",
       "      <td>Sunday</td>\n",
       "      <td>2012</td>\n",
       "      <td>01</td>\n",
       "    </tr>\n",
       "    <tr>\n",
       "      <th>2012-01-01 01:48:00</th>\n",
       "      <td>DRIVING VEHICLE ON HIGHWAY WITH SUSPENDED REGI...</td>\n",
       "      <td>VEIRS MILL @ UNIVERSITY BLVD</td>\n",
       "      <td>39.039913</td>\n",
       "      <td>-77.055008</td>\n",
       "      <td>No</td>\n",
       "      <td>No</td>\n",
       "      <td>No</td>\n",
       "      <td>No</td>\n",
       "      <td>Citation</td>\n",
       "      <td>No</td>\n",
       "      <td>BLACK</td>\n",
       "      <td>F</td>\n",
       "      <td>A - Marked Patrol</td>\n",
       "      <td>(39.0399133333333, -77.0550082)</td>\n",
       "      <td>January</td>\n",
       "      <td>Sunday</td>\n",
       "      <td>2012</td>\n",
       "      <td>01</td>\n",
       "    </tr>\n",
       "    <tr>\n",
       "      <th>2012-01-01 01:53:00</th>\n",
       "      <td>FAILURE TO STOP WHEN ENTERING HIGHWAY</td>\n",
       "      <td>20021 CENTURY BLV</td>\n",
       "      <td>39.184314</td>\n",
       "      <td>-77.261493</td>\n",
       "      <td>No</td>\n",
       "      <td>No</td>\n",
       "      <td>No</td>\n",
       "      <td>No</td>\n",
       "      <td>Warning</td>\n",
       "      <td>No</td>\n",
       "      <td>ASIAN</td>\n",
       "      <td>M</td>\n",
       "      <td>A - Marked Patrol</td>\n",
       "      <td>(39.1843143833333, -77.26149265)</td>\n",
       "      <td>January</td>\n",
       "      <td>Sunday</td>\n",
       "      <td>2012</td>\n",
       "      <td>01</td>\n",
       "    </tr>\n",
       "  </tbody>\n",
       "</table>\n",
       "</div>"
      ],
      "text/plain": [
       "                                                           Description  \\\n",
       "time                                                                     \n",
       "2012-01-01 00:43:00              LEFT TURN FROM IMPROPER ROAD POSITION   \n",
       "2012-01-01 01:48:00  OPERATING VEHICLE ON HIGHWAY WITH UNAUTHORIZED...   \n",
       "2012-01-01 01:48:00           DRIVER FAILURE TO STOP AT STOP SIGN LINE   \n",
       "2012-01-01 01:48:00  DRIVING VEHICLE ON HIGHWAY WITH SUSPENDED REGI...   \n",
       "2012-01-01 01:53:00              FAILURE TO STOP WHEN ENTERING HIGHWAY   \n",
       "\n",
       "                                         Location   Latitude  Longitude Belts  \\\n",
       "time                                                                            \n",
       "2012-01-01 00:43:00             FENTON AT CAMERON  39.001020 -77.033344    No   \n",
       "2012-01-01 01:48:00  VEIRS MILL @ UNIVERSITY BLVD  39.039913 -77.055008    No   \n",
       "2012-01-01 01:48:00  VEIRS MILL @ UNIVERSITY BLVD  39.039913 -77.055008    No   \n",
       "2012-01-01 01:48:00  VEIRS MILL @ UNIVERSITY BLVD  39.039913 -77.055008    No   \n",
       "2012-01-01 01:53:00             20021 CENTURY BLV  39.184314 -77.261493    No   \n",
       "\n",
       "                    Personal Injury Property Damage Alcohol Violation Type  \\\n",
       "time                                                                         \n",
       "2012-01-01 00:43:00              No              No      No        Warning   \n",
       "2012-01-01 01:48:00              No              No      No        Warning   \n",
       "2012-01-01 01:48:00              No              No      No        Warning   \n",
       "2012-01-01 01:48:00              No              No      No       Citation   \n",
       "2012-01-01 01:53:00              No              No      No        Warning   \n",
       "\n",
       "                    Contributed To Accident   Race Gender        Arrest Type  \\\n",
       "time                                                                           \n",
       "2012-01-01 00:43:00                      No  WHITE      M  A - Marked Patrol   \n",
       "2012-01-01 01:48:00                      No  BLACK      F  A - Marked Patrol   \n",
       "2012-01-01 01:48:00                      No  BLACK      F  A - Marked Patrol   \n",
       "2012-01-01 01:48:00                      No  BLACK      F  A - Marked Patrol   \n",
       "2012-01-01 01:53:00                      No  ASIAN      M  A - Marked Patrol   \n",
       "\n",
       "                                          Geolocation    month day_of_week  \\\n",
       "time                                                                         \n",
       "2012-01-01 00:43:00   (39.0010204333333, -77.0333436)  January      Sunday   \n",
       "2012-01-01 01:48:00   (39.0399133333333, -77.0550082)  January      Sunday   \n",
       "2012-01-01 01:48:00   (39.0399133333333, -77.0550082)  January      Sunday   \n",
       "2012-01-01 01:48:00   (39.0399133333333, -77.0550082)  January      Sunday   \n",
       "2012-01-01 01:53:00  (39.1843143833333, -77.26149265)  January      Sunday   \n",
       "\n",
       "                     year hour  \n",
       "time                            \n",
       "2012-01-01 00:43:00  2012   00  \n",
       "2012-01-01 01:48:00  2012   01  \n",
       "2012-01-01 01:48:00  2012   01  \n",
       "2012-01-01 01:48:00  2012   01  \n",
       "2012-01-01 01:53:00  2012   01  "
      ]
     },
     "execution_count": 36,
     "metadata": {},
     "output_type": "execute_result"
    }
   ],
   "source": [
    "explore.head()"
   ]
  },
  {
   "cell_type": "code",
   "execution_count": 44,
   "id": "bc12b8d5",
   "metadata": {},
   "outputs": [
    {
     "data": {
      "text/plain": [
       "<AxesSubplot:xlabel='day_of_week', ylabel='Count'>"
      ]
     },
     "execution_count": 44,
     "metadata": {},
     "output_type": "execute_result"
    },
    {
     "data": {
      "image/png": "[encoded data removed]",
      "text/plain": [
       "<Figure size 1296x576 with 1 Axes>"
      ]
     },
     "metadata": {
      "needs_background": "light"
     },
     "output_type": "display_data"
    }
   ],
   "source": [
    "sns.histplot(explore.day_of_week)"
   ]
  },
  {
   "cell_type": "code",
   "execution_count": 41,
   "id": "52848d03",
   "metadata": {},
   "outputs": [
    {
     "data": {
      "text/plain": [
       "<AxesSubplot:xlabel='month', ylabel='Count'>"
      ]
     },
     "execution_count": 41,
     "metadata": {},
     "output_type": "execute_result"
    },
    {
     "data": {
      "image/png": "[encoded data removed]",
      "text/plain": [
       "<Figure size 1296x576 with 1 Axes>"
      ]
     },
     "metadata": {
      "needs_background": "light"
     },
     "output_type": "display_data"
    }
   ],
   "source": [
    "sns.histplot(explore.month)"
   ]
  },
  {
   "cell_type": "code",
   "execution_count": 42,
   "id": "4c1f5164",
   "metadata": {},
   "outputs": [
    {
     "data": {
      "text/plain": [
       "<AxesSubplot:xlabel='year', ylabel='Count'>"
      ]
     },
     "execution_count": 42,
     "metadata": {},
     "output_type": "execute_result"
    },
    {
     "data": {
      "image/png": "[encoded data removed]",
      "text/plain": [
       "<Figure size 1296x576 with 1 Axes>"
      ]
     },
     "metadata": {
      "needs_background": "light"
     },
     "output_type": "display_data"
    }
   ],
   "source": [
    "sns.histplot(explore.year)"
   ]
  },
  {
   "cell_type": "code",
   "execution_count": 43,
   "id": "48cb10d5",
   "metadata": {},
   "outputs": [
    {
     "data": {
      "text/plain": [
       "<AxesSubplot:xlabel='hour', ylabel='Count'>"
      ]
     },
     "execution_count": 43,
     "metadata": {},
     "output_type": "execute_result"
    },
    {
     "data": {
      "image/png": "[encoded data removed]",
      "text/plain": [
       "<Figure size 1296x576 with 1 Axes>"
      ]
     },
     "metadata": {
      "needs_background": "light"
     },
     "output_type": "display_data"
    }
   ],
   "source": [
    "sns.histplot(explore.hour)"
   ]
  },
  {
   "cell_type": "code",
   "execution_count": 47,
   "id": "bef131d4",
   "metadata": {},
   "outputs": [
    {
     "data": {
      "text/plain": [
       "<AxesSubplot:xlabel='Latitude', ylabel='Longitude'>"
      ]
     },
     "execution_count": 47,
     "metadata": {},
     "output_type": "execute_result"
    },
    {
     "data": {
      "image/png": "[encoded data removed]",
      "text/plain": [
       "<Figure size 576x576 with 1 Axes>"
      ]
     },
     "metadata": {
      "needs_background": "light"
     },
     "output_type": "display_data"
    }
   ],
   "source": [
    "plt.figure(figsize=(8, 8))\n",
    "sns.scatterplot(x='Latitude', y='Longitude', data=explore, hue = 'Gender')\n"
   ]
  },
  {
   "cell_type": "code",
   "execution_count": null,
   "id": "8805c464",
   "metadata": {},
   "outputs": [],
   "source": []
  }
 ],
 "metadata": {
  "kernelspec": {
   "display_name": "Python 3 (ipykernel)",
   "language": "python",
   "name": "python3"
  },
  "language_info": {
   "codemirror_mode": {
    "name": "ipython",
    "version": 3
   },
   "file_extension": ".py",
   "mimetype": "text/x-python",
   "name": "python",
   "nbconvert_exporter": "python",
   "pygments_lexer": "ipython3",
   "version": "3.9.12"
  }
 },
 "nbformat": 4,
 "nbformat_minor": 5
}
